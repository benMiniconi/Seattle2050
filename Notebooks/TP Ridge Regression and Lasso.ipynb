{
 "cells": [
  {
   "cell_type": "code",
   "execution_count": 83,
   "id": "honest-target",
   "metadata": {},
   "outputs": [],
   "source": [
    "import pandas as pd \n",
    "import numpy as np \n",
    "from sklearn import preprocessing\n",
    "from sklearn.linear_model import RidgeCV\n",
    "from sklearn.metrics import fbeta_score\n",
    "from sklearn import linear_model"
   ]
  },
  {
   "cell_type": "code",
   "execution_count": 84,
   "id": "downtown-chase",
   "metadata": {},
   "outputs": [
    {
     "data": {
      "text/html": [
       "<div>\n",
       "<style scoped>\n",
       "    .dataframe tbody tr th:only-of-type {\n",
       "        vertical-align: middle;\n",
       "    }\n",
       "\n",
       "    .dataframe tbody tr th {\n",
       "        vertical-align: top;\n",
       "    }\n",
       "\n",
       "    .dataframe thead th {\n",
       "        text-align: right;\n",
       "    }\n",
       "</style>\n",
       "<table border=\"1\" class=\"dataframe\">\n",
       "  <thead>\n",
       "    <tr style=\"text-align: right;\">\n",
       "      <th></th>\n",
       "      <th>col</th>\n",
       "      <th>lcavol</th>\n",
       "      <th>lweight</th>\n",
       "      <th>age</th>\n",
       "      <th>lbph</th>\n",
       "      <th>svi</th>\n",
       "      <th>lcp</th>\n",
       "      <th>gleason</th>\n",
       "      <th>pgg45</th>\n",
       "      <th>lpsa</th>\n",
       "      <th>train</th>\n",
       "    </tr>\n",
       "  </thead>\n",
       "  <tbody>\n",
       "    <tr>\n",
       "      <th>0</th>\n",
       "      <td>1</td>\n",
       "      <td>-0.579818</td>\n",
       "      <td>2.769459</td>\n",
       "      <td>50</td>\n",
       "      <td>-1.386294</td>\n",
       "      <td>0</td>\n",
       "      <td>-1.386294</td>\n",
       "      <td>6</td>\n",
       "      <td>0</td>\n",
       "      <td>-0.430783</td>\n",
       "      <td>T</td>\n",
       "    </tr>\n",
       "    <tr>\n",
       "      <th>1</th>\n",
       "      <td>2</td>\n",
       "      <td>-0.994252</td>\n",
       "      <td>3.319626</td>\n",
       "      <td>58</td>\n",
       "      <td>-1.386294</td>\n",
       "      <td>0</td>\n",
       "      <td>-1.386294</td>\n",
       "      <td>6</td>\n",
       "      <td>0</td>\n",
       "      <td>-0.162519</td>\n",
       "      <td>T</td>\n",
       "    </tr>\n",
       "    <tr>\n",
       "      <th>2</th>\n",
       "      <td>3</td>\n",
       "      <td>-0.510826</td>\n",
       "      <td>2.691243</td>\n",
       "      <td>74</td>\n",
       "      <td>-1.386294</td>\n",
       "      <td>0</td>\n",
       "      <td>-1.386294</td>\n",
       "      <td>7</td>\n",
       "      <td>20</td>\n",
       "      <td>-0.162519</td>\n",
       "      <td>T</td>\n",
       "    </tr>\n",
       "    <tr>\n",
       "      <th>3</th>\n",
       "      <td>4</td>\n",
       "      <td>-1.203973</td>\n",
       "      <td>3.282789</td>\n",
       "      <td>58</td>\n",
       "      <td>-1.386294</td>\n",
       "      <td>0</td>\n",
       "      <td>-1.386294</td>\n",
       "      <td>6</td>\n",
       "      <td>0</td>\n",
       "      <td>-0.162519</td>\n",
       "      <td>T</td>\n",
       "    </tr>\n",
       "    <tr>\n",
       "      <th>4</th>\n",
       "      <td>5</td>\n",
       "      <td>0.751416</td>\n",
       "      <td>3.432373</td>\n",
       "      <td>62</td>\n",
       "      <td>-1.386294</td>\n",
       "      <td>0</td>\n",
       "      <td>-1.386294</td>\n",
       "      <td>6</td>\n",
       "      <td>0</td>\n",
       "      <td>0.371564</td>\n",
       "      <td>T</td>\n",
       "    </tr>\n",
       "  </tbody>\n",
       "</table>\n",
       "</div>"
      ],
      "text/plain": [
       "   col    lcavol   lweight  age      lbph  svi       lcp  gleason  pgg45  \\\n",
       "0    1 -0.579818  2.769459   50 -1.386294    0 -1.386294        6      0   \n",
       "1    2 -0.994252  3.319626   58 -1.386294    0 -1.386294        6      0   \n",
       "2    3 -0.510826  2.691243   74 -1.386294    0 -1.386294        7     20   \n",
       "3    4 -1.203973  3.282789   58 -1.386294    0 -1.386294        6      0   \n",
       "4    5  0.751416  3.432373   62 -1.386294    0 -1.386294        6      0   \n",
       "\n",
       "       lpsa train  \n",
       "0 -0.430783     T  \n",
       "1 -0.162519     T  \n",
       "2 -0.162519     T  \n",
       "3 -0.162519     T  \n",
       "4  0.371564     T  "
      ]
     },
     "execution_count": 84,
     "metadata": {},
     "output_type": "execute_result"
    }
   ],
   "source": [
    "cancerFrame = pd.read_csv(\"../DataSet/CancerDataSet.txt\", delimiter=\"\\t\")\n",
    "cancerFrame.head()"
   ]
  },
  {
   "cell_type": "markdown",
   "id": "smart-private",
   "metadata": {},
   "source": [
    "# On garde pour X les variables contenues dans les colonnes 1 à -3\n",
    "# On garde pour y les variables contenues dans -2"
   ]
  },
  {
   "cell_type": "code",
   "execution_count": 85,
   "id": "apart-blood",
   "metadata": {},
   "outputs": [],
   "source": [
    "X = cancerFrame.iloc[:,1 :-3]\n",
    "y = cancerFrame.iloc[:, -2]"
   ]
  },
  {
   "cell_type": "markdown",
   "id": "colonial-brook",
   "metadata": {},
   "source": [
    "## La regularisation permet d'éviter le sur apprentissage du modèle pour une regression linéaire \n",
    "\n",
    "On ajoute une fonction objective (la somme des carrés des erreurs appellée baseline) un temre de regularisation qui mesure la complexité du modèle. \n",
    "\n",
    "\n",
    "\n",
    "## Pour la regression Ridge la standardisation des valeurs est importante\n"
   ]
  },
  {
   "cell_type": "code",
   "execution_count": 123,
   "id": "normal-fruit",
   "metadata": {},
   "outputs": [],
   "source": [
    "X_reshape = np.array(X).reshape(-1, 1)\n",
    "std_scaler = preprocessing.StandardScaler().fit(X)\n",
    "X_std = std_scaler.transform(X)\n",
    "y_reshape = np.array(y).reshape(-1, 1)\n",
    "std_scaler = preprocessing.StandardScaler().fit(y_reshape)\n",
    "y_std = std_scaler.transform(y_reshape)"
   ]
  },
  {
   "cell_type": "code",
   "execution_count": 95,
   "id": "champion-figure",
   "metadata": {},
   "outputs": [],
   "source": [
    "from sklearn.model_selection import train_test_split\n",
    "X_train, X_test, y_train, y_test = train_test_split(X_std, y, test_size=0.25)"
   ]
  },
  {
   "cell_type": "code",
   "execution_count": 135,
   "id": "piano-momentum",
   "metadata": {},
   "outputs": [],
   "source": [
    "lnr = linear_model.LinearRegression()"
   ]
  },
  {
   "cell_type": "code",
   "execution_count": 134,
   "id": "corporate-pointer",
   "metadata": {},
   "outputs": [
    {
     "name": "stdout",
     "output_type": "stream",
     "text": [
      "beta 0.4287428793268911\n"
     ]
    }
   ],
   "source": [
    "lnr.fit(X_train, y_train)\n",
    "Xmean = np.mean(X_std)\n",
    "Ymean = np.mean(y_std)\n",
    "xycov = (X_std - Xmean) * (y_std-Ymean)\n",
    "xvar = (X_std - Xmean)**2\n",
    "beta = xycov.sum()/xvar.sum()\n",
    "#betaWithNp = np.polyfit(X_reshape.reshape(1,-1), y_reshape, 1)[0]\n",
    "print(\"beta\", beta)\n",
    "#print(\"betaWithNp\", betaWithNp)"
   ]
  },
  {
   "cell_type": "code",
   "execution_count": 98,
   "id": "decreased-absorption",
   "metadata": {},
   "outputs": [],
   "source": [
    "#erreur Quadratique au carré entre les données d'entrainement et de test \n",
    "baseline_error = np.mean((lnr.predict(X_test)-y_test) **2)"
   ]
  },
  {
   "cell_type": "code",
   "execution_count": 99,
   "id": "charming-generator",
   "metadata": {},
   "outputs": [
    {
     "data": {
      "text/plain": [
       "0.8519235969043882"
      ]
     },
     "execution_count": 99,
     "metadata": {},
     "output_type": "execute_result"
    }
   ],
   "source": [
    "baseline_error"
   ]
  },
  {
   "cell_type": "code",
   "execution_count": 100,
   "id": "finnish-tragedy",
   "metadata": {},
   "outputs": [],
   "source": [
    "# paramètre de regularisation \n",
    "n_alphas = 100\n",
    "alphas = np.logspace(-5, 5, n_alphas)\n",
    "coefs = []\n",
    "errors = []\n",
    "\n",
    "ridge = linear_model.Ridge()\n",
    "for a in alphas: \n",
    "    ridge.set_params(alpha=a)\n",
    "    ridge.fit(X_train, y_train)\n",
    "    errors.append(np.mean((ridge.predict(X_test)-y_test)**2))\n",
    "    coefs.append(ridge.coef_)\n"
   ]
  },
  {
   "cell_type": "code",
   "execution_count": 101,
   "id": "authorized-apple",
   "metadata": {},
   "outputs": [
    {
     "data": {
      "image/png": "[encoded data removed]",
      "text/plain": [
       "<Figure size 432x288 with 1 Axes>"
      ]
     },
     "metadata": {
      "needs_background": "light"
     },
     "output_type": "display_data"
    }
   ],
   "source": [
    "import matplotlib.pyplot as plt\n",
    "ax = plt.gca()\n",
    "ax.plot(alphas, errors, [10**-5, 10**5], [baseline_error, baseline_error])\n",
    "ax.plot(baseline_error)\n",
    "ax.set_xscale(\"log\")\n"
   ]
  },
  {
   "cell_type": "code",
   "execution_count": 136,
   "id": "dynamic-deficit",
   "metadata": {},
   "outputs": [
    {
     "data": {
      "text/plain": [
       "36.783797718286344"
      ]
     },
     "execution_count": 136,
     "metadata": {},
     "output_type": "execute_result"
    }
   ],
   "source": [
    "#index de l'erreur la plus petite\n",
    "errorsIndex = np.argmin(errors)\n",
    "#valeur de l'erreur la plus petite \n",
    "errors[errorsIndex]\n",
    "#coefficient alpha associé \n",
    "alphas[errorsIndex]"
   ]
  },
  {
   "cell_type": "code",
   "execution_count": 107,
   "id": "monthly-shift",
   "metadata": {},
   "outputs": [
    {
     "data": {
      "image/png": "[encoded data removed]",
      "text/plain": [
       "<Figure size 432x288 with 1 Axes>"
      ]
     },
     "metadata": {
      "needs_background": "light"
     },
     "output_type": "display_data"
    }
   ],
   "source": [
    "## chemin de regularisation \n",
    "chemin = plt.gca()\n",
    "chemin.plot(alphas, coefs)\n",
    "chemin.set_xscale(\"log\")"
   ]
  },
  {
   "cell_type": "code",
   "execution_count": 108,
   "id": "analyzed-compression",
   "metadata": {},
   "outputs": [],
   "source": [
    "#beta est en ordonnée et la solution de la regularisation est quand beta = 0"
   ]
  },
  {
   "cell_type": "markdown",
   "id": "coordinate-journalism",
   "metadata": {},
   "source": [
    "### Modèle Partimonieux pouvant mettre la ponderation de certaines varibles à zero\n",
    "Lasso Least Absolute Shrinkage and Selection operator"
   ]
  },
  {
   "cell_type": "code",
   "execution_count": 147,
   "id": "dangerous-location",
   "metadata": {},
   "outputs": [],
   "source": [
    "lasso = linear_model.Lasso()\n",
    "\n",
    "# paramètre de regularisation \n",
    "n_alphas = 100\n",
    "alphas = np.logspace(-5, 5, n_alphas)\n",
    "coefs = []\n",
    "errors = []\n",
    "\n",
    "for a in alphas: \n",
    "    lasso.set_params(alpha=a)\n",
    "    lasso.fit(X_train, y_train)\n",
    "    coefs.append(lasso.coef_)\n",
    "    errors.append([baseline_error, (np.mean(lasso.predict(X_test) - y_test)**2)])\n",
    "    "
   ]
  },
  {
   "cell_type": "code",
   "execution_count": 148,
   "id": "agreed-instrument",
   "metadata": {},
   "outputs": [
    {
     "data": {
      "image/png": "[encoded data removed]",
      "text/plain": [
       "<Figure size 432x288 with 1 Axes>"
      ]
     },
     "metadata": {
      "needs_background": "light"
     },
     "output_type": "display_data"
    }
   ],
   "source": [
    "## chemin de regularisation \n",
    "chemin = plt.gca()\n",
    "chemin.plot(alphas, coefs)\n",
    "chemin.set_xscale(\"log\")"
   ]
  },
  {
   "cell_type": "code",
   "execution_count": 149,
   "id": "drawn-pottery",
   "metadata": {},
   "outputs": [
    {
     "data": {
      "image/png": "[encoded data removed]",
      "text/plain": [
       "<Figure size 432x288 with 1 Axes>"
      ]
     },
     "metadata": {
      "needs_background": "light"
     },
     "output_type": "display_data"
    }
   ],
   "source": [
    "graph = plt.gca()\n",
    "graph.plot(alphas, errors)\n",
    "graph.set_xscale(\"log\")"
   ]
  },
  {
   "cell_type": "code",
   "execution_count": null,
   "id": "documentary-surrey",
   "metadata": {},
   "outputs": [],
   "source": []
  }
 ],
 "metadata": {
  "kernelspec": {
   "display_name": "Python 3",
   "language": "python",
   "name": "python3"
  },
  "language_info": {
   "codemirror_mode": {
    "name": "ipython",
    "version": 3
   },
   "file_extension": ".py",
   "mimetype": "text/x-python",
   "name": "python",
   "nbconvert_exporter": "python",
   "pygments_lexer": "ipython3",
   "version": "3.8.2"
  }
 },
 "nbformat": 4,
 "nbformat_minor": 5
}
