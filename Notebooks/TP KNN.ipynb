{
 "cells": [
  {
   "cell_type": "code",
   "execution_count": 1,
   "id": "south-rebound",
   "metadata": {},
   "outputs": [],
   "source": [
    "# Découpage du jeu de données en fold (k)"
   ]
  },
  {
   "cell_type": "code",
   "execution_count": 1,
   "id": "soviet-completion",
   "metadata": {},
   "outputs": [
    {
     "name": "stdout",
     "output_type": "stream",
     "text": [
      "Populating the interactive namespace from numpy and matplotlib\n"
     ]
    }
   ],
   "source": [
    "import pandas as pd\n",
    "%pylab inline"
   ]
  },
  {
   "cell_type": "code",
   "execution_count": 2,
   "id": "piano-finance",
   "metadata": {},
   "outputs": [],
   "source": [
    "wineSet = pd.read_csv(\"../DataSet/winequality-white.csv\", delimiter=\";\", decimal=\".\")"
   ]
  },
  {
   "cell_type": "code",
   "execution_count": 3,
   "id": "proof-citation",
   "metadata": {},
   "outputs": [
    {
     "data": {
      "text/html": [
       "<div>\n",
       "<style scoped>\n",
       "    .dataframe tbody tr th:only-of-type {\n",
       "        vertical-align: middle;\n",
       "    }\n",
       "\n",
       "    .dataframe tbody tr th {\n",
       "        vertical-align: top;\n",
       "    }\n",
       "\n",
       "    .dataframe thead th {\n",
       "        text-align: right;\n",
       "    }\n",
       "</style>\n",
       "<table border=\"1\" class=\"dataframe\">\n",
       "  <thead>\n",
       "    <tr style=\"text-align: right;\">\n",
       "      <th></th>\n",
       "      <th>fixed acidity</th>\n",
       "      <th>volatile acidity</th>\n",
       "      <th>citric acid</th>\n",
       "      <th>residual sugar</th>\n",
       "      <th>chlorides</th>\n",
       "      <th>free sulfur dioxide</th>\n",
       "      <th>total sulfur dioxide</th>\n",
       "      <th>density</th>\n",
       "      <th>pH</th>\n",
       "      <th>sulphates</th>\n",
       "      <th>alcohol</th>\n",
       "      <th>quality</th>\n",
       "    </tr>\n",
       "  </thead>\n",
       "  <tbody>\n",
       "    <tr>\n",
       "      <th>0</th>\n",
       "      <td>7.0</td>\n",
       "      <td>0.27</td>\n",
       "      <td>0.36</td>\n",
       "      <td>20.7</td>\n",
       "      <td>0.045</td>\n",
       "      <td>45.0</td>\n",
       "      <td>170.0</td>\n",
       "      <td>1.00100</td>\n",
       "      <td>3.00</td>\n",
       "      <td>0.45</td>\n",
       "      <td>8.8</td>\n",
       "      <td>6</td>\n",
       "    </tr>\n",
       "    <tr>\n",
       "      <th>1</th>\n",
       "      <td>6.3</td>\n",
       "      <td>0.30</td>\n",
       "      <td>0.34</td>\n",
       "      <td>1.6</td>\n",
       "      <td>0.049</td>\n",
       "      <td>14.0</td>\n",
       "      <td>132.0</td>\n",
       "      <td>0.99400</td>\n",
       "      <td>3.30</td>\n",
       "      <td>0.49</td>\n",
       "      <td>9.5</td>\n",
       "      <td>6</td>\n",
       "    </tr>\n",
       "    <tr>\n",
       "      <th>2</th>\n",
       "      <td>8.1</td>\n",
       "      <td>0.28</td>\n",
       "      <td>0.40</td>\n",
       "      <td>6.9</td>\n",
       "      <td>0.050</td>\n",
       "      <td>30.0</td>\n",
       "      <td>97.0</td>\n",
       "      <td>0.99510</td>\n",
       "      <td>3.26</td>\n",
       "      <td>0.44</td>\n",
       "      <td>10.1</td>\n",
       "      <td>6</td>\n",
       "    </tr>\n",
       "    <tr>\n",
       "      <th>3</th>\n",
       "      <td>7.2</td>\n",
       "      <td>0.23</td>\n",
       "      <td>0.32</td>\n",
       "      <td>8.5</td>\n",
       "      <td>0.058</td>\n",
       "      <td>47.0</td>\n",
       "      <td>186.0</td>\n",
       "      <td>0.99560</td>\n",
       "      <td>3.19</td>\n",
       "      <td>0.40</td>\n",
       "      <td>9.9</td>\n",
       "      <td>6</td>\n",
       "    </tr>\n",
       "    <tr>\n",
       "      <th>4</th>\n",
       "      <td>7.2</td>\n",
       "      <td>0.23</td>\n",
       "      <td>0.32</td>\n",
       "      <td>8.5</td>\n",
       "      <td>0.058</td>\n",
       "      <td>47.0</td>\n",
       "      <td>186.0</td>\n",
       "      <td>0.99560</td>\n",
       "      <td>3.19</td>\n",
       "      <td>0.40</td>\n",
       "      <td>9.9</td>\n",
       "      <td>6</td>\n",
       "    </tr>\n",
       "    <tr>\n",
       "      <th>...</th>\n",
       "      <td>...</td>\n",
       "      <td>...</td>\n",
       "      <td>...</td>\n",
       "      <td>...</td>\n",
       "      <td>...</td>\n",
       "      <td>...</td>\n",
       "      <td>...</td>\n",
       "      <td>...</td>\n",
       "      <td>...</td>\n",
       "      <td>...</td>\n",
       "      <td>...</td>\n",
       "      <td>...</td>\n",
       "    </tr>\n",
       "    <tr>\n",
       "      <th>4893</th>\n",
       "      <td>6.2</td>\n",
       "      <td>0.21</td>\n",
       "      <td>0.29</td>\n",
       "      <td>1.6</td>\n",
       "      <td>0.039</td>\n",
       "      <td>24.0</td>\n",
       "      <td>92.0</td>\n",
       "      <td>0.99114</td>\n",
       "      <td>3.27</td>\n",
       "      <td>0.50</td>\n",
       "      <td>11.2</td>\n",
       "      <td>6</td>\n",
       "    </tr>\n",
       "    <tr>\n",
       "      <th>4894</th>\n",
       "      <td>6.6</td>\n",
       "      <td>0.32</td>\n",
       "      <td>0.36</td>\n",
       "      <td>8.0</td>\n",
       "      <td>0.047</td>\n",
       "      <td>57.0</td>\n",
       "      <td>168.0</td>\n",
       "      <td>0.99490</td>\n",
       "      <td>3.15</td>\n",
       "      <td>0.46</td>\n",
       "      <td>9.6</td>\n",
       "      <td>5</td>\n",
       "    </tr>\n",
       "    <tr>\n",
       "      <th>4895</th>\n",
       "      <td>6.5</td>\n",
       "      <td>0.24</td>\n",
       "      <td>0.19</td>\n",
       "      <td>1.2</td>\n",
       "      <td>0.041</td>\n",
       "      <td>30.0</td>\n",
       "      <td>111.0</td>\n",
       "      <td>0.99254</td>\n",
       "      <td>2.99</td>\n",
       "      <td>0.46</td>\n",
       "      <td>9.4</td>\n",
       "      <td>6</td>\n",
       "    </tr>\n",
       "    <tr>\n",
       "      <th>4896</th>\n",
       "      <td>5.5</td>\n",
       "      <td>0.29</td>\n",
       "      <td>0.30</td>\n",
       "      <td>1.1</td>\n",
       "      <td>0.022</td>\n",
       "      <td>20.0</td>\n",
       "      <td>110.0</td>\n",
       "      <td>0.98869</td>\n",
       "      <td>3.34</td>\n",
       "      <td>0.38</td>\n",
       "      <td>12.8</td>\n",
       "      <td>7</td>\n",
       "    </tr>\n",
       "    <tr>\n",
       "      <th>4897</th>\n",
       "      <td>6.0</td>\n",
       "      <td>0.21</td>\n",
       "      <td>0.38</td>\n",
       "      <td>0.8</td>\n",
       "      <td>0.020</td>\n",
       "      <td>22.0</td>\n",
       "      <td>98.0</td>\n",
       "      <td>0.98941</td>\n",
       "      <td>3.26</td>\n",
       "      <td>0.32</td>\n",
       "      <td>11.8</td>\n",
       "      <td>6</td>\n",
       "    </tr>\n",
       "  </tbody>\n",
       "</table>\n",
       "<p>4898 rows × 12 columns</p>\n",
       "</div>"
      ],
      "text/plain": [
       "      fixed acidity  volatile acidity  citric acid  residual sugar  chlorides  \\\n",
       "0               7.0              0.27         0.36            20.7      0.045   \n",
       "1               6.3              0.30         0.34             1.6      0.049   \n",
       "2               8.1              0.28         0.40             6.9      0.050   \n",
       "3               7.2              0.23         0.32             8.5      0.058   \n",
       "4               7.2              0.23         0.32             8.5      0.058   \n",
       "...             ...               ...          ...             ...        ...   \n",
       "4893            6.2              0.21         0.29             1.6      0.039   \n",
       "4894            6.6              0.32         0.36             8.0      0.047   \n",
       "4895            6.5              0.24         0.19             1.2      0.041   \n",
       "4896            5.5              0.29         0.30             1.1      0.022   \n",
       "4897            6.0              0.21         0.38             0.8      0.020   \n",
       "\n",
       "      free sulfur dioxide  total sulfur dioxide  density    pH  sulphates  \\\n",
       "0                    45.0                 170.0  1.00100  3.00       0.45   \n",
       "1                    14.0                 132.0  0.99400  3.30       0.49   \n",
       "2                    30.0                  97.0  0.99510  3.26       0.44   \n",
       "3                    47.0                 186.0  0.99560  3.19       0.40   \n",
       "4                    47.0                 186.0  0.99560  3.19       0.40   \n",
       "...                   ...                   ...      ...   ...        ...   \n",
       "4893                 24.0                  92.0  0.99114  3.27       0.50   \n",
       "4894                 57.0                 168.0  0.99490  3.15       0.46   \n",
       "4895                 30.0                 111.0  0.99254  2.99       0.46   \n",
       "4896                 20.0                 110.0  0.98869  3.34       0.38   \n",
       "4897                 22.0                  98.0  0.98941  3.26       0.32   \n",
       "\n",
       "      alcohol  quality  \n",
       "0         8.8        6  \n",
       "1         9.5        6  \n",
       "2        10.1        6  \n",
       "3         9.9        6  \n",
       "4         9.9        6  \n",
       "...       ...      ...  \n",
       "4893     11.2        6  \n",
       "4894      9.6        5  \n",
       "4895      9.4        6  \n",
       "4896     12.8        7  \n",
       "4897     11.8        6  \n",
       "\n",
       "[4898 rows x 12 columns]"
      ]
     },
     "execution_count": 3,
     "metadata": {},
     "output_type": "execute_result"
    }
   ],
   "source": [
    "wineSet"
   ]
  },
  {
   "cell_type": "code",
   "execution_count": 4,
   "id": "hundred-dynamics",
   "metadata": {},
   "outputs": [
    {
     "data": {
      "text/plain": [
       "(4898, 12)"
      ]
     },
     "execution_count": 4,
     "metadata": {},
     "output_type": "execute_result"
    }
   ],
   "source": [
    "### Check the columns\n",
    "wineSet.shape"
   ]
  },
  {
   "cell_type": "code",
   "execution_count": 5,
   "id": "portuguese-andrews",
   "metadata": {},
   "outputs": [
    {
     "data": {
      "text/plain": [
       "(4898, 11)"
      ]
     },
     "execution_count": 5,
     "metadata": {},
     "output_type": "execute_result"
    }
   ],
   "source": [
    "#on garde toutes les colonnes sauf la dernière pour X \n",
    "# on passe les colonnes concernées en array numpy \n",
    "\n",
    "X = wineSet[wineSet.columns[:-1]].values\n",
    "X.shape"
   ]
  },
  {
   "cell_type": "code",
   "execution_count": 6,
   "id": "worldwide-allowance",
   "metadata": {},
   "outputs": [
    {
     "data": {
      "text/plain": [
       "(4898,)"
      ]
     },
     "execution_count": 6,
     "metadata": {},
     "output_type": "execute_result"
    }
   ],
   "source": [
    "y = wineSet['quality'].values\n",
    "y.shape"
   ]
  },
  {
   "cell_type": "code",
   "execution_count": 7,
   "id": "accredited-alabama",
   "metadata": {},
   "outputs": [
    {
     "data": {
      "image/png": "[encoded data removed]",
      "text/plain": [
       "<Figure size 1080x1080 with 11 Axes>"
      ]
     },
     "metadata": {
      "needs_background": "light"
     },
     "output_type": "display_data"
    }
   ],
   "source": [
    "##add subplots to the section \n",
    "hist = plt.figure(figsize=(15, 15))\n",
    "columnList = list(wineSet.columns.values)[:-1]\n",
    "#fig, (ax1, ax2) = plt.subplots(2, 1)\n",
    "for columnKey in range(len(columnList)): \n",
    "    ax = hist.add_subplot(3, 4, (columnKey+1))\n",
    "    column = columnList[columnKey]\n",
    "    ndValues = wineSet[wineSet.columns.values[columnKey]].values\n",
    "    ax.hist(ndValues , label=str(wineSet.columns.values[columnKey]),  bins=50, color='lightblue', alpha=0.5)\n",
    "    ax.set_title(str(wineSet.columns.values[columnKey]))\n",
    "    #g = wineSet[column].plot.hist(label=column, figsize=(10,10), color='lightblue', alpha=0.5, bins=50, density=True)\n",
    "    #plt.show()"
   ]
  },
  {
   "cell_type": "code",
   "execution_count": 9,
   "id": "wicked-housing",
   "metadata": {},
   "outputs": [],
   "source": [
    "#separation des bons vins de moins bons. \n",
    "# si les valeurs sont < 6 elles seront remplacées par 0 sinon 1 \n",
    "y_class = np.where(y<6, 0, 1)"
   ]
  },
  {
   "cell_type": "code",
   "execution_count": 10,
   "id": "varying-johnson",
   "metadata": {},
   "outputs": [
    {
     "data": {
      "text/plain": [
       "array([1, 1, 1, ..., 1, 1, 1])"
      ]
     },
     "execution_count": 10,
     "metadata": {},
     "output_type": "execute_result"
    }
   ],
   "source": [
    "y_class\n"
   ]
  },
  {
   "cell_type": "code",
   "execution_count": 11,
   "id": "micro-paint",
   "metadata": {},
   "outputs": [],
   "source": [
    "from sklearn import model_selection\n",
    "X_train, X_test, y_train, y_test = model_selection.train_test_split(X, y_class, test_size=0.3)"
   ]
  },
  {
   "cell_type": "code",
   "execution_count": 12,
   "id": "arbitrary-phase",
   "metadata": {},
   "outputs": [],
   "source": [
    "from sklearn import preprocessing\n",
    "std_scale = preprocessing.StandardScaler().fit(X_train)\n",
    "#mettre les valeurs sur un ordre de grandeur similaire. \n",
    "X_train_std = std_scale.transform(X_train)\n",
    "X_test_std = std_scale.transform(X_test)"
   ]
  },
  {
   "cell_type": "code",
   "execution_count": 13,
   "id": "noticed-element",
   "metadata": {},
   "outputs": [],
   "source": [
    "#todo faire la même chose en passant par pandas puis values et numpy pour le filtre. "
   ]
  },
  {
   "cell_type": "code",
   "execution_count": 14,
   "id": "piano-aruba",
   "metadata": {},
   "outputs": [
    {
     "data": {
      "image/png": "[encoded data removed]",
      "text/plain": [
       "<Figure size 1080x1080 with 11 Axes>"
      ]
     },
     "metadata": {
      "needs_background": "light"
     },
     "output_type": "display_data"
    }
   ],
   "source": [
    "hist = plt.figure(figsize=(15, 15))\n",
    "for columnIndex in range(X_train_std.shape[1]):\n",
    "    #print(columnIndex)\n",
    "    #print(wineSet.columns.values[columnIndex])\n",
    "    #figsize(10, 10))\n",
    "    adjustedColumnIndex = int((columnIndex+1)/3)\n",
    "    ax = hist.add_subplot(3, 4, (columnIndex+1))#, adjustedColumnIndex+1)\n",
    "\n",
    "    ax.hist(X_train_std[:, columnIndex], label=str(wineSet.columns.values[columnIndex]),  bins=50, color='lightblue', alpha=0.5)\n",
    "    ax.set_title(str(wineSet.columns.values[columnIndex]))"
   ]
  },
  {
   "cell_type": "code",
   "execution_count": 15,
   "id": "spiritual-distributor",
   "metadata": {},
   "outputs": [
    {
     "name": "stdout",
     "output_type": "stream",
     "text": [
      "Meilleur(s) hyperparamètre(s) sur le jeu d'entraînement:\n",
      "{'n_neighbors': 3}\n",
      "Résultats de la validation croisée :\n",
      "accuracy = 0.760 (+/-0.037) for {'n_neighbors': 3}\n",
      "accuracy = 0.750 (+/-0.038) for {'n_neighbors': 5}\n",
      "accuracy = 0.753 (+/-0.025) for {'n_neighbors': 7}\n",
      "accuracy = 0.759 (+/-0.024) for {'n_neighbors': 9}\n",
      "accuracy = 0.759 (+/-0.024) for {'n_neighbors': 11}\n",
      "accuracy = 0.758 (+/-0.034) for {'n_neighbors': 13}\n",
      "accuracy = 0.757 (+/-0.030) for {'n_neighbors': 15}\n"
     ]
    }
   ],
   "source": [
    "from sklearn import neighbors, metrics\n",
    "# Fixer les valeurs des hyperparamètres à tester\n",
    "param_grid = {'n_neighbors':[3, 5, 7, 9, 11, 13, 15]}\n",
    "\n",
    "# Choisir un score à optimiser, ici l'accuracy (proportion de prédictions correctes)\n",
    "score = 'accuracy'\n",
    "\n",
    "# Créer un classifieur kNN avec recherche d'hyperparamètre par validation croisée\n",
    "clf = model_selection.GridSearchCV(\n",
    "    neighbors.KNeighborsClassifier(), # un classifieur kNN\n",
    "    param_grid,     # hyperparamètres à tester\n",
    "    cv=5,           # nombre de folds de validation croisée\n",
    "    scoring=score   # score à optimiser\n",
    ")\n",
    "\n",
    "# Optimiser ce classifieur sur le jeu d'entraînement\n",
    "clf.fit(X_train_std, y_train)\n",
    "\n",
    "# Afficher le(s) hyperparamètre(s) optimaux\n",
    "print(\"Meilleur(s) hyperparamètre(s) sur le jeu d'entraînement:\")\n",
    "print(clf.best_params_)\n",
    "\n",
    "# Afficher les performances correspondantes\n",
    "print(\"Résultats de la validation croisée :\")\n",
    "for mean, std, params in zip(\n",
    "        clf.cv_results_['mean_test_score'], # score moyen\n",
    "        clf.cv_results_['std_test_score'],  # écart-type du score\n",
    "        clf.cv_results_['params']           # valeur de l'hyperparamètre\n",
    "    ):\n",
    "\n",
    "    print(\"{} = {:.3f} (+/-{:.03f}) for {}\".format(\n",
    "        score,\n",
    "        mean,\n",
    "        std*2,\n",
    "        params\n",
    "    ) )\n"
   ]
  },
  {
   "cell_type": "code",
   "execution_count": 16,
   "id": "continuous-capture",
   "metadata": {},
   "outputs": [
    {
     "name": "stdout",
     "output_type": "stream",
     "text": [
      "\n",
      "Sur le jeu de test : 0.767\n"
     ]
    }
   ],
   "source": [
    "y_pred = clf.predict(X_test_std)\n",
    "print(\"\\nSur le jeu de test : {:.3f}\".format(metrics.accuracy_score(y_test, y_pred)))"
   ]
  },
  {
   "cell_type": "code",
   "execution_count": 17,
   "id": "normal-peeing",
   "metadata": {},
   "outputs": [
    {
     "name": "stdout",
     "output_type": "stream",
     "text": [
      "\n",
      "Sur le jeu de test : 0.767\n"
     ]
    }
   ],
   "source": [
    "y_pred = clf.predict(X_test_std)\n",
    "print(\"\\nSur le jeu de test : {:.3f}\".format(metrics.accuracy_score(y_test, y_pred)))\n"
   ]
  },
  {
   "cell_type": "code",
   "execution_count": 18,
   "id": "outdoor-frank",
   "metadata": {},
   "outputs": [
    {
     "data": {
      "text/html": [
       "<div>\n",
       "<style scoped>\n",
       "    .dataframe tbody tr th:only-of-type {\n",
       "        vertical-align: middle;\n",
       "    }\n",
       "\n",
       "    .dataframe tbody tr th {\n",
       "        vertical-align: top;\n",
       "    }\n",
       "\n",
       "    .dataframe thead th {\n",
       "        text-align: right;\n",
       "    }\n",
       "</style>\n",
       "<table border=\"1\" class=\"dataframe\">\n",
       "  <thead>\n",
       "    <tr style=\"text-align: right;\">\n",
       "      <th></th>\n",
       "      <th>fixed acidity</th>\n",
       "      <th>volatile acidity</th>\n",
       "      <th>citric acid</th>\n",
       "      <th>residual sugar</th>\n",
       "      <th>chlorides</th>\n",
       "      <th>free sulfur dioxide</th>\n",
       "      <th>total sulfur dioxide</th>\n",
       "      <th>density</th>\n",
       "      <th>pH</th>\n",
       "      <th>sulphates</th>\n",
       "      <th>alcohol</th>\n",
       "      <th>quality</th>\n",
       "    </tr>\n",
       "  </thead>\n",
       "  <tbody>\n",
       "    <tr>\n",
       "      <th>0</th>\n",
       "      <td>7.0</td>\n",
       "      <td>0.27</td>\n",
       "      <td>0.36</td>\n",
       "      <td>20.7</td>\n",
       "      <td>0.045</td>\n",
       "      <td>45.0</td>\n",
       "      <td>170.0</td>\n",
       "      <td>1.00100</td>\n",
       "      <td>3.00</td>\n",
       "      <td>0.45</td>\n",
       "      <td>8.8</td>\n",
       "      <td>6</td>\n",
       "    </tr>\n",
       "    <tr>\n",
       "      <th>1</th>\n",
       "      <td>6.3</td>\n",
       "      <td>0.30</td>\n",
       "      <td>0.34</td>\n",
       "      <td>1.6</td>\n",
       "      <td>0.049</td>\n",
       "      <td>14.0</td>\n",
       "      <td>132.0</td>\n",
       "      <td>0.99400</td>\n",
       "      <td>3.30</td>\n",
       "      <td>0.49</td>\n",
       "      <td>9.5</td>\n",
       "      <td>6</td>\n",
       "    </tr>\n",
       "    <tr>\n",
       "      <th>2</th>\n",
       "      <td>8.1</td>\n",
       "      <td>0.28</td>\n",
       "      <td>0.40</td>\n",
       "      <td>6.9</td>\n",
       "      <td>0.050</td>\n",
       "      <td>30.0</td>\n",
       "      <td>97.0</td>\n",
       "      <td>0.99510</td>\n",
       "      <td>3.26</td>\n",
       "      <td>0.44</td>\n",
       "      <td>10.1</td>\n",
       "      <td>6</td>\n",
       "    </tr>\n",
       "    <tr>\n",
       "      <th>3</th>\n",
       "      <td>7.2</td>\n",
       "      <td>0.23</td>\n",
       "      <td>0.32</td>\n",
       "      <td>8.5</td>\n",
       "      <td>0.058</td>\n",
       "      <td>47.0</td>\n",
       "      <td>186.0</td>\n",
       "      <td>0.99560</td>\n",
       "      <td>3.19</td>\n",
       "      <td>0.40</td>\n",
       "      <td>9.9</td>\n",
       "      <td>6</td>\n",
       "    </tr>\n",
       "    <tr>\n",
       "      <th>4</th>\n",
       "      <td>7.2</td>\n",
       "      <td>0.23</td>\n",
       "      <td>0.32</td>\n",
       "      <td>8.5</td>\n",
       "      <td>0.058</td>\n",
       "      <td>47.0</td>\n",
       "      <td>186.0</td>\n",
       "      <td>0.99560</td>\n",
       "      <td>3.19</td>\n",
       "      <td>0.40</td>\n",
       "      <td>9.9</td>\n",
       "      <td>6</td>\n",
       "    </tr>\n",
       "    <tr>\n",
       "      <th>...</th>\n",
       "      <td>...</td>\n",
       "      <td>...</td>\n",
       "      <td>...</td>\n",
       "      <td>...</td>\n",
       "      <td>...</td>\n",
       "      <td>...</td>\n",
       "      <td>...</td>\n",
       "      <td>...</td>\n",
       "      <td>...</td>\n",
       "      <td>...</td>\n",
       "      <td>...</td>\n",
       "      <td>...</td>\n",
       "    </tr>\n",
       "    <tr>\n",
       "      <th>4893</th>\n",
       "      <td>6.2</td>\n",
       "      <td>0.21</td>\n",
       "      <td>0.29</td>\n",
       "      <td>1.6</td>\n",
       "      <td>0.039</td>\n",
       "      <td>24.0</td>\n",
       "      <td>92.0</td>\n",
       "      <td>0.99114</td>\n",
       "      <td>3.27</td>\n",
       "      <td>0.50</td>\n",
       "      <td>11.2</td>\n",
       "      <td>6</td>\n",
       "    </tr>\n",
       "    <tr>\n",
       "      <th>4894</th>\n",
       "      <td>6.6</td>\n",
       "      <td>0.32</td>\n",
       "      <td>0.36</td>\n",
       "      <td>8.0</td>\n",
       "      <td>0.047</td>\n",
       "      <td>57.0</td>\n",
       "      <td>168.0</td>\n",
       "      <td>0.99490</td>\n",
       "      <td>3.15</td>\n",
       "      <td>0.46</td>\n",
       "      <td>9.6</td>\n",
       "      <td>5</td>\n",
       "    </tr>\n",
       "    <tr>\n",
       "      <th>4895</th>\n",
       "      <td>6.5</td>\n",
       "      <td>0.24</td>\n",
       "      <td>0.19</td>\n",
       "      <td>1.2</td>\n",
       "      <td>0.041</td>\n",
       "      <td>30.0</td>\n",
       "      <td>111.0</td>\n",
       "      <td>0.99254</td>\n",
       "      <td>2.99</td>\n",
       "      <td>0.46</td>\n",
       "      <td>9.4</td>\n",
       "      <td>6</td>\n",
       "    </tr>\n",
       "    <tr>\n",
       "      <th>4896</th>\n",
       "      <td>5.5</td>\n",
       "      <td>0.29</td>\n",
       "      <td>0.30</td>\n",
       "      <td>1.1</td>\n",
       "      <td>0.022</td>\n",
       "      <td>20.0</td>\n",
       "      <td>110.0</td>\n",
       "      <td>0.98869</td>\n",
       "      <td>3.34</td>\n",
       "      <td>0.38</td>\n",
       "      <td>12.8</td>\n",
       "      <td>7</td>\n",
       "    </tr>\n",
       "    <tr>\n",
       "      <th>4897</th>\n",
       "      <td>6.0</td>\n",
       "      <td>0.21</td>\n",
       "      <td>0.38</td>\n",
       "      <td>0.8</td>\n",
       "      <td>0.020</td>\n",
       "      <td>22.0</td>\n",
       "      <td>98.0</td>\n",
       "      <td>0.98941</td>\n",
       "      <td>3.26</td>\n",
       "      <td>0.32</td>\n",
       "      <td>11.8</td>\n",
       "      <td>6</td>\n",
       "    </tr>\n",
       "  </tbody>\n",
       "</table>\n",
       "<p>4898 rows × 12 columns</p>\n",
       "</div>"
      ],
      "text/plain": [
       "      fixed acidity  volatile acidity  citric acid  residual sugar  chlorides  \\\n",
       "0               7.0              0.27         0.36            20.7      0.045   \n",
       "1               6.3              0.30         0.34             1.6      0.049   \n",
       "2               8.1              0.28         0.40             6.9      0.050   \n",
       "3               7.2              0.23         0.32             8.5      0.058   \n",
       "4               7.2              0.23         0.32             8.5      0.058   \n",
       "...             ...               ...          ...             ...        ...   \n",
       "4893            6.2              0.21         0.29             1.6      0.039   \n",
       "4894            6.6              0.32         0.36             8.0      0.047   \n",
       "4895            6.5              0.24         0.19             1.2      0.041   \n",
       "4896            5.5              0.29         0.30             1.1      0.022   \n",
       "4897            6.0              0.21         0.38             0.8      0.020   \n",
       "\n",
       "      free sulfur dioxide  total sulfur dioxide  density    pH  sulphates  \\\n",
       "0                    45.0                 170.0  1.00100  3.00       0.45   \n",
       "1                    14.0                 132.0  0.99400  3.30       0.49   \n",
       "2                    30.0                  97.0  0.99510  3.26       0.44   \n",
       "3                    47.0                 186.0  0.99560  3.19       0.40   \n",
       "4                    47.0                 186.0  0.99560  3.19       0.40   \n",
       "...                   ...                   ...      ...   ...        ...   \n",
       "4893                 24.0                  92.0  0.99114  3.27       0.50   \n",
       "4894                 57.0                 168.0  0.99490  3.15       0.46   \n",
       "4895                 30.0                 111.0  0.99254  2.99       0.46   \n",
       "4896                 20.0                 110.0  0.98869  3.34       0.38   \n",
       "4897                 22.0                  98.0  0.98941  3.26       0.32   \n",
       "\n",
       "      alcohol  quality  \n",
       "0         8.8        6  \n",
       "1         9.5        6  \n",
       "2        10.1        6  \n",
       "3         9.9        6  \n",
       "4         9.9        6  \n",
       "...       ...      ...  \n",
       "4893     11.2        6  \n",
       "4894      9.6        5  \n",
       "4895      9.4        6  \n",
       "4896     12.8        7  \n",
       "4897     11.8        6  \n",
       "\n",
       "[4898 rows x 12 columns]"
      ]
     },
     "execution_count": 18,
     "metadata": {},
     "output_type": "execute_result"
    }
   ],
   "source": [
    "wineSet"
   ]
  },
  {
   "cell_type": "code",
   "execution_count": 9,
   "id": "hydraulic-snapshot",
   "metadata": {},
   "outputs": [],
   "source": [
    "#replace without getting out of pandas but still using numpy \n",
    "wineSet[\"wineQuality\"] = np.where(wineSet[\"quality\"] < 6, 0, 1)"
   ]
  },
  {
   "cell_type": "code",
   "execution_count": 10,
   "id": "satisfactory-forward",
   "metadata": {},
   "outputs": [],
   "source": [
    "yPD = wineSet[\"wineQuality\"].values\n",
    "#keep all the columns but the two latest since we created an extra column\n",
    "XPD = wineSet[wineSet.columns[:-2]].values"
   ]
  },
  {
   "cell_type": "code",
   "execution_count": 11,
   "id": "bearing-prediction",
   "metadata": {},
   "outputs": [],
   "source": [
    "from sklearn import model_selection\n",
    "X_train, X_test, y_train, y_test = model_selection.train_test_split(XPD, yPD, test_size=0.3)"
   ]
  },
  {
   "cell_type": "code",
   "execution_count": 12,
   "id": "neural-dealing",
   "metadata": {},
   "outputs": [],
   "source": [
    "from sklearn import preprocessing\n",
    "std_scale = preprocessing.StandardScaler().fit(X_train)\n",
    "#mettre les valeurs sur un ordre de grandeur similaire. \n",
    "X_train_std = std_scale.transform(X_train)\n",
    "X_test_std = std_scale.transform(X_test)"
   ]
  },
  {
   "cell_type": "code",
   "execution_count": 13,
   "id": "actual-architecture",
   "metadata": {},
   "outputs": [
    {
     "data": {
      "image/png": "[encoded data removed]",
      "text/plain": [
       "<Figure size 1080x1080 with 11 Axes>"
      ]
     },
     "metadata": {
      "needs_background": "light"
     },
     "output_type": "display_data"
    }
   ],
   "source": [
    "hist = plt.figure(figsize=(15, 15))\n",
    "#add y \n",
    "# titre précision\n",
    "for columnIndex in range(X_train_std.shape[1]):\n",
    "    #print(columnIndex)\n",
    "    #print(wineSet.columns.values[columnIndex])\n",
    "    #figsize(10, 10))\n",
    "    adjustedColumnIndex = int((columnIndex+1)/3)\n",
    "    ax = hist.add_subplot(3, 4, (columnIndex+1))#, adjustedColumnIndex+1)\n",
    "\n",
    "    ax.hist(X_train_std[:, columnIndex], label=str(wineSet.columns.values[columnIndex]),  bins=50, color='lightblue', alpha=0.5)\n",
    "    ax.set_title(str(wineSet.columns.values[columnIndex]))"
   ]
  },
  {
   "cell_type": "code",
   "execution_count": null,
   "id": "meaning-parent",
   "metadata": {},
   "outputs": [],
   "source": []
  },
  {
   "cell_type": "code",
   "execution_count": 22,
   "id": "informed-gathering",
   "metadata": {},
   "outputs": [
    {
     "data": {
      "image/png": "[encoded data removed]",
      "text/plain": [
       "<Figure size 432x288 with 1 Axes>"
      ]
     },
     "metadata": {
      "needs_background": "light"
     },
     "output_type": "display_data"
    },
    {
     "data": {
      "image/png": "[encoded data removed]",
      "text/plain": [
       "<Figure size 432x288 with 1 Axes>"
      ]
     },
     "metadata": {
      "needs_background": "light"
     },
     "output_type": "display_data"
    },
    {
     "data": {
      "image/png": "[encoded data removed]",
      "text/plain": [
       "<Figure size 432x288 with 1 Axes>"
      ]
     },
     "metadata": {
      "needs_background": "light"
     },
     "output_type": "display_data"
    },
    {
     "data": {
      "image/png": "[encoded data removed]",
      "text/plain": [
       "<Figure size 432x288 with 1 Axes>"
      ]
     },
     "metadata": {
      "needs_background": "light"
     },
     "output_type": "display_data"
    },
    {
     "data": {
      "image/png": "[encoded data removed]",
      "text/plain": [
       "<Figure size 432x288 with 1 Axes>"
      ]
     },
     "metadata": {
      "needs_background": "light"
     },
     "output_type": "display_data"
    },
    {
     "data": {
      "image/png": "[encoded data removed]",
      "text/plain": [
       "<Figure size 432x288 with 1 Axes>"
      ]
     },
     "metadata": {
      "needs_background": "light"
     },
     "output_type": "display_data"
    },
    {
     "data": {
      "image/png": "[encoded data removed]",
      "text/plain": [
       "<Figure size 432x288 with 1 Axes>"
      ]
     },
     "metadata": {
      "needs_background": "light"
     },
     "output_type": "display_data"
    },
    {
     "data": {
      "image/png": "[encoded data removed]",
      "text/plain": [
       "<Figure size 432x288 with 1 Axes>"
      ]
     },
     "metadata": {
      "needs_background": "light"
     },
     "output_type": "display_data"
    },
    {
     "name": "stdout",
     "output_type": "stream",
     "text": [
      "(20, 16)\n"
     ]
    }
   ],
   "source": [
    "from sklearn import neighbors, metrics\n",
    "from sklearn.metrics import confusion_matrix, precision_recall_curve\n",
    "# Fixer les valeurs des hyperparamètres à tester de 1 à 20 \n",
    "param_grid = {'n_neighbors':list(range(1,10, 2))}\n",
    "results = pd.DataFrame(columns=[\"fold\", \"recall\", \"precision\", \"specificity\",\"fmeasure\", 'mean_fit_time', 'std_fit_time', 'mean_score_time', 'std_score_time', 'param_n_neighbors', 'params', 'split0_test_score', 'split1_test_score', 'mean_test_score', 'std_test_score', 'rank_test_score'])\n",
    "test_score = []\n",
    "for fold in range(2,10, 2): \n",
    "    # Choisir un score à optimiser, ici l'accuracy (proportion de prédictions correctes)\n",
    "    score = 'accuracy'\n",
    "    \n",
    "    # Créer un classifieur kNN avec recherche d'hyperparamètre par validation croisée\n",
    "    clf = model_selection.GridSearchCV(\n",
    "        neighbors.KNeighborsClassifier(), # un classifieur kNN\n",
    "        param_grid,     # hyperparamètres à tester\n",
    "        cv=fold,           # nombre de folds de validation croisée\n",
    "        scoring=score   # score à optimiser\n",
    "    )\n",
    "\n",
    "    # Optimiser ce classifieur sur le jeu d'entraînement\n",
    "    clf.fit(X_train_std, y_train)\n",
    "    y_pred = clf.predict(X_test_std)\n",
    "    tn, fp, fn, tp = confusion_matrix(y_test, y_pred).ravel()\n",
    "    recall = tp/(tp+fn)\n",
    "    precision = tp/(tp+fp)\n",
    "    specificity = tn/(fp+tn)\n",
    "    fmeasure = 2*tp/(2*tp+fp+fn)\n",
    "    \n",
    "    \n",
    "    #for roc curve\n",
    "    Y_pred_proba = clf.predict_proba(X_test_std)[:,1]\n",
    "    [fpr, tpr, thr] = metrics.roc_curve(y_test, Y_pred_proba)\n",
    "    plt.plot(fpr, tpr, color='coral', lw=2)\n",
    "    plt.xlim([0.0, 1.0])\n",
    "    plt.ylim([0.0, 1.05])\n",
    "    plt.xlabel('1 - specificite', fontsize=14)\n",
    "    plt.ylabel('Sensibilite', fontsize=14)\n",
    "    plt.title((\"fold\" + str(fold)))\n",
    "    plt.show()\n",
    "    \n",
    "    #for precision_recall_curve\n",
    "    precision, recall, thresholds = precision_recall_curve(y_test, Y_pred_proba)\n",
    "    plt.plot(precision, recall, color='blue', lw=2)\n",
    "    plt.xlim([0.0, 1.0])\n",
    "    plt.ylim([0.0, 1.05])\n",
    "    plt.xlabel('Recall', fontsize=14)\n",
    "    plt.ylabel('Precision', fontsize=14)\n",
    "    plt.title((\"fold\" + str(fold)))\n",
    "    plt.show()\n",
    "    \n",
    "    \n",
    "    \n",
    "    test_score.append(metrics.accuracy_score(y_test, y_pred))\n",
    "\n",
    "    subFrame = pd.DataFrame(columns=[\"fold\", \"recall\", \"precision\", \"specificity\", \"fmeasure\", 'mean_fit_time', 'std_fit_time', 'mean_score_time', 'std_score_time', 'param_n_neighbors', 'params', 'split0_test_score', 'split1_test_score', 'mean_test_score', 'std_test_score', 'rank_test_score'])\n",
    "    #on populated le dataframe de resultats avec chacune des clés du dictionnaire contenues dans cv_results \n",
    "    for column in subFrame.columns[6:].values: \n",
    "        subFrame[column] = clf.cv_results_[column]\n",
    "    #on genere autant de fold que le nombre de rows du dataframe actuel\n",
    "    subFrame[\"fold\"] = [fold] * subFrame.shape[0]\n",
    "    subFrame[\"recall\"] = [recall] * subFrame.shape[0]\n",
    "    subFrame[\"precision\"] = [precision] * subFrame.shape[0]\n",
    "    subFrame[\"specificity\"] = [specificity] * subFrame.shape[0]\n",
    "    #subFrame[\"test_score\"] = [test_score] * subFrame.shape[0]\n",
    "    #print(subFrame)\n",
    "    results = results.append(subFrame)\n",
    "print(results.shape)"
   ]
  },
  {
   "cell_type": "code",
   "execution_count": 15,
   "id": "forty-sullivan",
   "metadata": {},
   "outputs": [
    {
     "data": {
      "text/html": [
       "<div>\n",
       "<style scoped>\n",
       "    .dataframe tbody tr th:only-of-type {\n",
       "        vertical-align: middle;\n",
       "    }\n",
       "\n",
       "    .dataframe tbody tr th {\n",
       "        vertical-align: top;\n",
       "    }\n",
       "\n",
       "    .dataframe thead th {\n",
       "        text-align: right;\n",
       "    }\n",
       "</style>\n",
       "<table border=\"1\" class=\"dataframe\">\n",
       "  <thead>\n",
       "    <tr style=\"text-align: right;\">\n",
       "      <th></th>\n",
       "      <th>fold</th>\n",
       "      <th>recall</th>\n",
       "      <th>precision</th>\n",
       "      <th>specificity</th>\n",
       "      <th>fmeasure</th>\n",
       "      <th>mean_fit_time</th>\n",
       "      <th>std_fit_time</th>\n",
       "      <th>mean_score_time</th>\n",
       "      <th>std_score_time</th>\n",
       "      <th>param_n_neighbors</th>\n",
       "      <th>params</th>\n",
       "      <th>split0_test_score</th>\n",
       "      <th>split1_test_score</th>\n",
       "      <th>mean_test_score</th>\n",
       "      <th>std_test_score</th>\n",
       "      <th>rank_test_score</th>\n",
       "    </tr>\n",
       "  </thead>\n",
       "  <tbody>\n",
       "    <tr>\n",
       "      <th>0</th>\n",
       "      <td>2</td>\n",
       "      <td>[1.0, 0.9968717413972888, 0.9906152241918665, ...</td>\n",
       "      <td>[0.6555023923444976, 0.6602209944751382, 0.670...</td>\n",
       "      <td>0.585127</td>\n",
       "      <td>NaN</td>\n",
       "      <td>NaN</td>\n",
       "      <td>0.000181</td>\n",
       "      <td>0.064693</td>\n",
       "      <td>0.005023</td>\n",
       "      <td>1</td>\n",
       "      <td>{'n_neighbors': 1}</td>\n",
       "      <td>0.751459</td>\n",
       "      <td>0.757876</td>\n",
       "      <td>0.754667</td>\n",
       "      <td>0.003209</td>\n",
       "      <td>13</td>\n",
       "    </tr>\n",
       "    <tr>\n",
       "      <th>1</th>\n",
       "      <td>2</td>\n",
       "      <td>[1.0, 0.9968717413972888, 0.9906152241918665, ...</td>\n",
       "      <td>[0.6555023923444976, 0.6602209944751382, 0.670...</td>\n",
       "      <td>0.585127</td>\n",
       "      <td>NaN</td>\n",
       "      <td>NaN</td>\n",
       "      <td>0.000055</td>\n",
       "      <td>0.064815</td>\n",
       "      <td>0.001476</td>\n",
       "      <td>2</td>\n",
       "      <td>{'n_neighbors': 2}</td>\n",
       "      <td>0.710618</td>\n",
       "      <td>0.714702</td>\n",
       "      <td>0.712660</td>\n",
       "      <td>0.002042</td>\n",
       "      <td>19</td>\n",
       "    </tr>\n",
       "    <tr>\n",
       "      <th>2</th>\n",
       "      <td>2</td>\n",
       "      <td>[1.0, 0.9968717413972888, 0.9906152241918665, ...</td>\n",
       "      <td>[0.6555023923444976, 0.6602209944751382, 0.670...</td>\n",
       "      <td>0.585127</td>\n",
       "      <td>NaN</td>\n",
       "      <td>NaN</td>\n",
       "      <td>0.000004</td>\n",
       "      <td>0.066104</td>\n",
       "      <td>0.001832</td>\n",
       "      <td>3</td>\n",
       "      <td>{'n_neighbors': 3}</td>\n",
       "      <td>0.744457</td>\n",
       "      <td>0.746791</td>\n",
       "      <td>0.745624</td>\n",
       "      <td>0.001167</td>\n",
       "      <td>17</td>\n",
       "    </tr>\n",
       "    <tr>\n",
       "      <th>3</th>\n",
       "      <td>2</td>\n",
       "      <td>[1.0, 0.9968717413972888, 0.9906152241918665, ...</td>\n",
       "      <td>[0.6555023923444976, 0.6602209944751382, 0.670...</td>\n",
       "      <td>0.585127</td>\n",
       "      <td>NaN</td>\n",
       "      <td>NaN</td>\n",
       "      <td>0.000007</td>\n",
       "      <td>0.068860</td>\n",
       "      <td>0.001494</td>\n",
       "      <td>4</td>\n",
       "      <td>{'n_neighbors': 4}</td>\n",
       "      <td>0.735123</td>\n",
       "      <td>0.753209</td>\n",
       "      <td>0.744166</td>\n",
       "      <td>0.009043</td>\n",
       "      <td>18</td>\n",
       "    </tr>\n",
       "    <tr>\n",
       "      <th>4</th>\n",
       "      <td>2</td>\n",
       "      <td>[1.0, 0.9968717413972888, 0.9906152241918665, ...</td>\n",
       "      <td>[0.6555023923444976, 0.6602209944751382, 0.670...</td>\n",
       "      <td>0.585127</td>\n",
       "      <td>NaN</td>\n",
       "      <td>NaN</td>\n",
       "      <td>0.000031</td>\n",
       "      <td>0.076574</td>\n",
       "      <td>0.003377</td>\n",
       "      <td>5</td>\n",
       "      <td>{'n_neighbors': 5}</td>\n",
       "      <td>0.747958</td>\n",
       "      <td>0.749708</td>\n",
       "      <td>0.748833</td>\n",
       "      <td>0.000875</td>\n",
       "      <td>16</td>\n",
       "    </tr>\n",
       "    <tr>\n",
       "      <th>...</th>\n",
       "      <td>...</td>\n",
       "      <td>...</td>\n",
       "      <td>...</td>\n",
       "      <td>...</td>\n",
       "      <td>...</td>\n",
       "      <td>...</td>\n",
       "      <td>...</td>\n",
       "      <td>...</td>\n",
       "      <td>...</td>\n",
       "      <td>...</td>\n",
       "      <td>...</td>\n",
       "      <td>...</td>\n",
       "      <td>...</td>\n",
       "      <td>...</td>\n",
       "      <td>...</td>\n",
       "      <td>...</td>\n",
       "    </tr>\n",
       "    <tr>\n",
       "      <th>14</th>\n",
       "      <td>19</td>\n",
       "      <td>[1.0, 0.8373305526590198, 0.0]</td>\n",
       "      <td>[0.6523809523809524, 0.8286893704850361, 1.0]</td>\n",
       "      <td>0.675147</td>\n",
       "      <td>NaN</td>\n",
       "      <td>NaN</td>\n",
       "      <td>0.000077</td>\n",
       "      <td>0.011193</td>\n",
       "      <td>0.000153</td>\n",
       "      <td>15</td>\n",
       "      <td>{'n_neighbors': 15}</td>\n",
       "      <td>0.762431</td>\n",
       "      <td>0.751381</td>\n",
       "      <td>0.772185</td>\n",
       "      <td>0.028807</td>\n",
       "      <td>4</td>\n",
       "    </tr>\n",
       "    <tr>\n",
       "      <th>15</th>\n",
       "      <td>19</td>\n",
       "      <td>[1.0, 0.8373305526590198, 0.0]</td>\n",
       "      <td>[0.6523809523809524, 0.8286893704850361, 1.0]</td>\n",
       "      <td>0.675147</td>\n",
       "      <td>NaN</td>\n",
       "      <td>NaN</td>\n",
       "      <td>0.000062</td>\n",
       "      <td>0.011460</td>\n",
       "      <td>0.000252</td>\n",
       "      <td>16</td>\n",
       "      <td>{'n_neighbors': 16}</td>\n",
       "      <td>0.773481</td>\n",
       "      <td>0.767956</td>\n",
       "      <td>0.775960</td>\n",
       "      <td>0.031392</td>\n",
       "      <td>2</td>\n",
       "    </tr>\n",
       "    <tr>\n",
       "      <th>16</th>\n",
       "      <td>19</td>\n",
       "      <td>[1.0, 0.8373305526590198, 0.0]</td>\n",
       "      <td>[0.6523809523809524, 0.8286893704850361, 1.0]</td>\n",
       "      <td>0.675147</td>\n",
       "      <td>NaN</td>\n",
       "      <td>NaN</td>\n",
       "      <td>0.000039</td>\n",
       "      <td>0.011552</td>\n",
       "      <td>0.000201</td>\n",
       "      <td>17</td>\n",
       "      <td>{'n_neighbors': 17}</td>\n",
       "      <td>0.762431</td>\n",
       "      <td>0.756906</td>\n",
       "      <td>0.767508</td>\n",
       "      <td>0.027996</td>\n",
       "      <td>13</td>\n",
       "    </tr>\n",
       "    <tr>\n",
       "      <th>17</th>\n",
       "      <td>19</td>\n",
       "      <td>[1.0, 0.8373305526590198, 0.0]</td>\n",
       "      <td>[0.6523809523809524, 0.8286893704850361, 1.0]</td>\n",
       "      <td>0.675147</td>\n",
       "      <td>NaN</td>\n",
       "      <td>NaN</td>\n",
       "      <td>0.000066</td>\n",
       "      <td>0.011650</td>\n",
       "      <td>0.000200</td>\n",
       "      <td>18</td>\n",
       "      <td>{'n_neighbors': 18}</td>\n",
       "      <td>0.756906</td>\n",
       "      <td>0.756906</td>\n",
       "      <td>0.765765</td>\n",
       "      <td>0.030177</td>\n",
       "      <td>16</td>\n",
       "    </tr>\n",
       "    <tr>\n",
       "      <th>18</th>\n",
       "      <td>19</td>\n",
       "      <td>[1.0, 0.8373305526590198, 0.0]</td>\n",
       "      <td>[0.6523809523809524, 0.8286893704850361, 1.0]</td>\n",
       "      <td>0.675147</td>\n",
       "      <td>NaN</td>\n",
       "      <td>NaN</td>\n",
       "      <td>0.000094</td>\n",
       "      <td>0.011810</td>\n",
       "      <td>0.000355</td>\n",
       "      <td>19</td>\n",
       "      <td>{'n_neighbors': 19}</td>\n",
       "      <td>0.762431</td>\n",
       "      <td>0.751381</td>\n",
       "      <td>0.767812</td>\n",
       "      <td>0.029933</td>\n",
       "      <td>11</td>\n",
       "    </tr>\n",
       "  </tbody>\n",
       "</table>\n",
       "<p>342 rows × 16 columns</p>\n",
       "</div>"
      ],
      "text/plain": [
       "   fold                                             recall  \\\n",
       "0     2  [1.0, 0.9968717413972888, 0.9906152241918665, ...   \n",
       "1     2  [1.0, 0.9968717413972888, 0.9906152241918665, ...   \n",
       "2     2  [1.0, 0.9968717413972888, 0.9906152241918665, ...   \n",
       "3     2  [1.0, 0.9968717413972888, 0.9906152241918665, ...   \n",
       "4     2  [1.0, 0.9968717413972888, 0.9906152241918665, ...   \n",
       "..  ...                                                ...   \n",
       "14   19                     [1.0, 0.8373305526590198, 0.0]   \n",
       "15   19                     [1.0, 0.8373305526590198, 0.0]   \n",
       "16   19                     [1.0, 0.8373305526590198, 0.0]   \n",
       "17   19                     [1.0, 0.8373305526590198, 0.0]   \n",
       "18   19                     [1.0, 0.8373305526590198, 0.0]   \n",
       "\n",
       "                                            precision  specificity fmeasure  \\\n",
       "0   [0.6555023923444976, 0.6602209944751382, 0.670...     0.585127      NaN   \n",
       "1   [0.6555023923444976, 0.6602209944751382, 0.670...     0.585127      NaN   \n",
       "2   [0.6555023923444976, 0.6602209944751382, 0.670...     0.585127      NaN   \n",
       "3   [0.6555023923444976, 0.6602209944751382, 0.670...     0.585127      NaN   \n",
       "4   [0.6555023923444976, 0.6602209944751382, 0.670...     0.585127      NaN   \n",
       "..                                                ...          ...      ...   \n",
       "14      [0.6523809523809524, 0.8286893704850361, 1.0]     0.675147      NaN   \n",
       "15      [0.6523809523809524, 0.8286893704850361, 1.0]     0.675147      NaN   \n",
       "16      [0.6523809523809524, 0.8286893704850361, 1.0]     0.675147      NaN   \n",
       "17      [0.6523809523809524, 0.8286893704850361, 1.0]     0.675147      NaN   \n",
       "18      [0.6523809523809524, 0.8286893704850361, 1.0]     0.675147      NaN   \n",
       "\n",
       "   mean_fit_time  std_fit_time  mean_score_time  std_score_time  \\\n",
       "0            NaN      0.000181         0.064693        0.005023   \n",
       "1            NaN      0.000055         0.064815        0.001476   \n",
       "2            NaN      0.000004         0.066104        0.001832   \n",
       "3            NaN      0.000007         0.068860        0.001494   \n",
       "4            NaN      0.000031         0.076574        0.003377   \n",
       "..           ...           ...              ...             ...   \n",
       "14           NaN      0.000077         0.011193        0.000153   \n",
       "15           NaN      0.000062         0.011460        0.000252   \n",
       "16           NaN      0.000039         0.011552        0.000201   \n",
       "17           NaN      0.000066         0.011650        0.000200   \n",
       "18           NaN      0.000094         0.011810        0.000355   \n",
       "\n",
       "   param_n_neighbors               params  split0_test_score  \\\n",
       "0                  1   {'n_neighbors': 1}           0.751459   \n",
       "1                  2   {'n_neighbors': 2}           0.710618   \n",
       "2                  3   {'n_neighbors': 3}           0.744457   \n",
       "3                  4   {'n_neighbors': 4}           0.735123   \n",
       "4                  5   {'n_neighbors': 5}           0.747958   \n",
       "..               ...                  ...                ...   \n",
       "14                15  {'n_neighbors': 15}           0.762431   \n",
       "15                16  {'n_neighbors': 16}           0.773481   \n",
       "16                17  {'n_neighbors': 17}           0.762431   \n",
       "17                18  {'n_neighbors': 18}           0.756906   \n",
       "18                19  {'n_neighbors': 19}           0.762431   \n",
       "\n",
       "    split1_test_score  mean_test_score  std_test_score rank_test_score  \n",
       "0            0.757876         0.754667        0.003209              13  \n",
       "1            0.714702         0.712660        0.002042              19  \n",
       "2            0.746791         0.745624        0.001167              17  \n",
       "3            0.753209         0.744166        0.009043              18  \n",
       "4            0.749708         0.748833        0.000875              16  \n",
       "..                ...              ...             ...             ...  \n",
       "14           0.751381         0.772185        0.028807               4  \n",
       "15           0.767956         0.775960        0.031392               2  \n",
       "16           0.756906         0.767508        0.027996              13  \n",
       "17           0.756906         0.765765        0.030177              16  \n",
       "18           0.751381         0.767812        0.029933              11  \n",
       "\n",
       "[342 rows x 16 columns]"
      ]
     },
     "execution_count": 15,
     "metadata": {},
     "output_type": "execute_result"
    }
   ],
   "source": [
    "results"
   ]
  },
  {
   "cell_type": "code",
   "execution_count": 26,
   "id": "understanding-drive",
   "metadata": {},
   "outputs": [
    {
     "data": {
      "text/plain": [
       "0.7975208407583515"
      ]
     },
     "execution_count": 26,
     "metadata": {},
     "output_type": "execute_result"
    }
   ],
   "source": [
    "results[\"mean_test_score\"].max()"
   ]
  },
  {
   "cell_type": "code",
   "execution_count": 27,
   "id": "ancient-technical",
   "metadata": {},
   "outputs": [
    {
     "data": {
      "text/html": [
       "<div>\n",
       "<style scoped>\n",
       "    .dataframe tbody tr th:only-of-type {\n",
       "        vertical-align: middle;\n",
       "    }\n",
       "\n",
       "    .dataframe tbody tr th {\n",
       "        vertical-align: top;\n",
       "    }\n",
       "\n",
       "    .dataframe thead th {\n",
       "        text-align: right;\n",
       "    }\n",
       "</style>\n",
       "<table border=\"1\" class=\"dataframe\">\n",
       "  <thead>\n",
       "    <tr style=\"text-align: right;\">\n",
       "      <th></th>\n",
       "      <th>fold</th>\n",
       "      <th>mean_fit_time</th>\n",
       "      <th>std_fit_time</th>\n",
       "      <th>mean_score_time</th>\n",
       "      <th>std_score_time</th>\n",
       "      <th>param_n_neighbors</th>\n",
       "      <th>params</th>\n",
       "      <th>split0_test_score</th>\n",
       "      <th>split1_test_score</th>\n",
       "      <th>mean_test_score</th>\n",
       "      <th>std_test_score</th>\n",
       "      <th>rank_test_score</th>\n",
       "    </tr>\n",
       "  </thead>\n",
       "  <tbody>\n",
       "    <tr>\n",
       "      <th>0</th>\n",
       "      <td>17</td>\n",
       "      <td>NaN</td>\n",
       "      <td>0.000308</td>\n",
       "      <td>0.01202</td>\n",
       "      <td>0.001661</td>\n",
       "      <td>1</td>\n",
       "      <td>{'n_neighbors': 1}</td>\n",
       "      <td>0.742574</td>\n",
       "      <td>0.811881</td>\n",
       "      <td>0.797521</td>\n",
       "      <td>0.03928</td>\n",
       "      <td>1</td>\n",
       "    </tr>\n",
       "  </tbody>\n",
       "</table>\n",
       "</div>"
      ],
      "text/plain": [
       "  fold mean_fit_time  std_fit_time  mean_score_time  std_score_time  \\\n",
       "0   17           NaN      0.000308          0.01202        0.001661   \n",
       "\n",
       "  param_n_neighbors              params  split0_test_score  split1_test_score  \\\n",
       "0                 1  {'n_neighbors': 1}           0.742574           0.811881   \n",
       "\n",
       "   mean_test_score  std_test_score rank_test_score  \n",
       "0         0.797521         0.03928               1  "
      ]
     },
     "execution_count": 27,
     "metadata": {},
     "output_type": "execute_result"
    }
   ],
   "source": [
    "#best resutls in all test. \n",
    "results[results[\"mean_test_score\"] == results[\"mean_test_score\"].max()]"
   ]
  },
  {
   "cell_type": "code",
   "execution_count": null,
   "id": "classical-victoria",
   "metadata": {},
   "outputs": [],
   "source": [
    "#roc curve \n"
   ]
  }
 ],
 "metadata": {
  "kernelspec": {
   "display_name": "Python 3",
   "language": "python",
   "name": "python3"
  },
  "language_info": {
   "codemirror_mode": {
    "name": "ipython",
    "version": 3
   },
   "file_extension": ".py",
   "mimetype": "text/x-python",
   "name": "python",
   "nbconvert_exporter": "python",
   "pygments_lexer": "ipython3",
   "version": "3.8.2"
  }
 },
 "nbformat": 4,
 "nbformat_minor": 5
}
