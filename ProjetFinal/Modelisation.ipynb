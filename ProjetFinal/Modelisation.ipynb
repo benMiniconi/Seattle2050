{
 "cells": [
  {
   "cell_type": "code",
   "execution_count": 1,
   "id": "present-allowance",
   "metadata": {},
   "outputs": [],
   "source": [
    "import pandas as pd \n",
    "import numpy as np\n",
    "import matplotlib.pyplot as plt \n",
    "import seaborn as sns\n",
    "from sklearn.preprocessing import StandardScaler, LabelEncoder, OneHotEncoder, MinMaxScaler\n",
    "from sklearn import linear_model, model_selection, metrics, svm\n",
    "from sklearn.model_selection import cross_val_score, GridSearchCV\n",
    "from sklearn.kernel_ridge import KernelRidge"
   ]
  },
  {
   "cell_type": "code",
   "execution_count": 2,
   "id": "alone-playlist",
   "metadata": {},
   "outputs": [
    {
     "data": {
      "text/plain": [
       "Index(['Unnamed: 0', 'YearBuilt', 'NumberofBuildings', 'NumberofFloors',\n",
       "       'totalKbtu', 'PropertyGFATotal', 'PropertyGFABuilding(s)',\n",
       "       'LargestPropertyUseType', 'LargestPropertyUseTypeGFA',\n",
       "       'ENERGYSTARScore', 'SiteEUI(kBtu/sf)', 'SiteEUIWN(kBtu/sf)',\n",
       "       'SiteEnergyUse(kBtu)', 'SiteEnergyUseWN(kBtu)', 'SteamUse(kBtu)',\n",
       "       'Electricity(kBtu)', 'NaturalGas(kBtu)', 'GHGEmissions(MetricTonsCO2e)',\n",
       "       'GHGEmissionsIntensity(kgCO2e/ft2)', 'City', 'State', 'Location',\n",
       "       'PrimaryPropertyType', 'PropertyGFAParking', 'Neighborhood',\n",
       "       'NeighborhoodInt', 'BuildingType', 'PrimaryPropertyTypeInt',\n",
       "       'BuildingTypeInt', 'ENERGYSTARScoreColor', 'TotalGHGEmissions'],\n",
       "      dtype='object')"
      ]
     },
     "execution_count": 2,
     "metadata": {},
     "output_type": "execute_result"
    }
   ],
   "source": [
    "filteredDF = pd.read_csv(\"filteredDF.csv\", decimal=\".\", delimiter=\",\")\n",
    "#shape 6805 lignes et 38 colonnes\n",
    "filteredDF.columns"
   ]
  },
  {
   "cell_type": "code",
   "execution_count": 3,
   "id": "structural-fence",
   "metadata": {},
   "outputs": [
    {
     "data": {
      "text/plain": [
       "array([0.  , 0.01, 0.02, ...,  nan,  nan,  nan])"
      ]
     },
     "execution_count": 3,
     "metadata": {},
     "output_type": "execute_result"
    }
   ],
   "source": [
    "np.unique(filteredDF[\"GHGEmissionsIntensity(kgCO2e/ft2)\"])"
   ]
  },
  {
   "cell_type": "code",
   "execution_count": 4,
   "id": "senior-panama",
   "metadata": {},
   "outputs": [
    {
     "data": {
      "text/plain": [
       "(6716, 31)"
      ]
     },
     "execution_count": 4,
     "metadata": {},
     "output_type": "execute_result"
    }
   ],
   "source": [
    "#filteredDF[\"PropertyGFAParking\"]  = filteredDF[\"PropertyGFAParking\"].astype(str)\n",
    "filteredDF[\"PrimaryPropertyType\"]  = filteredDF[\"PrimaryPropertyType\"].astype(str)\n",
    "#filteredDF[\"ListOfAllPropertyUseTypes\"] = filteredDF[\"ListOfAllPropertyUseTypes\"].astype(str)\n",
    "#filteredDF[\"PropertyGFAParking\"] = filteredDF[\"PropertyGFAParking\"].replace([0, 1, 2, 3, 4, 5, 6, 7, 8, 9, 10], \"autre\")\n",
    "filteredDF.shape"
   ]
  },
  {
   "cell_type": "code",
   "execution_count": 5,
   "id": "awful-portfolio",
   "metadata": {},
   "outputs": [
    {
     "data": {
      "text/plain": [
       "<AxesSubplot:>"
      ]
     },
     "execution_count": 5,
     "metadata": {},
     "output_type": "execute_result"
    },
    {
     "data": {
      "image/png": "[encoded data removed]",
      "text/plain": [
       "<Figure size 432x288 with 1 Axes>"
      ]
     },
     "metadata": {
      "needs_background": "light"
     },
     "output_type": "display_data"
    }
   ],
   "source": [
    "filteredDF[\"PrimaryPropertyType\"]  = filteredDF[\"PrimaryPropertyType\"].astype(str)\n",
    "filteredDF[\"BuildingType\"].value_counts().plot(kind='bar')"
   ]
  },
  {
   "cell_type": "code",
   "execution_count": 6,
   "id": "welsh-actress",
   "metadata": {},
   "outputs": [
    {
     "name": "stdout",
     "output_type": "stream",
     "text": [
      "[6716]\n"
     ]
    },
    {
     "data": {
      "text/html": [
       "<div>\n",
       "<style scoped>\n",
       "    .dataframe tbody tr th:only-of-type {\n",
       "        vertical-align: middle;\n",
       "    }\n",
       "\n",
       "    .dataframe tbody tr th {\n",
       "        vertical-align: top;\n",
       "    }\n",
       "\n",
       "    .dataframe thead th {\n",
       "        text-align: right;\n",
       "    }\n",
       "</style>\n",
       "<table border=\"1\" class=\"dataframe\">\n",
       "  <thead>\n",
       "    <tr style=\"text-align: right;\">\n",
       "      <th></th>\n",
       "      <th>PrimaryPropertyType</th>\n",
       "    </tr>\n",
       "  </thead>\n",
       "  <tbody>\n",
       "    <tr>\n",
       "      <th>low-rise multifamily</th>\n",
       "      <td>1985</td>\n",
       "    </tr>\n",
       "    <tr>\n",
       "      <th>mid-rise multifamily</th>\n",
       "      <td>1103</td>\n",
       "    </tr>\n",
       "    <tr>\n",
       "      <th>small- and mid-sized office</th>\n",
       "      <td>590</td>\n",
       "    </tr>\n",
       "    <tr>\n",
       "      <th>other</th>\n",
       "      <td>514</td>\n",
       "    </tr>\n",
       "    <tr>\n",
       "      <th>large office</th>\n",
       "      <td>344</td>\n",
       "    </tr>\n",
       "    <tr>\n",
       "      <th>k-12 school</th>\n",
       "      <td>275</td>\n",
       "    </tr>\n",
       "    <tr>\n",
       "      <th>mixed use property</th>\n",
       "      <td>259</td>\n",
       "    </tr>\n",
       "    <tr>\n",
       "      <th>high-rise multifamily</th>\n",
       "      <td>208</td>\n",
       "    </tr>\n",
       "    <tr>\n",
       "      <th>retail store</th>\n",
       "      <td>191</td>\n",
       "    </tr>\n",
       "    <tr>\n",
       "      <th>warehouse</th>\n",
       "      <td>187</td>\n",
       "    </tr>\n",
       "    <tr>\n",
       "      <th>non-refrigerated warehouse</th>\n",
       "      <td>187</td>\n",
       "    </tr>\n",
       "    <tr>\n",
       "      <th>hotel</th>\n",
       "      <td>150</td>\n",
       "    </tr>\n",
       "    <tr>\n",
       "      <th>worship facility</th>\n",
       "      <td>143</td>\n",
       "    </tr>\n",
       "    <tr>\n",
       "      <th>distribution center</th>\n",
       "      <td>106</td>\n",
       "    </tr>\n",
       "    <tr>\n",
       "      <th>senior care community</th>\n",
       "      <td>88</td>\n",
       "    </tr>\n",
       "    <tr>\n",
       "      <th>medical office</th>\n",
       "      <td>82</td>\n",
       "    </tr>\n",
       "    <tr>\n",
       "      <th>self-storage facility</th>\n",
       "      <td>56</td>\n",
       "    </tr>\n",
       "    <tr>\n",
       "      <th>supermarket / grocery store</th>\n",
       "      <td>40</td>\n",
       "    </tr>\n",
       "    <tr>\n",
       "      <th>supermarket/grocery store</th>\n",
       "      <td>36</td>\n",
       "    </tr>\n",
       "    <tr>\n",
       "      <th>refrigerated warehouse</th>\n",
       "      <td>25</td>\n",
       "    </tr>\n",
       "    <tr>\n",
       "      <th>university</th>\n",
       "      <td>25</td>\n",
       "    </tr>\n",
       "    <tr>\n",
       "      <th>restaurant</th>\n",
       "      <td>24</td>\n",
       "    </tr>\n",
       "    <tr>\n",
       "      <th>residence hall</th>\n",
       "      <td>23</td>\n",
       "    </tr>\n",
       "    <tr>\n",
       "      <th>college/university</th>\n",
       "      <td>22</td>\n",
       "    </tr>\n",
       "    <tr>\n",
       "      <th>hospital</th>\n",
       "      <td>20</td>\n",
       "    </tr>\n",
       "    <tr>\n",
       "      <th>residence hall/dormitory</th>\n",
       "      <td>15</td>\n",
       "    </tr>\n",
       "    <tr>\n",
       "      <th>laboratory</th>\n",
       "      <td>11</td>\n",
       "    </tr>\n",
       "    <tr>\n",
       "      <th>sps-district k-12</th>\n",
       "      <td>4</td>\n",
       "    </tr>\n",
       "    <tr>\n",
       "      <th>office</th>\n",
       "      <td>3</td>\n",
       "    </tr>\n",
       "  </tbody>\n",
       "</table>\n",
       "</div>"
      ],
      "text/plain": [
       "                             PrimaryPropertyType\n",
       "low-rise multifamily                        1985\n",
       "mid-rise multifamily                        1103\n",
       "small- and mid-sized office                  590\n",
       "other                                        514\n",
       "large office                                 344\n",
       "k-12 school                                  275\n",
       "mixed use property                           259\n",
       "high-rise multifamily                        208\n",
       "retail store                                 191\n",
       "warehouse                                    187\n",
       "non-refrigerated warehouse                   187\n",
       "hotel                                        150\n",
       "worship facility                             143\n",
       "distribution center                          106\n",
       "senior care community                         88\n",
       "medical office                                82\n",
       "self-storage facility                         56\n",
       "supermarket / grocery store                   40\n",
       "supermarket/grocery store                     36\n",
       "refrigerated warehouse                        25\n",
       "university                                    25\n",
       "restaurant                                    24\n",
       "residence hall                                23\n",
       "college/university                            22\n",
       "hospital                                      20\n",
       "residence hall/dormitory                      15\n",
       "laboratory                                    11\n",
       "sps-district k-12                              4\n",
       "office                                         3"
      ]
     },
     "execution_count": 6,
     "metadata": {},
     "output_type": "execute_result"
    }
   ],
   "source": [
    "a = filteredDF[\"PrimaryPropertyType\"].value_counts().to_frame()\n",
    "a = a[a[\"PrimaryPropertyType\"] > 1]\n",
    "print(sum(a.values))\n",
    "a\n",
    "# faible nombre d'instances eventuellement à oublier. "
   ]
  },
  {
   "cell_type": "markdown",
   "id": "portuguese-causing",
   "metadata": {},
   "source": [
    "Traitement de PrimaryPropertyType and Neighborhood"
   ]
  },
  {
   "cell_type": "code",
   "execution_count": 7,
   "id": "smaller-jewel",
   "metadata": {
    "scrolled": true
   },
   "outputs": [
    {
     "name": "stderr",
     "output_type": "stream",
     "text": [
      "/Users/benjamindeplus/.local/share/virtualenvs/Seattle2050-kF-VE2eh/lib/python3.8/site-packages/pandas/core/indexing.py:1637: SettingWithCopyWarning: \n",
      "A value is trying to be set on a copy of a slice from a DataFrame\n",
      "\n",
      "See the caveats in the documentation: https://pandas.pydata.org/pandas-docs/stable/user_guide/indexing.html#returning-a-view-versus-a-copy\n",
      "  self._setitem_single_block(indexer, value, name)\n",
      "/Users/benjamindeplus/.local/share/virtualenvs/Seattle2050-kF-VE2eh/lib/python3.8/site-packages/pandas/core/indexing.py:1637: SettingWithCopyWarning: \n",
      "A value is trying to be set on a copy of a slice from a DataFrame\n",
      "\n",
      "See the caveats in the documentation: https://pandas.pydata.org/pandas-docs/stable/user_guide/indexing.html#returning-a-view-versus-a-copy\n",
      "  self._setitem_single_block(indexer, value, name)\n",
      "/Users/benjamindeplus/.local/share/virtualenvs/Seattle2050-kF-VE2eh/lib/python3.8/site-packages/pandas/core/indexing.py:1637: SettingWithCopyWarning: \n",
      "A value is trying to be set on a copy of a slice from a DataFrame\n",
      "\n",
      "See the caveats in the documentation: https://pandas.pydata.org/pandas-docs/stable/user_guide/indexing.html#returning-a-view-versus-a-copy\n",
      "  self._setitem_single_block(indexer, value, name)\n",
      "/Users/benjamindeplus/.local/share/virtualenvs/Seattle2050-kF-VE2eh/lib/python3.8/site-packages/pandas/core/indexing.py:1637: SettingWithCopyWarning: \n",
      "A value is trying to be set on a copy of a slice from a DataFrame\n",
      "\n",
      "See the caveats in the documentation: https://pandas.pydata.org/pandas-docs/stable/user_guide/indexing.html#returning-a-view-versus-a-copy\n",
      "  self._setitem_single_block(indexer, value, name)\n"
     ]
    },
    {
     "data": {
      "text/plain": [
       "<AxesSubplot:>"
      ]
     },
     "execution_count": 7,
     "metadata": {},
     "output_type": "execute_result"
    },
    {
     "data": {
      "image/png": "[encoded data removed]",
      "text/plain": [
       "<Figure size 432x288 with 1 Axes>"
      ]
     },
     "metadata": {
      "needs_background": "light"
     },
     "output_type": "display_data"
    }
   ],
   "source": [
    "filteredDF2 = filteredDF\n",
    "for column in filteredDF.columns:\n",
    "    #print(column, str(filteredDF[column].dtype))\n",
    "    if str(filteredDF[column].dtype) == \"object\" and column in [\"PrimaryPropertyType\", \"City\", \"State\", \"Neighborhood\"]: #\"Location\", \"Neighborhood\", \"PropertyGFAParking\", \n",
    "        a = filteredDF[column].value_counts().to_frame()\n",
    "        a = a[a[column] > 1]\n",
    "        #print(column, list(a.index.values))\n",
    "        \n",
    "        #filteredDF2 = filteredDF2[filteredDF2[column].isin(list(a.index.values))]\n",
    "        filteredDF2[column].loc[filteredDF2[column].str.len() > 20] = \"other\"\n",
    "        #filteredDF2[column].loc[filteredDF2[column].str.isnumeric()] = \"other\"\n",
    "        \n",
    "        filteredDF2[column] = filteredDF2[column].str.strip()\n",
    "        filteredDF2[column] = filteredDF2[column].str.lower()\n",
    "        filteredDF2[column] = filteredDF2[column].str.replace('\"', '')\n",
    "filteredDF2['Neighborhood'].value_counts().plot(kind=\"bar\")\n",
    "#filteredDF2['Location'].value_counts().plot(kind=\"bar\")\n",
    "#filteredDF2['PropertyGFAParking'].value_counts().plot(kind=\"bar\")\n",
    "#filteredDF2['Neighborhood'].loc[filteredDF2['Neighborhood'].str.len() > 20] = \"other\"\n",
    "#filteredDF2['Neighborhood'].loc[filteredDF2['Neighborhood'].str.isnumeric()] = \"other\"\n",
    "#filteredDF2['Neighborhood'].value_counts()"
   ]
  },
  {
   "cell_type": "markdown",
   "id": "encouraging-scholarship",
   "metadata": {},
   "source": [
    "Traitement de Location"
   ]
  },
  {
   "cell_type": "code",
   "execution_count": 8,
   "id": "superb-hundred",
   "metadata": {},
   "outputs": [
    {
     "data": {
      "text/plain": [
       "(6716, 31)"
      ]
     },
     "execution_count": 8,
     "metadata": {},
     "output_type": "execute_result"
    }
   ],
   "source": [
    "#filteredDF2['Location'].value_counts()\n",
    "#filteredDF2['Location'].loc[filteredDF2['Location'].str.len() > 20] = \"other\"\n",
    "#filteredDF2['Location'].value_counts()\n",
    "filteredDF2.shape"
   ]
  },
  {
   "cell_type": "code",
   "execution_count": 9,
   "id": "promising-security",
   "metadata": {},
   "outputs": [],
   "source": [
    "#Traitement de PropertyGFAParking\n",
    "#filteredDF2['PropertyGFAParking'].value_counts().to_frame()\n",
    "#filteredDF2['PropertyGFAParking'].loc[filteredDF2['PropertyGFAParking'].str.isnumeric()] = \"other\"\n",
    "#filteredDF2['PropertyGFAParking'].loc[filteredDF2['PropertyGFAParking'].str.len() > 30] = \"other\"\n",
    "#filteredDF2['PropertyGFAParking'] = filteredDF2['PropertyGFAParking'].replace(\"nan\", \"other\")\n",
    "#filteredDF2['PropertyGFAParking'].value_counts().to_frame()"
   ]
  },
  {
   "cell_type": "code",
   "execution_count": 10,
   "id": "generic-violin",
   "metadata": {},
   "outputs": [
    {
     "data": {
      "text/html": [
       "<div>\n",
       "<style scoped>\n",
       "    .dataframe tbody tr th:only-of-type {\n",
       "        vertical-align: middle;\n",
       "    }\n",
       "\n",
       "    .dataframe tbody tr th {\n",
       "        vertical-align: top;\n",
       "    }\n",
       "\n",
       "    .dataframe thead th {\n",
       "        text-align: right;\n",
       "    }\n",
       "</style>\n",
       "<table border=\"1\" class=\"dataframe\">\n",
       "  <thead>\n",
       "    <tr style=\"text-align: right;\">\n",
       "      <th></th>\n",
       "      <th>Unnamed: 0</th>\n",
       "      <th>columns</th>\n",
       "      <th>type</th>\n",
       "      <th>filledRatio</th>\n",
       "      <th>nbValues</th>\n",
       "    </tr>\n",
       "  </thead>\n",
       "  <tbody>\n",
       "    <tr>\n",
       "      <th>0</th>\n",
       "      <td>0</td>\n",
       "      <td>OSEBuildingID</td>\n",
       "      <td>int64</td>\n",
       "      <td>100.000</td>\n",
       "      <td>3432</td>\n",
       "    </tr>\n",
       "    <tr>\n",
       "      <th>1</th>\n",
       "      <td>1</td>\n",
       "      <td>DataYear</td>\n",
       "      <td>int64</td>\n",
       "      <td>100.000</td>\n",
       "      <td>2</td>\n",
       "    </tr>\n",
       "    <tr>\n",
       "      <th>2</th>\n",
       "      <td>2</td>\n",
       "      <td>BuildingType</td>\n",
       "      <td>object</td>\n",
       "      <td>100.000</td>\n",
       "      <td>8</td>\n",
       "    </tr>\n",
       "    <tr>\n",
       "      <th>3</th>\n",
       "      <td>3</td>\n",
       "      <td>PrimaryPropertyType</td>\n",
       "      <td>object</td>\n",
       "      <td>100.000</td>\n",
       "      <td>29</td>\n",
       "    </tr>\n",
       "    <tr>\n",
       "      <th>4</th>\n",
       "      <td>4</td>\n",
       "      <td>PropertyName</td>\n",
       "      <td>object</td>\n",
       "      <td>100.000</td>\n",
       "      <td>6527</td>\n",
       "    </tr>\n",
       "    <tr>\n",
       "      <th>...</th>\n",
       "      <td>...</td>\n",
       "      <td>...</td>\n",
       "      <td>...</td>\n",
       "      <td>...</td>\n",
       "      <td>...</td>\n",
       "    </tr>\n",
       "    <tr>\n",
       "      <th>56</th>\n",
       "      <td>56</td>\n",
       "      <td>NeighborhoodInt</td>\n",
       "      <td>int64</td>\n",
       "      <td>100.000</td>\n",
       "      <td>13</td>\n",
       "    </tr>\n",
       "    <tr>\n",
       "      <th>57</th>\n",
       "      <td>57</td>\n",
       "      <td>BuildingTypeInt</td>\n",
       "      <td>int64</td>\n",
       "      <td>100.000</td>\n",
       "      <td>8</td>\n",
       "    </tr>\n",
       "    <tr>\n",
       "      <th>58</th>\n",
       "      <td>58</td>\n",
       "      <td>ENERGYSTARScoreColor</td>\n",
       "      <td>object</td>\n",
       "      <td>100.000</td>\n",
       "      <td>4</td>\n",
       "    </tr>\n",
       "    <tr>\n",
       "      <th>59</th>\n",
       "      <td>59</td>\n",
       "      <td>PrimaryPropertyTypeInt</td>\n",
       "      <td>int64</td>\n",
       "      <td>100.000</td>\n",
       "      <td>29</td>\n",
       "    </tr>\n",
       "    <tr>\n",
       "      <th>60</th>\n",
       "      <td>60</td>\n",
       "      <td>totalKbtu</td>\n",
       "      <td>float64</td>\n",
       "      <td>99.717</td>\n",
       "      <td>6689</td>\n",
       "    </tr>\n",
       "  </tbody>\n",
       "</table>\n",
       "<p>61 rows × 5 columns</p>\n",
       "</div>"
      ],
      "text/plain": [
       "    Unnamed: 0                 columns     type  filledRatio  nbValues\n",
       "0            0           OSEBuildingID    int64      100.000      3432\n",
       "1            1                DataYear    int64      100.000         2\n",
       "2            2            BuildingType   object      100.000         8\n",
       "3            3     PrimaryPropertyType   object      100.000        29\n",
       "4            4            PropertyName   object      100.000      6527\n",
       "..         ...                     ...      ...          ...       ...\n",
       "56          56         NeighborhoodInt    int64      100.000        13\n",
       "57          57         BuildingTypeInt    int64      100.000         8\n",
       "58          58    ENERGYSTARScoreColor   object      100.000         4\n",
       "59          59  PrimaryPropertyTypeInt    int64      100.000        29\n",
       "60          60               totalKbtu  float64       99.717      6689\n",
       "\n",
       "[61 rows x 5 columns]"
      ]
     },
     "execution_count": 10,
     "metadata": {},
     "output_type": "execute_result"
    }
   ],
   "source": [
    "nonNullRateFrame = pd.read_csv(\"nonNullFrame.csv\", decimal=\".\", delimiter=\",\")\n",
    "nonNullRateFrame"
   ]
  },
  {
   "cell_type": "markdown",
   "id": "rocky-beaver",
   "metadata": {},
   "source": [
    "Traitement de YearBuilt et BuildingTypeInt et transformation de ces variables en numerics"
   ]
  },
  {
   "cell_type": "code",
   "execution_count": 11,
   "id": "developing-cycling",
   "metadata": {},
   "outputs": [
    {
     "data": {
      "text/plain": [
       "2000    144\n",
       "2008    135\n",
       "1989    134\n",
       "1999    129\n",
       "1988    128\n",
       "       ... \n",
       "1942      6\n",
       "1944      4\n",
       "1939      4\n",
       "1936      2\n",
       "1935      2\n",
       "Name: YearBuilt, Length: 113, dtype: int64"
      ]
     },
     "execution_count": 11,
     "metadata": {},
     "output_type": "execute_result"
    }
   ],
   "source": [
    "#filteredDF2[\"YearBuilt\"] = pd.to_numeric(filteredDF2[\"YearBuilt\"], errors='coerce')\n",
    "#filteredDF2[\"BuildingTypeInt\"] = pd.to_numeric(filteredDF2[\"BuildingTypeInt\"], errors='coerce')\n",
    "np.unique(filteredDF2[\"BuildingTypeInt\"].values)\n",
    "filteredDF2[\"YearBuilt\"].value_counts()"
   ]
  },
  {
   "cell_type": "code",
   "execution_count": 12,
   "id": "departmental-chase",
   "metadata": {},
   "outputs": [],
   "source": [
    "# number of floors \n",
    "#filteredDF2['NumberofFloors'] = filteredDF2['NumberofFloors'].replace(np.nan, 0)\n",
    "#filteredDF2 = filteredDF2[filteredDF2['GHGEmissions(MetricTonsCO2e)'] > -1000]\n",
    "#filteredDF2['NumberofFloors'].value_counts()"
   ]
  },
  {
   "cell_type": "code",
   "execution_count": 14,
   "id": "sensitive-borough",
   "metadata": {},
   "outputs": [
    {
     "name": "stdout",
     "output_type": "stream",
     "text": [
      "noEnergyList ['YearBuilt', 'PropertyGFATotal', 'NeighborhoodInt', 'PrimaryPropertyTypeInt', 'BuildingTypeInt']\n"
     ]
    },
    {
     "name": "stderr",
     "output_type": "stream",
     "text": [
      "<ipython-input-14-712631b2998d>:8: SettingWithCopyWarning: \n",
      "A value is trying to be set on a copy of a slice from a DataFrame.\n",
      "Try using .loc[row_indexer,col_indexer] = value instead\n",
      "\n",
      "See the caveats in the documentation: https://pandas.pydata.org/pandas-docs/stable/user_guide/indexing.html#returning-a-view-versus-a-copy\n",
      "  filteredDF2['LargestPropertyUseTypeGFA'] = filteredDF2['LargestPropertyUseTypeGFA'].replace(np.nan, -1000)\n"
     ]
    }
   ],
   "source": [
    "# Energy Variables\n",
    "#for y let's keep only rows with data\n",
    "#filteredDF2['GHGEmissions(MetricTonsCO2e)'] = filteredDF2['GHGEmissions(MetricTonsCO2e)'].replace(np.nan, -1000)\n",
    "#filteredDF2 = filteredDF2[filteredDF2['GHGEmissions(MetricTonsCO2e)'] > 0]\n",
    "\n",
    "filteredDF2['GHGEmissionsIntensity(kgCO2e/ft2)'] = filteredDF2['GHGEmissionsIntensity(kgCO2e/ft2)'].replace(np.nan, -1000)\n",
    "filteredDF2 = filteredDF2[filteredDF2['GHGEmissionsIntensity(kgCO2e/ft2)'] > -1000]\n",
    "filteredDF2['LargestPropertyUseTypeGFA'] = filteredDF2['LargestPropertyUseTypeGFA'].replace(np.nan, -1000)\n",
    "filteredDF2 = filteredDF2[filteredDF2['LargestPropertyUseTypeGFA'] > -1000]\n",
    "filteredDF2['PropertyGFATotal'] = filteredDF2['PropertyGFATotal'].replace(np.nan, -1000)\n",
    "filteredDF2 = filteredDF2[filteredDF2['PropertyGFATotal'] > -1000]\n",
    "#filteredDF2['YearBuilt'] = filteredDF2['YearBuilt'].replace(np.nan, -1000)\n",
    "#print(np.unique(filteredDF2['GHGEmissionsIntensity(kgCO2e/ft2)'].values))\n",
    "#nonNullRateFrame.columns.str.contains(\"kbtu\")\n",
    "kbtusColumns = nonNullRateFrame[nonNullRateFrame[\"columns\"].str.contains(\"kBtu\")]\n",
    "CO2Columns = nonNullRateFrame[nonNullRateFrame[\"columns\"].str.contains(\"CO2\")]\n",
    "kwhColumns = nonNullRateFrame[nonNullRateFrame[\"columns\"].str.contains(\"kWh\")]\n",
    "listToChange = list(kwhColumns['columns'].values) + list(CO2Columns['columns'].values) + list(kbtusColumns['columns'].values)\n",
    "noEnergyList = []\n",
    "\n",
    "toTrash = ['Unnamed: 0', \n",
    "           #\"ListOfAllPropertyUseTypes\", \n",
    "           \"Location\", \n",
    "           \"State\", \n",
    "           \"ThirdLargestPropertyUseType\", \n",
    "           \"PropertyGFAParking\", \n",
    "           \"Neighborhood\", \n",
    "           \"PrimaryPropertyType\", \n",
    "           \"NaturalGas(therms)\", \n",
    "           \"YearsENERGYSTARCertified\", \n",
    "           \"ENERGYSTARScore\", \n",
    "           \"ENERGYSTARScoreColor\", \n",
    "           \"TotalGHGEmissions\", \n",
    "           \"City\", \n",
    "           #\"YearBuilt\", \n",
    "           \"Address\", \n",
    "           \"GHGEmissionsIntensity\"]\n",
    "toTrash = toTrash + [\n",
    "        'NumberofBuildings', \n",
    "       'PropertyGFABuilding(s)', \n",
    "        'LargestPropertyUseType', \n",
    "        \"LargestPropertyUseTypeGFA\",\n",
    "        #\"PropertyGFATotal\", \n",
    "        \"BuildingType\", \n",
    "        \"totalKbtu\", \n",
    "       \"NumberofFloors\", \n",
    "       'ThirdLargestPropertyUseTypeGFA']\n",
    "\n",
    "\n",
    "for column in filteredDF2.columns:\n",
    "    if column not in listToChange and column not in toTrash:\n",
    "        noEnergyList.append(column)\n",
    "\n",
    "print(\"noEnergyList\", noEnergyList)\n",
    "#print(\"frameShape\", filteredDF2.shape)"
   ]
  },
  {
   "cell_type": "markdown",
   "id": "pointed-transcript",
   "metadata": {},
   "source": [
    "# Linear Regression CO2 Metrics "
   ]
  },
  {
   "cell_type": "code",
   "execution_count": 15,
   "id": "failing-lawyer",
   "metadata": {},
   "outputs": [
    {
     "name": "stdout",
     "output_type": "stream",
     "text": [
      "score 0.1489020053331087\n"
     ]
    }
   ],
   "source": [
    "#Linear Regression CO2 Metrics \n",
    "y = filteredDF2['GHGEmissions(MetricTonsCO2e)'].values.reshape(-1, 1)\n",
    "#y = filteredDF2['GHGEmissionsIntensity(kgCO2e/ft2)'].values.reshape(-1, 1)\n",
    "#LabelEncoder make a multiclass value\n",
    "#y_labeled = LabelEncoder().fit_transform(filteredDF[\"TotalGHGEmissions\"].values)\n",
    "\n",
    "stdScaler = StandardScaler()\n",
    "X = filteredDF2.filter(items=noEnergyList)\n",
    "\n",
    "#X_std = stdScaler.fit_transform(X.values)\n",
    "#print(np.unique(X_std))\n",
    "#print(np.unique(y_std))\n",
    "X_train, X_test, y_train, y_test = model_selection.train_test_split(X.values, y, train_size=0.8)\n",
    "\n",
    "regression = linear_model.LinearRegression()\n",
    "#regression = linear_model.LogisticRegression(max_iter=100000)\n",
    "regression.fit(X_train, y_train)\n",
    "\n",
    "print(\"score\", regression.score(X_test, y_test))"
   ]
  },
  {
   "cell_type": "markdown",
   "id": "announced-projection",
   "metadata": {},
   "source": [
    "# avec une standardisation des données"
   ]
  },
  {
   "cell_type": "code",
   "execution_count": 16,
   "id": "overall-event",
   "metadata": {},
   "outputs": [
    {
     "name": "stdout",
     "output_type": "stream",
     "text": [
      "score 0.2629513744550015\n"
     ]
    }
   ],
   "source": [
    "y_std = StandardScaler().fit_transform(filteredDF2['GHGEmissions(MetricTonsCO2e)'].values.reshape(-1, 1))\n",
    "#y_std = StandardScaler().fit_transform(filteredDF2['GHGEmissionsIntensity(kgCO2e/ft2)'].values.reshape(-1, 1))\n",
    "#y = filteredDF2['GHGEmissionsIntensity(kgCO2e/ft2)'].values.reshape(-1, 1)\n",
    "#LabelEncoder make a multiclass value\n",
    "#y_labeled = LabelEncoder().fit_transform(filteredDF[\"TotalGHGEmissions\"].values)\n",
    "\n",
    "stdScaler = StandardScaler()\n",
    "X = filteredDF2.filter(items=noEnergyList)\n",
    "\n",
    "X_std = stdScaler.fit_transform(X.values)\n",
    "#print(np.unique(X_std))\n",
    "#print(np.unique(y_std))\n",
    "X_train, X_test, y_train, y_test = model_selection.train_test_split(X_std, y_std, train_size=0.7)\n",
    "y_std\n",
    "\n",
    "regression = linear_model.LinearRegression()\n",
    "#regression = linear_model.LogisticRegression(max_iter=100000)\n",
    "regression.fit(X_train, y_train)\n",
    "\n",
    "print(\"score\", regression.score(X_test, y_test))"
   ]
  },
  {
   "cell_type": "code",
   "execution_count": 17,
   "id": "experienced-breach",
   "metadata": {},
   "outputs": [
    {
     "data": {
      "text/plain": [
       "array([ 2.49430e+02,  2.63510e+02,  2.06148e+03, ..., -1.00000e+00,\n",
       "       -1.00000e+00, -1.00000e+00])"
      ]
     },
     "execution_count": 17,
     "metadata": {},
     "output_type": "execute_result"
    }
   ],
   "source": [
    "#filteredDF = filteredDF[filteredDF[\"GHGEmissionsIntensity\"] > 0]\n",
    "filteredDF[\"GHGEmissions(MetricTonsCO2e)\"].values"
   ]
  },
  {
   "cell_type": "markdown",
   "id": "advanced-meter",
   "metadata": {},
   "source": [
    "# With label encoder for \"Neighborhood PrimaryPropertyType BuildingType\""
   ]
  },
  {
   "cell_type": "code",
   "execution_count": 18,
   "id": "light-guest",
   "metadata": {},
   "outputs": [
    {
     "data": {
      "image/png": "[encoded data removed]",
      "text/plain": [
       "<Figure size 432x288 with 1 Axes>"
      ]
     },
     "metadata": {
      "needs_background": "light"
     },
     "output_type": "display_data"
    }
   ],
   "source": [
    "from sklearn.preprocessing import LabelEncoder\n",
    "from sklearn.preprocessing import OneHotEncoder\n",
    "encoder = LabelEncoder()\n",
    "for column in [\"Neighborhood\", \"PrimaryPropertyType\", \"BuildingType\", \"LargestPropertyUseType\",\"Location\", \"PropertyGFAParking\", \"NumberofFloors\", \"NumberofBuildings\"]:\n",
    "    newCol = column+\"Enc\"\n",
    "    filteredDF2[newCol] = encoder.fit_transform(filteredDF2[column].values)\n",
    "    filteredDF2[newCol].value_counts().plot(kind=\"bar\")\n",
    "#filteredDF2[\"BuildingTypeEnc\"].value_counts().plot(kind=\"bar\")\n"
   ]
  },
  {
   "cell_type": "markdown",
   "id": "settled-right",
   "metadata": {},
   "source": [
    "# Label Encoder + Std "
   ]
  },
  {
   "cell_type": "code",
   "execution_count": 19,
   "id": "blank-interpretation",
   "metadata": {},
   "outputs": [
    {
     "name": "stdout",
     "output_type": "stream",
     "text": [
      "score 0.3224962626811029\n"
     ]
    }
   ],
   "source": [
    "#Label Encoder + Std \n",
    "columnsEncodedToKeep = ['YearBuilt', 'PropertyGFATotal',  \"LocationEnc\", \"LargestPropertyUseTypeEnc\", \"PropertyGFAParkingEnc\", \"NumberofFloorsEnc\", \"NumberofBuildingsEnc\", 'NeighborhoodEnc', 'PrimaryPropertyTypeEnc', 'BuildingTypeEnc']\n",
    "#y = filteredDF2['GHGEmissions(MetricTonsCO2e)'].values.reshape(-1, 1)\n",
    "#y_std = StandardScaler().fit_transform(filteredDF2['GHGEmissionsIntensity(kgCO2e/ft2)'].values.reshape(-1, 1))\n",
    "y_std = StandardScaler().fit_transform(filteredDF2['GHGEmissions(MetricTonsCO2e)'].values.reshape(-1, 1))\n",
    "\n",
    "#GHGEmissionsIntensity(kgCO2e/ft2)\n",
    "stdScaler = StandardScaler()\n",
    "X = filteredDF2.filter(items=columnsEncodedToKeep)\n",
    "\n",
    "X_std = stdScaler.fit_transform(X.values)\n",
    "#print(np.unique(X_std))\n",
    "#print(np.unique(y_std))\n",
    "X_train, X_test, y_train, y_test = model_selection.train_test_split(X_std, y_std, train_size=0.7)\n",
    "\n",
    "regression = linear_model.LinearRegression()\n",
    "#regression = linear_model.LogisticRegression(max_iter=100000)\n",
    "regression.fit(X_train, y_train)\n",
    "\n",
    "print(\"score\", regression.score(X_test, y_test))"
   ]
  },
  {
   "cell_type": "markdown",
   "id": "metric-suicide",
   "metadata": {},
   "source": [
    "# Avec Grid Search \n"
   ]
  },
  {
   "cell_type": "code",
   "execution_count": 20,
   "id": "collected-consistency",
   "metadata": {},
   "outputs": [
    {
     "name": "stdout",
     "output_type": "stream",
     "text": [
      "2 0.16645405334036645 0.9285675925811158\n",
      "3 0.14893400390702613 0.9285675925811158\n",
      "4 0.1936554452315076 0.9285675925811158\n",
      "5 0.1531680191143051 0.9285675925811158\n",
      "6 0.08081356999563923 0.9285675925811158\n",
      "7 0.1198291788474076 0.9285675925811158\n",
      "8 0.045196448530687994 0.9285675925811158\n",
      "9 0.1506506832873496 0.9285675925811158\n",
      "10 0.12497022984085375 0.9285675925811158\n",
      "11 0.09586470075582078 0.9285675925811158\n",
      "12 0.007618232457158425 0.9285675925811158\n",
      "13 0.060148038621877425 0.9285675925811158\n",
      "14 0.06058582851204357 0.9285675925811158\n",
      "15 0.07439110384023725 0.9285675925811158\n",
      "16 -0.13688630972083415 0.9285675925811158\n",
      "17 -0.0964136894450525 0.9285675925811158\n",
      "18 -0.028381502354762563 0.9285675925811158\n",
      "19 -0.11181017492948808 0.9285675925811158\n"
     ]
    }
   ],
   "source": [
    "lrCV = linear_model.LinearRegression()\n",
    "params = {\"fit_intercept\": [\"True\", \"False\"], \"normalize\": [\"True\", \"False\"] } \n",
    "rmseLinearRegression = []\n",
    "scoreLinearRegression = []\n",
    "Y_pred = []\n",
    "for cv in range(2, 20):\n",
    "    lr_gs = GridSearchCV(lrCV, params, cv=cv)\n",
    "    #print(lrCV.get_params().keys())\n",
    "    lr_gs.fit(X_train, y_train)\n",
    "    #print(cv, lr_gs.best_params_)\n",
    "    #print(cv, lr_gs.best_score_)\n",
    "    Y_pred.append(lr_gs.predict(X_test))\n",
    "    scoreLinearRegression.append(lr_gs.best_score_)\n",
    "    rmseLinearRegression.append(np.sqrt(metrics.mean_squared_error(y_test, Y_pred[-1])))\n",
    "    print(cv, lr_gs.best_score_, rmseLinearRegression[-1])"
   ]
  },
  {
   "cell_type": "markdown",
   "id": "voluntary-optimization",
   "metadata": {},
   "source": [
    "# Regression ridge "
   ]
  },
  {
   "cell_type": "code",
   "execution_count": 21,
   "id": "enhanced-calvin",
   "metadata": {},
   "outputs": [
    {
     "name": "stdout",
     "output_type": "stream",
     "text": [
      "2 0.2098977879759018 0.9670699040076011\n",
      "3 0.21425158780949868 0.9752294175998707\n",
      "4 0.23076485670945157 0.9598809150752453\n",
      "5 0.22909064903763615 0.9752294175998707\n",
      "6 0.2137923415336287 0.9940316433981227\n",
      "7 0.22939219357130142 0.9842642518089028\n",
      "8 0.22060868558115818 0.9940316433981227\n",
      "9 0.24379336094296722 0.9752294175998707\n",
      "10 0.24808266664781375 0.9842642518089028\n",
      "11 0.2403934944203945 0.9940316433981227\n",
      "12 0.21902734000529542 1.0043553751927015\n",
      "13 0.24243545897990496 0.9940316433981227\n",
      "14 0.22541707800634356 0.9940316433981227\n",
      "15 0.24596334084534852 0.9940316433981227\n",
      "16 0.22195596817253038 1.0150406160556975\n",
      "17 0.20946910568437516 1.0150406160556975\n",
      "18 0.2508812166898703 1.0043553751927015\n",
      "19 0.22593200720830212 1.0150406160556975\n"
     ]
    }
   ],
   "source": [
    "# paramètre de regularisation \n",
    "n_alphas = 100\n",
    "alphas = np.logspace(-5, 5, n_alphas)\n",
    "coefs = []\n",
    "errors = []\n",
    "Y_pred_reg_ridge = []\n",
    "rmse_reg_ridge = []\n",
    "score_reg_ridge = []\n",
    "\n",
    "params = {\"alpha\": np.logspace(-5, 5, n_alphas), \"normalize\": [\"True\", \"False\"]}\n",
    "for cv in range(2, 20):\n",
    "    ridgeCV = GridSearchCV(linear_model.Ridge(), params, cv=cv)\n",
    "#print(linear_model.Ridge().get_params())\n",
    "    ridgeCV.fit(X_train, y_train)\n",
    "    #print(cv, ridgeCV.best_score_)\n",
    "    score_reg_ridge.append(ridgeCV.best_score_)\n",
    "    Y_pred_reg_ridge.append(ridgeCV.predict(X_test))\n",
    "    rmse_reg_ridge.append(np.sqrt(metrics.mean_squared_error(y_test, Y_pred_reg_ridge[-1])))\n",
    "    print(cv, ridgeCV.best_score_, rmse_reg_ridge[-1])"
   ]
  },
  {
   "cell_type": "code",
   "execution_count": 22,
   "id": "closing-stuart",
   "metadata": {},
   "outputs": [
    {
     "data": {
      "text/plain": [
       "0.22593200720830212"
      ]
     },
     "execution_count": 22,
     "metadata": {},
     "output_type": "execute_result"
    }
   ],
   "source": [
    "ridgeCV.best_score_"
   ]
  },
  {
   "cell_type": "markdown",
   "id": "sweet-muslim",
   "metadata": {},
   "source": [
    "# Lasso"
   ]
  },
  {
   "cell_type": "code",
   "execution_count": 23,
   "id": "eastern-jacket",
   "metadata": {},
   "outputs": [
    {
     "name": "stdout",
     "output_type": "stream",
     "text": [
      "2 0.21915183115097536 0.9747326019939191\n",
      "3 0.1999031766889375 0.9683737738769693\n",
      "4 0.2289637320751953 0.9538487402525504\n",
      "5 0.2201764291164865 0.9683737738769693\n",
      "6 0.20181019027886973 0.9970746452299882\n",
      "7 0.2144369650708411 0.9970746452299882\n",
      "8 0.20653436681624332 0.9970746452299882\n",
      "9 0.2318248365389984 0.9838573826579989\n",
      "10 0.23357905430299475 0.9970746452299882\n",
      "11 0.23047358329191264 0.9970746452299882\n",
      "12 0.2086231317228431 1.0163552229113937\n",
      "13 0.23145784207300205 0.9970746452299882\n",
      "14 0.21305589221721008 0.9970746452299882\n",
      "15 0.23325966143694535 0.9970746452299882\n",
      "16 0.2127044089988745 1.0163552229113937\n",
      "17 0.20343339219563394 1.0163552229113937\n",
      "18 0.2417713211863201 0.9970746452299882\n",
      "19 0.2182426948729093 1.0163552229113937\n"
     ]
    }
   ],
   "source": [
    "lasso = linear_model.Lasso(max_iter=10000)\n",
    "params = {\"alpha\": np.logspace(-5, 5, n_alphas), \"normalize\": [\"True\", \"False\"]}\n",
    "Y_pred_lasso = []\n",
    "rmselasso  = []\n",
    "scoreLasso  = []\n",
    "for cv in range(2, 20):\n",
    "    lassoGS = GridSearchCV(lasso, params, cv=cv)\n",
    "    lassoGS.fit(X_train, y_train)\n",
    "    scoreLasso.append(lassoGS.best_score_)\n",
    "    Y_pred_lasso.append(lassoGS.predict(X_test))\n",
    "    rmselasso.append(np.sqrt(metrics.mean_squared_error(y_test, Y_pred_lasso[-1])))\n",
    "    print(cv, lassoGS.best_score_, rmselasso[-1])"
   ]
  },
  {
   "cell_type": "markdown",
   "id": "convinced-power",
   "metadata": {},
   "source": [
    "# KernelRidge"
   ]
  },
  {
   "cell_type": "code",
   "execution_count": null,
   "id": "following-making",
   "metadata": {},
   "outputs": [
    {
     "name": "stdout",
     "output_type": "stream",
     "text": [
      "2 -0.615885122274821 {'alpha': 0.0001291549665014884, 'gamma': 0.0016681005372000592, 'kernel': 'rbf'} 0.7878177428153321\n",
      "3 -0.47129742027822014 {'alpha': 0.0001291549665014884, 'gamma': 0.0016681005372000592, 'kernel': 'rbf'} 0.7878177428153321\n",
      "4 -0.48185396803104585 {'alpha': 0.0001291549665014884, 'gamma': 0.0016681005372000592, 'kernel': 'rbf'} 0.7878177428153321\n"
     ]
    }
   ],
   "source": [
    "params = {\"gamma\": np.logspace(-5, 5, 10), \"alpha\": np.logspace(-5, 5, 10), \"kernel\": [\"rbf\", \"linear\"]}\n",
    "rmse_kernel_ridge = []\n",
    "score_kernel_ridge = []\n",
    "Y_pred_kernel_ridge = []\n",
    "for cv in range(2, 10):\n",
    "    kernelRidgeCV = model_selection.GridSearchCV(KernelRidge(), params, cv=cv, scoring=\"neg_mean_squared_error\")\n",
    "    kernelRidgeCV.fit(X_train, y_train)\n",
    "    Y_pred_kernel_ridge.append(kernelRidgeCV.predict(X_test))\n",
    "    score_kernel_ridge.append(kernelRidgeCV.best_score_)\n",
    "    rmse_kernel_ridge.append(np.sqrt(metrics.mean_squared_error(y_test, Y_pred_kernel_ridge[-1])))\n",
    "    print(cv, kernelRidgeCV.best_score_, kernelRidgeCV.best_params_ , rmse_kernel_ridge[-1])"
   ]
  },
  {
   "cell_type": "markdown",
   "id": "weird-bargain",
   "metadata": {},
   "source": [
    "# SVM"
   ]
  },
  {
   "cell_type": "code",
   "execution_count": null,
   "id": "unavailable-adjustment",
   "metadata": {},
   "outputs": [],
   "source": [
    "SVR = svm.SVR()\n",
    "parameters = {\"C\": np.logspace(-5, 5, 10), \"kernel\": [\"linear\", \"poly\", \"rbf\", \"sigmoid\"]}\n",
    "rmseLinearSVR = []\n",
    "scoreLinearSVR = []\n",
    "Y_pred_svm = []\n",
    "\n",
    "for cv in range(2, 8):\n",
    "    lr_svm = GridSearchCV(SVR, parameters, cv=cv)\n",
    "    lr_svm.fit(MinMaxScaler().fit_transform(X_train), y_train.ravel())\n",
    "    Y_pred_svm.append(lr_svm.predict(MinMaxScaler().fit_transform(X_test)))\n",
    "    scoreLinearSVR.append(lr_svm.best_score_)\n",
    "    rmseLinearSVR.append(np.sqrt(metrics.mean_squared_error(y_test, Y_pred_svm[-1])))\n",
    "    print(cv, lr_svm.best_score_, lr_svm.best_params_ , rmseLinearSVR[-1])"
   ]
  },
  {
   "cell_type": "markdown",
   "id": "dress-blanket",
   "metadata": {},
   "source": [
    "# Multilayer Percpetron "
   ]
  },
  {
   "cell_type": "code",
   "execution_count": null,
   "id": "spread-flush",
   "metadata": {},
   "outputs": [],
   "source": [
    "params_grid = {\"alpha\": list(np.logspace(0 ,1, 10)) , \"hidden_layer_sizes\": list(range(1, 100, 10)), \"solver\": [\"lbfgs\", \"sgd\", \"adam\"], \"activation\" : [\"identity\", \"logistic\", \"tanh\", \"relu\"]}\n",
    "rmseMultiPercpetron = []\n",
    "scoreMultiPercpetron = []\n",
    "Y_pred_MultiPercpetron = []\n",
    "\n",
    "for cv in range(2, 8):\n",
    "    perceptCVMLP = GridSearchCV(MLPClassifier(max_iter=1000), params_grid, cv=cv)\n",
    "    perceptCVMLP.fit(X_trMinMaxScaler().fit_transform(X_train), y_train.ravel())\n",
    "    Y_pred_MultiPercpetron.append(perceptCVMLP.predict(MinMaxScaler().fit_transform(X_test)))\n",
    "    scoreMultiPercpetron.append(perceptCVMLP.best_score_)\n",
    "    rmseMultiPercpetron.append(np.sqrt(metrics.mean_squared_error(y_test, Y_pred_MultiPercpetron[-1])))"
   ]
  },
  {
   "cell_type": "markdown",
   "id": "demonstrated-citation",
   "metadata": {},
   "source": [
    "# Graph Y_pred"
   ]
  },
  {
   "cell_type": "code",
   "execution_count": null,
   "id": "varying-morrison",
   "metadata": {},
   "outputs": [],
   "source": [
    "print(rmseLinearRegression)"
   ]
  },
  {
   "cell_type": "code",
   "execution_count": null,
   "id": "nearby-stretch",
   "metadata": {},
   "outputs": [],
   "source": [
    "#A ajouter H2O pour aller à l'essentiel\n",
    "#print(X_test[:, 1])\n",
    "fig = plt.figure(figsize=(15, 10))\n",
    "plt.scatter(X_test[:, 1], y_test, color=\"black\", marker='s', label=\"Test Set\")\n",
    "plt.scatter(X_test[:, 1], Y_pred_lasso[scoreLasso.index(max(scoreLasso))], color=\"green\", marker='o', label=\"Lasso Pred\")\n",
    "plt.scatter(X_test[:, 1], Y_pred_kernel_ridge[score_kernel_ridge.index(max(score_kernel_ridge))], color=\"blue\", marker='o', label=\"Kernel Ridge\")\n",
    "plt.scatter(X_test[:, 1], Y_pred_reg_ridge[score_reg_ridge.index(max(score_reg_ridge))], color=\"yellow\", marker='o', label=\"Ridge Regression\")\n",
    "plt.scatter(X_test[:, 1], Y_pred_svm[scoreLinearSVR.index(max(scoreLinearSVR))], color=\"lightgreen\", marker='o', label=\"SVM\")\n",
    "plt.scatter(X_test[:, 1], Y_pred[scoreLinearRegression.index(max(scoreLinearRegression))], color=\"orange\", marker='o', label=\"Linear Regression\")\n",
    "plt.legend(loc=\"lower right\", fontsize=14)\n",
    "#plt.plot(fpr, tpr, '-', lw=2, label='gamma=0.01, AUC=%.2f' % auc)\n",
    "\n",
    "# afficher la courbe ROC du modèle optimisé\n",
    "#plt.plot(fpr_cv, tpr_cv, '-', lw=2, label='gamma=%.1e, AUC=%.2f' % \\\n",
    "#         (gridSearch.best_params_['gamma'], auc_cv))\n",
    "#Ajout de la diagonale de 0.0 à 1.1\n",
    "#plt.plot([0,1], [0, 1])\n",
    "plt.xlabel(\"GFA\")\n",
    "plt.ylabel(\"CO2\")"
   ]
  },
  {
   "cell_type": "markdown",
   "id": "respected-immune",
   "metadata": {},
   "source": [
    "# Graph Errors"
   ]
  },
  {
   "cell_type": "code",
   "execution_count": null,
   "id": "external-uncle",
   "metadata": {},
   "outputs": [],
   "source": [
    "fig = plt.figure(figsize=(15, 10))\n",
    "#np.logspace(-5, 5, 10),\n",
    "print(rmseLinearSVR)\n",
    "plt.plot(np.logspace(0, 1, 18), rmseLinearRegression,  color=\"orange\", marker='s', label=\"Linear Regression RMSE\")\n",
    "plt.plot(np.logspace(0, 1, 8), rmse_kernel_ridge,  color=\"blue\", marker='o', label=\"Kernel Ridge RMSE\")\n",
    "plt.plot(np.logspace(0, 1, 18), rmse_reg_ridge,  color=\"yellow\", marker='o', label=\"Ridge Regression RMSE\")\n",
    "plt.plot(np.logspace(0, 1, 18), rmselasso,  color=\"green\", marker='o', label=\"Lasso RMSE\")\n",
    "plt.plot(np.logspace(0, 1, 6), rmseLinearSVR,  color=\"lightgreen\", marker='o', label=\"SVM RMSE\")\n",
    "\n",
    "plt.legend(loc=\"lower right\", fontsize=14)\n",
    "plt.ylabel(\"RMSE\")\n",
    "plt.xlabel(\"Coefs Alpha/C\")"
   ]
  },
  {
   "cell_type": "markdown",
   "id": "controlled-terminology",
   "metadata": {},
   "source": [
    "#  Multilayer Perceptron"
   ]
  },
  {
   "cell_type": "code",
   "execution_count": null,
   "id": "prospective-thomson",
   "metadata": {},
   "outputs": [],
   "source": [
    "params_grid = {\"alpha\": list(np.logspace(0, 1, 10)) , \"hidden_layer_sizes\": list(range(1, 100, 10)), \"solver\": [\"lbfgs\", \"sgd\", \"adam\"], \"activation\" : [\"identity\", \"logistic\", \"tanh\", \"relu\"]}\n",
    "rmseMultiPercpetron = []\n",
    "scoreMultiPercpetron = []\n",
    "Y_pred_MultiPercpetron = []\n",
    "\n",
    "for cv in range(2, 8):\n",
    "    perceptCVMLP = GridSearchCV(MLPClassifier(max_iter=1000), params_grid, cv=cv)\n",
    "    perceptCVMLP.fit(X_trMinMaxScaler().fit_transform(X_train), y_train.ravel())\n",
    "    Y_pred_MultiPercpetron.append(perceptCVMLP.predict(MinMaxScaler().fit_transform(X_test)))\n",
    "    scoreMultiPercpetron.append(perceptCVMLP.best_score_)\n",
    "    rmseMultiPercpetron.append(np.sqrt(metrics.mean_squared_error(y_test, Y_pred_MultiPercpetron[-1])))"
   ]
  },
  {
   "cell_type": "markdown",
   "id": "undefined-diamond",
   "metadata": {},
   "source": [
    "# Modelisation to predict TotalGHGEmissions\n",
    "TotalGHGEmissions"
   ]
  },
  {
   "cell_type": "markdown",
   "id": "attended-league",
   "metadata": {},
   "source": [
    "# Preprocessing and Datasplit"
   ]
  },
  {
   "cell_type": "code",
   "execution_count": null,
   "id": "vocational-tomato",
   "metadata": {},
   "outputs": [],
   "source": [
    "#Label Encoder + Std \n",
    "columnsEncodedToKeep = ['YearBuilt', 'PropertyGFATotal',  \"LocationEnc\", \"LargestPropertyUseTypeEnc\", \"PropertyGFAParkingEnc\", \"NumberofFloorsEnc\", \"NumberofBuildingsEnc\", 'NeighborhoodEnc', 'PrimaryPropertyTypeEnc', 'BuildingTypeEnc']\n",
    "#y = filteredDF2['GHGEmissions(MetricTonsCO2e)'].values.reshape(-1, 1)\n",
    "#y_std = StandardScaler().fit_transform(filteredDF2['GHGEmissionsIntensity(kgCO2e/ft2)'].values.reshape(-1, 1))\n",
    "y_std_ghge = StandardScaler().fit_transform(filteredDF2['TotalGHGEmissions'].values.reshape(-1, 1))\n",
    "\n",
    "#GHGEmissionsIntensity(kgCO2e/ft2)\n",
    "\n",
    "stdScaler = StandardScaler()\n",
    "X = filteredDF2.filter(items=columnsEncodedToKeep)\n",
    "\n",
    "X_std = stdScaler.fit_transform(X.values)\n",
    "X_train_ghge, X_test_ghge, y_train_ghge, y_test_ghge = model_selection.train_test_split(X_std, y_std_ghge, train_size=0.7)"
   ]
  },
  {
   "cell_type": "code",
   "execution_count": null,
   "id": "transparent-communication",
   "metadata": {},
   "outputs": [],
   "source": [
    "lrCV = linear_model.LinearRegression()\n",
    "params = {\"fit_intercept\": [\"True\", \"False\"], \"normalize\": [\"True\", \"False\"] } \n",
    "rmseLinearRegressionGHGE = []\n",
    "Y_pred_GHGE = []\n",
    "for cv in range(2, 20):\n",
    "    lr_gs_GHGE = GridSearchCV(lrCV, params, cv=cv)\n",
    "    #print(lrCV.get_params().keys())\n",
    "    lr_gs_GHGE.fit(X_train_ghge, y_train_ghge)\n",
    "    print(cv, lr_gs_GHGE.best_params_)\n",
    "    print(cv, lr_gs_GHGE.best_score_)\n",
    "    Y_pred.append(lr_gs.predict(X_test_ghge))\n",
    "    rmseLinearRegressionGHGE.append(np.sqrt(metrics.mean_squared_error(y_test_ghge, Y_pred_GHGE[-1])))\n",
    "    print(cv, lr_gs_GHGE.best_score_, rmseLinearRegression[-1])"
   ]
  }
 ],
 "metadata": {
  "kernelspec": {
   "display_name": "Python 3",
   "language": "python",
   "name": "python3"
  },
  "language_info": {
   "codemirror_mode": {
    "name": "ipython",
    "version": 3
   },
   "file_extension": ".py",
   "mimetype": "text/x-python",
   "name": "python",
   "nbconvert_exporter": "python",
   "pygments_lexer": "ipython3",
   "version": "3.8.2"
  }
 },
 "nbformat": 4,
 "nbformat_minor": 5
}
