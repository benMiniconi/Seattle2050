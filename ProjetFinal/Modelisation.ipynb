{
 "cells": [
  {
   "cell_type": "code",
   "execution_count": 777,
   "id": "present-allowance",
   "metadata": {},
   "outputs": [],
   "source": [
    "import pandas as pd \n",
    "import numpy as np\n",
    "import matplotlib.pyplot as plt \n",
    "import seaborn as sns\n",
    "from sklearn.preprocessing import StandardScaler, LabelEncoder, OneHotEncoder\n",
    "from sklearn import linear_model, model_selection, metrics, svm\n",
    "from sklearn.model_selection import cross_val_score, GridSearchCV\n",
    "from sklearn.kernel_ridge import KernelRidge"
   ]
  },
  {
   "cell_type": "code",
   "execution_count": 690,
   "id": "alone-playlist",
   "metadata": {},
   "outputs": [
    {
     "data": {
      "text/plain": [
       "Index(['Unnamed: 0', 'YearBuilt', 'NumberofBuildings', 'NumberofFloors',\n",
       "       'totalKbtu', 'PropertyGFATotal', 'PropertyGFABuilding(s)',\n",
       "       'LargestPropertyUseType', 'LargestPropertyUseTypeGFA',\n",
       "       'ENERGYSTARScore', 'SiteEUI(kBtu/sf)', 'SiteEUIWN(kBtu/sf)',\n",
       "       'SiteEnergyUse(kBtu)', 'SiteEnergyUseWN(kBtu)', 'SteamUse(kBtu)',\n",
       "       'Electricity(kBtu)', 'NaturalGas(kBtu)', 'GHGEmissions(MetricTonsCO2e)',\n",
       "       'GHGEmissionsIntensity(kgCO2e/ft2)', 'City', 'State', 'Location',\n",
       "       'PrimaryPropertyType', 'PropertyGFAParking', 'Neighborhood',\n",
       "       'NeighborhoodInt', 'BuildingType', 'PrimaryPropertyTypeInt',\n",
       "       'BuildingTypeInt', 'ENERGYSTARScoreColor', 'TotalGHGEmissions'],\n",
       "      dtype='object')"
      ]
     },
     "execution_count": 690,
     "metadata": {},
     "output_type": "execute_result"
    }
   ],
   "source": [
    "filteredDF = pd.read_csv(\"filteredDF.csv\", decimal=\".\", delimiter=\",\")\n",
    "#shape 6805 lignes et 38 colonnes\n",
    "filteredDF.columns"
   ]
  },
  {
   "cell_type": "code",
   "execution_count": 691,
   "id": "structural-fence",
   "metadata": {},
   "outputs": [
    {
     "data": {
      "text/plain": [
       "array([0.  , 0.01, 0.02, ...,  nan,  nan,  nan])"
      ]
     },
     "execution_count": 691,
     "metadata": {},
     "output_type": "execute_result"
    }
   ],
   "source": [
    "np.unique(filteredDF[\"GHGEmissionsIntensity(kgCO2e/ft2)\"])"
   ]
  },
  {
   "cell_type": "code",
   "execution_count": 692,
   "id": "senior-panama",
   "metadata": {},
   "outputs": [
    {
     "data": {
      "text/plain": [
       "(6716, 31)"
      ]
     },
     "execution_count": 692,
     "metadata": {},
     "output_type": "execute_result"
    }
   ],
   "source": [
    "#filteredDF[\"PropertyGFAParking\"]  = filteredDF[\"PropertyGFAParking\"].astype(str)\n",
    "filteredDF[\"PrimaryPropertyType\"]  = filteredDF[\"PrimaryPropertyType\"].astype(str)\n",
    "#filteredDF[\"ListOfAllPropertyUseTypes\"] = filteredDF[\"ListOfAllPropertyUseTypes\"].astype(str)\n",
    "#filteredDF[\"PropertyGFAParking\"] = filteredDF[\"PropertyGFAParking\"].replace([0, 1, 2, 3, 4, 5, 6, 7, 8, 9, 10], \"autre\")\n",
    "filteredDF.shape"
   ]
  },
  {
   "cell_type": "code",
   "execution_count": 693,
   "id": "awful-portfolio",
   "metadata": {},
   "outputs": [
    {
     "data": {
      "text/plain": [
       "<AxesSubplot:>"
      ]
     },
     "execution_count": 693,
     "metadata": {},
     "output_type": "execute_result"
    },
    {
     "data": {
      "image/png": "[encoded data removed]",
      "text/plain": [
       "<Figure size 432x288 with 1 Axes>"
      ]
     },
     "metadata": {
      "needs_background": "light"
     },
     "output_type": "display_data"
    }
   ],
   "source": [
    "filteredDF[\"PrimaryPropertyType\"]  = filteredDF[\"PrimaryPropertyType\"].astype(str)\n",
    "filteredDF[\"BuildingType\"].value_counts().plot(kind='bar')"
   ]
  },
  {
   "cell_type": "code",
   "execution_count": 694,
   "id": "welsh-actress",
   "metadata": {},
   "outputs": [
    {
     "name": "stdout",
     "output_type": "stream",
     "text": [
      "[6716]\n"
     ]
    },
    {
     "data": {
      "text/html": [
       "<div>\n",
       "<style scoped>\n",
       "    .dataframe tbody tr th:only-of-type {\n",
       "        vertical-align: middle;\n",
       "    }\n",
       "\n",
       "    .dataframe tbody tr th {\n",
       "        vertical-align: top;\n",
       "    }\n",
       "\n",
       "    .dataframe thead th {\n",
       "        text-align: right;\n",
       "    }\n",
       "</style>\n",
       "<table border=\"1\" class=\"dataframe\">\n",
       "  <thead>\n",
       "    <tr style=\"text-align: right;\">\n",
       "      <th></th>\n",
       "      <th>PrimaryPropertyType</th>\n",
       "    </tr>\n",
       "  </thead>\n",
       "  <tbody>\n",
       "    <tr>\n",
       "      <th>low-rise multifamily</th>\n",
       "      <td>1985</td>\n",
       "    </tr>\n",
       "    <tr>\n",
       "      <th>mid-rise multifamily</th>\n",
       "      <td>1103</td>\n",
       "    </tr>\n",
       "    <tr>\n",
       "      <th>small- and mid-sized office</th>\n",
       "      <td>590</td>\n",
       "    </tr>\n",
       "    <tr>\n",
       "      <th>other</th>\n",
       "      <td>514</td>\n",
       "    </tr>\n",
       "    <tr>\n",
       "      <th>large office</th>\n",
       "      <td>344</td>\n",
       "    </tr>\n",
       "    <tr>\n",
       "      <th>k-12 school</th>\n",
       "      <td>275</td>\n",
       "    </tr>\n",
       "    <tr>\n",
       "      <th>mixed use property</th>\n",
       "      <td>259</td>\n",
       "    </tr>\n",
       "    <tr>\n",
       "      <th>high-rise multifamily</th>\n",
       "      <td>208</td>\n",
       "    </tr>\n",
       "    <tr>\n",
       "      <th>retail store</th>\n",
       "      <td>191</td>\n",
       "    </tr>\n",
       "    <tr>\n",
       "      <th>non-refrigerated warehouse</th>\n",
       "      <td>187</td>\n",
       "    </tr>\n",
       "    <tr>\n",
       "      <th>warehouse</th>\n",
       "      <td>187</td>\n",
       "    </tr>\n",
       "    <tr>\n",
       "      <th>hotel</th>\n",
       "      <td>150</td>\n",
       "    </tr>\n",
       "    <tr>\n",
       "      <th>worship facility</th>\n",
       "      <td>143</td>\n",
       "    </tr>\n",
       "    <tr>\n",
       "      <th>distribution center</th>\n",
       "      <td>106</td>\n",
       "    </tr>\n",
       "    <tr>\n",
       "      <th>senior care community</th>\n",
       "      <td>88</td>\n",
       "    </tr>\n",
       "    <tr>\n",
       "      <th>medical office</th>\n",
       "      <td>82</td>\n",
       "    </tr>\n",
       "    <tr>\n",
       "      <th>self-storage facility</th>\n",
       "      <td>56</td>\n",
       "    </tr>\n",
       "    <tr>\n",
       "      <th>supermarket / grocery store</th>\n",
       "      <td>40</td>\n",
       "    </tr>\n",
       "    <tr>\n",
       "      <th>supermarket/grocery store</th>\n",
       "      <td>36</td>\n",
       "    </tr>\n",
       "    <tr>\n",
       "      <th>university</th>\n",
       "      <td>25</td>\n",
       "    </tr>\n",
       "    <tr>\n",
       "      <th>refrigerated warehouse</th>\n",
       "      <td>25</td>\n",
       "    </tr>\n",
       "    <tr>\n",
       "      <th>restaurant</th>\n",
       "      <td>24</td>\n",
       "    </tr>\n",
       "    <tr>\n",
       "      <th>residence hall</th>\n",
       "      <td>23</td>\n",
       "    </tr>\n",
       "    <tr>\n",
       "      <th>college/university</th>\n",
       "      <td>22</td>\n",
       "    </tr>\n",
       "    <tr>\n",
       "      <th>hospital</th>\n",
       "      <td>20</td>\n",
       "    </tr>\n",
       "    <tr>\n",
       "      <th>residence hall/dormitory</th>\n",
       "      <td>15</td>\n",
       "    </tr>\n",
       "    <tr>\n",
       "      <th>laboratory</th>\n",
       "      <td>11</td>\n",
       "    </tr>\n",
       "    <tr>\n",
       "      <th>sps-district k-12</th>\n",
       "      <td>4</td>\n",
       "    </tr>\n",
       "    <tr>\n",
       "      <th>office</th>\n",
       "      <td>3</td>\n",
       "    </tr>\n",
       "  </tbody>\n",
       "</table>\n",
       "</div>"
      ],
      "text/plain": [
       "                             PrimaryPropertyType\n",
       "low-rise multifamily                        1985\n",
       "mid-rise multifamily                        1103\n",
       "small- and mid-sized office                  590\n",
       "other                                        514\n",
       "large office                                 344\n",
       "k-12 school                                  275\n",
       "mixed use property                           259\n",
       "high-rise multifamily                        208\n",
       "retail store                                 191\n",
       "non-refrigerated warehouse                   187\n",
       "warehouse                                    187\n",
       "hotel                                        150\n",
       "worship facility                             143\n",
       "distribution center                          106\n",
       "senior care community                         88\n",
       "medical office                                82\n",
       "self-storage facility                         56\n",
       "supermarket / grocery store                   40\n",
       "supermarket/grocery store                     36\n",
       "university                                    25\n",
       "refrigerated warehouse                        25\n",
       "restaurant                                    24\n",
       "residence hall                                23\n",
       "college/university                            22\n",
       "hospital                                      20\n",
       "residence hall/dormitory                      15\n",
       "laboratory                                    11\n",
       "sps-district k-12                              4\n",
       "office                                         3"
      ]
     },
     "execution_count": 694,
     "metadata": {},
     "output_type": "execute_result"
    }
   ],
   "source": [
    "a = filteredDF[\"PrimaryPropertyType\"].value_counts().to_frame()\n",
    "a = a[a[\"PrimaryPropertyType\"] > 1]\n",
    "print(sum(a.values))\n",
    "a\n",
    "# faible nombre d'instances eventuellement à oublier. "
   ]
  },
  {
   "cell_type": "markdown",
   "id": "portuguese-causing",
   "metadata": {},
   "source": [
    "Traitement de PrimaryPropertyType and Neighborhood"
   ]
  },
  {
   "cell_type": "code",
   "execution_count": 695,
   "id": "smaller-jewel",
   "metadata": {
    "scrolled": true
   },
   "outputs": [
    {
     "name": "stderr",
     "output_type": "stream",
     "text": [
      "/Users/benjamindeplus/.local/share/virtualenvs/Seattle2050-kF-VE2eh/lib/python3.8/site-packages/pandas/core/indexing.py:1637: SettingWithCopyWarning: \n",
      "A value is trying to be set on a copy of a slice from a DataFrame\n",
      "\n",
      "See the caveats in the documentation: https://pandas.pydata.org/pandas-docs/stable/user_guide/indexing.html#returning-a-view-versus-a-copy\n",
      "  self._setitem_single_block(indexer, value, name)\n",
      "/Users/benjamindeplus/.local/share/virtualenvs/Seattle2050-kF-VE2eh/lib/python3.8/site-packages/pandas/core/indexing.py:1637: SettingWithCopyWarning: \n",
      "A value is trying to be set on a copy of a slice from a DataFrame\n",
      "\n",
      "See the caveats in the documentation: https://pandas.pydata.org/pandas-docs/stable/user_guide/indexing.html#returning-a-view-versus-a-copy\n",
      "  self._setitem_single_block(indexer, value, name)\n",
      "/Users/benjamindeplus/.local/share/virtualenvs/Seattle2050-kF-VE2eh/lib/python3.8/site-packages/pandas/core/indexing.py:1637: SettingWithCopyWarning: \n",
      "A value is trying to be set on a copy of a slice from a DataFrame\n",
      "\n",
      "See the caveats in the documentation: https://pandas.pydata.org/pandas-docs/stable/user_guide/indexing.html#returning-a-view-versus-a-copy\n",
      "  self._setitem_single_block(indexer, value, name)\n",
      "/Users/benjamindeplus/.local/share/virtualenvs/Seattle2050-kF-VE2eh/lib/python3.8/site-packages/pandas/core/indexing.py:1637: SettingWithCopyWarning: \n",
      "A value is trying to be set on a copy of a slice from a DataFrame\n",
      "\n",
      "See the caveats in the documentation: https://pandas.pydata.org/pandas-docs/stable/user_guide/indexing.html#returning-a-view-versus-a-copy\n",
      "  self._setitem_single_block(indexer, value, name)\n"
     ]
    },
    {
     "data": {
      "text/plain": [
       "<AxesSubplot:>"
      ]
     },
     "execution_count": 695,
     "metadata": {},
     "output_type": "execute_result"
    },
    {
     "data": {
      "image/png": "[encoded data removed]",
      "text/plain": [
       "<Figure size 432x288 with 1 Axes>"
      ]
     },
     "metadata": {
      "needs_background": "light"
     },
     "output_type": "display_data"
    }
   ],
   "source": [
    "filteredDF2 = filteredDF\n",
    "for column in filteredDF.columns:\n",
    "    #print(column, str(filteredDF[column].dtype))\n",
    "    if str(filteredDF[column].dtype) == \"object\" and column in [\"PrimaryPropertyType\", \"City\", \"State\", \"Neighborhood\"]: #\"Location\", \"Neighborhood\", \"PropertyGFAParking\", \n",
    "        a = filteredDF[column].value_counts().to_frame()\n",
    "        a = a[a[column] > 1]\n",
    "        #print(column, list(a.index.values))\n",
    "        \n",
    "        #filteredDF2 = filteredDF2[filteredDF2[column].isin(list(a.index.values))]\n",
    "        filteredDF2[column].loc[filteredDF2[column].str.len() > 20] = \"other\"\n",
    "        #filteredDF2[column].loc[filteredDF2[column].str.isnumeric()] = \"other\"\n",
    "        \n",
    "        filteredDF2[column] = filteredDF2[column].str.strip()\n",
    "        filteredDF2[column] = filteredDF2[column].str.lower()\n",
    "        filteredDF2[column] = filteredDF2[column].str.replace('\"', '')\n",
    "filteredDF2['Neighborhood'].value_counts().plot(kind=\"bar\")\n",
    "#filteredDF2['Location'].value_counts().plot(kind=\"bar\")\n",
    "#filteredDF2['PropertyGFAParking'].value_counts().plot(kind=\"bar\")\n",
    "#filteredDF2['Neighborhood'].loc[filteredDF2['Neighborhood'].str.len() > 20] = \"other\"\n",
    "#filteredDF2['Neighborhood'].loc[filteredDF2['Neighborhood'].str.isnumeric()] = \"other\"\n",
    "#filteredDF2['Neighborhood'].value_counts()"
   ]
  },
  {
   "cell_type": "markdown",
   "id": "encouraging-scholarship",
   "metadata": {},
   "source": [
    "Traitement de Location"
   ]
  },
  {
   "cell_type": "code",
   "execution_count": 570,
   "id": "superb-hundred",
   "metadata": {},
   "outputs": [
    {
     "data": {
      "text/plain": [
       "(6716, 28)"
      ]
     },
     "execution_count": 570,
     "metadata": {},
     "output_type": "execute_result"
    }
   ],
   "source": [
    "#filteredDF2['Location'].value_counts()\n",
    "#filteredDF2['Location'].loc[filteredDF2['Location'].str.len() > 20] = \"other\"\n",
    "#filteredDF2['Location'].value_counts()\n",
    "filteredDF2.shape"
   ]
  },
  {
   "cell_type": "code",
   "execution_count": 423,
   "id": "promising-security",
   "metadata": {},
   "outputs": [],
   "source": [
    "#Traitement de PropertyGFAParking\n",
    "#filteredDF2['PropertyGFAParking'].value_counts().to_frame()\n",
    "#filteredDF2['PropertyGFAParking'].loc[filteredDF2['PropertyGFAParking'].str.isnumeric()] = \"other\"\n",
    "#filteredDF2['PropertyGFAParking'].loc[filteredDF2['PropertyGFAParking'].str.len() > 30] = \"other\"\n",
    "#filteredDF2['PropertyGFAParking'] = filteredDF2['PropertyGFAParking'].replace(\"nan\", \"other\")\n",
    "#filteredDF2['PropertyGFAParking'].value_counts().to_frame()"
   ]
  },
  {
   "cell_type": "code",
   "execution_count": 305,
   "id": "generic-violin",
   "metadata": {},
   "outputs": [
    {
     "data": {
      "text/html": [
       "<div>\n",
       "<style scoped>\n",
       "    .dataframe tbody tr th:only-of-type {\n",
       "        vertical-align: middle;\n",
       "    }\n",
       "\n",
       "    .dataframe tbody tr th {\n",
       "        vertical-align: top;\n",
       "    }\n",
       "\n",
       "    .dataframe thead th {\n",
       "        text-align: right;\n",
       "    }\n",
       "</style>\n",
       "<table border=\"1\" class=\"dataframe\">\n",
       "  <thead>\n",
       "    <tr style=\"text-align: right;\">\n",
       "      <th></th>\n",
       "      <th>Unnamed: 0</th>\n",
       "      <th>columns</th>\n",
       "      <th>type</th>\n",
       "      <th>filledRatio</th>\n",
       "      <th>nbValues</th>\n",
       "    </tr>\n",
       "  </thead>\n",
       "  <tbody>\n",
       "    <tr>\n",
       "      <th>0</th>\n",
       "      <td>0</td>\n",
       "      <td>OSEBuildingID</td>\n",
       "      <td>float64</td>\n",
       "      <td>98.692</td>\n",
       "      <td>3432</td>\n",
       "    </tr>\n",
       "    <tr>\n",
       "      <th>1</th>\n",
       "      <td>1</td>\n",
       "      <td>DataYear</td>\n",
       "      <td>float64</td>\n",
       "      <td>98.692</td>\n",
       "      <td>2</td>\n",
       "    </tr>\n",
       "    <tr>\n",
       "      <th>2</th>\n",
       "      <td>2</td>\n",
       "      <td>BuildingType</td>\n",
       "      <td>object</td>\n",
       "      <td>100.000</td>\n",
       "      <td>96</td>\n",
       "    </tr>\n",
       "    <tr>\n",
       "      <th>3</th>\n",
       "      <td>3</td>\n",
       "      <td>PrimaryPropertyType</td>\n",
       "      <td>object</td>\n",
       "      <td>100.000</td>\n",
       "      <td>120</td>\n",
       "    </tr>\n",
       "    <tr>\n",
       "      <th>4</th>\n",
       "      <td>4</td>\n",
       "      <td>PropertyName</td>\n",
       "      <td>object</td>\n",
       "      <td>98.692</td>\n",
       "      <td>6537</td>\n",
       "    </tr>\n",
       "    <tr>\n",
       "      <th>...</th>\n",
       "      <td>...</td>\n",
       "      <td>...</td>\n",
       "      <td>...</td>\n",
       "      <td>...</td>\n",
       "      <td>...</td>\n",
       "    </tr>\n",
       "    <tr>\n",
       "      <th>83</th>\n",
       "      <td>83</td>\n",
       "      <td>File Paths</td>\n",
       "      <td>object</td>\n",
       "      <td>100.000</td>\n",
       "      <td>2</td>\n",
       "    </tr>\n",
       "    <tr>\n",
       "      <th>84</th>\n",
       "      <td>84</td>\n",
       "      <td>NeighborhoodInt</td>\n",
       "      <td>int64</td>\n",
       "      <td>100.000</td>\n",
       "      <td>3226</td>\n",
       "    </tr>\n",
       "    <tr>\n",
       "      <th>85</th>\n",
       "      <td>85</td>\n",
       "      <td>PrimaryPropertyTypeInt</td>\n",
       "      <td>int64</td>\n",
       "      <td>100.000</td>\n",
       "      <td>120</td>\n",
       "    </tr>\n",
       "    <tr>\n",
       "      <th>86</th>\n",
       "      <td>86</td>\n",
       "      <td>BuildingTypeInt</td>\n",
       "      <td>int64</td>\n",
       "      <td>100.000</td>\n",
       "      <td>96</td>\n",
       "    </tr>\n",
       "    <tr>\n",
       "      <th>87</th>\n",
       "      <td>87</td>\n",
       "      <td>ENERGYSTARScoreColor</td>\n",
       "      <td>object</td>\n",
       "      <td>100.000</td>\n",
       "      <td>2</td>\n",
       "    </tr>\n",
       "  </tbody>\n",
       "</table>\n",
       "<p>88 rows × 5 columns</p>\n",
       "</div>"
      ],
      "text/plain": [
       "    Unnamed: 0                 columns     type  filledRatio  nbValues\n",
       "0            0           OSEBuildingID  float64       98.692      3432\n",
       "1            1                DataYear  float64       98.692         2\n",
       "2            2            BuildingType   object      100.000        96\n",
       "3            3     PrimaryPropertyType   object      100.000       120\n",
       "4            4            PropertyName   object       98.692      6537\n",
       "..         ...                     ...      ...          ...       ...\n",
       "83          83              File Paths   object      100.000         2\n",
       "84          84         NeighborhoodInt    int64      100.000      3226\n",
       "85          85  PrimaryPropertyTypeInt    int64      100.000       120\n",
       "86          86         BuildingTypeInt    int64      100.000        96\n",
       "87          87    ENERGYSTARScoreColor   object      100.000         2\n",
       "\n",
       "[88 rows x 5 columns]"
      ]
     },
     "execution_count": 305,
     "metadata": {},
     "output_type": "execute_result"
    }
   ],
   "source": [
    "nonNullRateFrame = pd.read_csv(\"nonNullFrame.csv\", decimal=\".\", delimiter=\",\")\n",
    "nonNullRateFrame"
   ]
  },
  {
   "cell_type": "markdown",
   "id": "rocky-beaver",
   "metadata": {},
   "source": [
    "Traitement de YearBuilt et BuildingTypeInt et transformation de ces variables en numerics"
   ]
  },
  {
   "cell_type": "code",
   "execution_count": 631,
   "id": "developing-cycling",
   "metadata": {},
   "outputs": [
    {
     "data": {
      "text/plain": [
       "2000    144\n",
       "2008    135\n",
       "1989    134\n",
       "1999    129\n",
       "1988    128\n",
       "       ... \n",
       "1942      6\n",
       "1944      4\n",
       "1939      4\n",
       "1936      2\n",
       "1935      2\n",
       "Name: YearBuilt, Length: 113, dtype: int64"
      ]
     },
     "execution_count": 631,
     "metadata": {},
     "output_type": "execute_result"
    }
   ],
   "source": [
    "#filteredDF2[\"YearBuilt\"] = pd.to_numeric(filteredDF2[\"YearBuilt\"], errors='coerce')\n",
    "#filteredDF2[\"BuildingTypeInt\"] = pd.to_numeric(filteredDF2[\"BuildingTypeInt\"], errors='coerce')\n",
    "np.unique(filteredDF2[\"BuildingTypeInt\"].values)\n",
    "filteredDF2[\"YearBuilt\"].value_counts()"
   ]
  },
  {
   "cell_type": "code",
   "execution_count": 565,
   "id": "departmental-chase",
   "metadata": {},
   "outputs": [],
   "source": [
    "# number of floors \n",
    "#filteredDF2['NumberofFloors'] = filteredDF2['NumberofFloors'].replace(np.nan, 0)\n",
    "#filteredDF2 = filteredDF2[filteredDF2['GHGEmissions(MetricTonsCO2e)'] > -1000]\n",
    "#filteredDF2['NumberofFloors'].value_counts()"
   ]
  },
  {
   "cell_type": "code",
   "execution_count": 696,
   "id": "divided-watson",
   "metadata": {},
   "outputs": [
    {
     "ename": "KeyError",
     "evalue": "'PrimaryPropertyTypeEnc'",
     "output_type": "error",
     "traceback": [
      "\u001b[0;31m---------------------------------------------------------------------------\u001b[0m",
      "\u001b[0;31mKeyError\u001b[0m                                  Traceback (most recent call last)",
      "\u001b[0;32m~/.local/share/virtualenvs/Seattle2050-kF-VE2eh/lib/python3.8/site-packages/pandas/core/indexes/base.py\u001b[0m in \u001b[0;36mget_loc\u001b[0;34m(self, key, method, tolerance)\u001b[0m\n\u001b[1;32m   3079\u001b[0m             \u001b[0;32mtry\u001b[0m\u001b[0;34m:\u001b[0m\u001b[0;34m\u001b[0m\u001b[0;34m\u001b[0m\u001b[0m\n\u001b[0;32m-> 3080\u001b[0;31m                 \u001b[0;32mreturn\u001b[0m \u001b[0mself\u001b[0m\u001b[0;34m.\u001b[0m\u001b[0m_engine\u001b[0m\u001b[0;34m.\u001b[0m\u001b[0mget_loc\u001b[0m\u001b[0;34m(\u001b[0m\u001b[0mcasted_key\u001b[0m\u001b[0;34m)\u001b[0m\u001b[0;34m\u001b[0m\u001b[0;34m\u001b[0m\u001b[0m\n\u001b[0m\u001b[1;32m   3081\u001b[0m             \u001b[0;32mexcept\u001b[0m \u001b[0mKeyError\u001b[0m \u001b[0;32mas\u001b[0m \u001b[0merr\u001b[0m\u001b[0;34m:\u001b[0m\u001b[0;34m\u001b[0m\u001b[0;34m\u001b[0m\u001b[0m\n",
      "\u001b[0;32mpandas/_libs/index.pyx\u001b[0m in \u001b[0;36mpandas._libs.index.IndexEngine.get_loc\u001b[0;34m()\u001b[0m\n",
      "\u001b[0;32mpandas/_libs/index.pyx\u001b[0m in \u001b[0;36mpandas._libs.index.IndexEngine.get_loc\u001b[0;34m()\u001b[0m\n",
      "\u001b[0;32mpandas/_libs/hashtable_class_helper.pxi\u001b[0m in \u001b[0;36mpandas._libs.hashtable.PyObjectHashTable.get_item\u001b[0;34m()\u001b[0m\n",
      "\u001b[0;32mpandas/_libs/hashtable_class_helper.pxi\u001b[0m in \u001b[0;36mpandas._libs.hashtable.PyObjectHashTable.get_item\u001b[0;34m()\u001b[0m\n",
      "\u001b[0;31mKeyError\u001b[0m: 'PrimaryPropertyTypeEnc'",
      "\nThe above exception was the direct cause of the following exception:\n",
      "\u001b[0;31mKeyError\u001b[0m                                  Traceback (most recent call last)",
      "\u001b[0;32m<ipython-input-696-d43184aba54c>\u001b[0m in \u001b[0;36m<module>\u001b[0;34m\u001b[0m\n\u001b[1;32m      1\u001b[0m \u001b[0;31m#traitement de years built\u001b[0m\u001b[0;34m\u001b[0m\u001b[0;34m\u001b[0m\u001b[0;34m\u001b[0m\u001b[0m\n\u001b[0;32m----> 2\u001b[0;31m \u001b[0mfilteredDF2\u001b[0m\u001b[0;34m[\u001b[0m\u001b[0;34m'PrimaryPropertyTypeEnc'\u001b[0m\u001b[0;34m]\u001b[0m\u001b[0;34m.\u001b[0m\u001b[0mvalue_counts\u001b[0m\u001b[0;34m(\u001b[0m\u001b[0;34m)\u001b[0m\u001b[0;34m.\u001b[0m\u001b[0mto_frame\u001b[0m\u001b[0;34m(\u001b[0m\u001b[0;34m)\u001b[0m\u001b[0;34m\u001b[0m\u001b[0;34m\u001b[0m\u001b[0m\n\u001b[0m",
      "\u001b[0;32m~/.local/share/virtualenvs/Seattle2050-kF-VE2eh/lib/python3.8/site-packages/pandas/core/frame.py\u001b[0m in \u001b[0;36m__getitem__\u001b[0;34m(self, key)\u001b[0m\n\u001b[1;32m   3022\u001b[0m             \u001b[0;32mif\u001b[0m \u001b[0mself\u001b[0m\u001b[0;34m.\u001b[0m\u001b[0mcolumns\u001b[0m\u001b[0;34m.\u001b[0m\u001b[0mnlevels\u001b[0m \u001b[0;34m>\u001b[0m \u001b[0;36m1\u001b[0m\u001b[0;34m:\u001b[0m\u001b[0;34m\u001b[0m\u001b[0;34m\u001b[0m\u001b[0m\n\u001b[1;32m   3023\u001b[0m                 \u001b[0;32mreturn\u001b[0m \u001b[0mself\u001b[0m\u001b[0;34m.\u001b[0m\u001b[0m_getitem_multilevel\u001b[0m\u001b[0;34m(\u001b[0m\u001b[0mkey\u001b[0m\u001b[0;34m)\u001b[0m\u001b[0;34m\u001b[0m\u001b[0;34m\u001b[0m\u001b[0m\n\u001b[0;32m-> 3024\u001b[0;31m             \u001b[0mindexer\u001b[0m \u001b[0;34m=\u001b[0m \u001b[0mself\u001b[0m\u001b[0;34m.\u001b[0m\u001b[0mcolumns\u001b[0m\u001b[0;34m.\u001b[0m\u001b[0mget_loc\u001b[0m\u001b[0;34m(\u001b[0m\u001b[0mkey\u001b[0m\u001b[0;34m)\u001b[0m\u001b[0;34m\u001b[0m\u001b[0;34m\u001b[0m\u001b[0m\n\u001b[0m\u001b[1;32m   3025\u001b[0m             \u001b[0;32mif\u001b[0m \u001b[0mis_integer\u001b[0m\u001b[0;34m(\u001b[0m\u001b[0mindexer\u001b[0m\u001b[0;34m)\u001b[0m\u001b[0;34m:\u001b[0m\u001b[0;34m\u001b[0m\u001b[0;34m\u001b[0m\u001b[0m\n\u001b[1;32m   3026\u001b[0m                 \u001b[0mindexer\u001b[0m \u001b[0;34m=\u001b[0m \u001b[0;34m[\u001b[0m\u001b[0mindexer\u001b[0m\u001b[0;34m]\u001b[0m\u001b[0;34m\u001b[0m\u001b[0;34m\u001b[0m\u001b[0m\n",
      "\u001b[0;32m~/.local/share/virtualenvs/Seattle2050-kF-VE2eh/lib/python3.8/site-packages/pandas/core/indexes/base.py\u001b[0m in \u001b[0;36mget_loc\u001b[0;34m(self, key, method, tolerance)\u001b[0m\n\u001b[1;32m   3080\u001b[0m                 \u001b[0;32mreturn\u001b[0m \u001b[0mself\u001b[0m\u001b[0;34m.\u001b[0m\u001b[0m_engine\u001b[0m\u001b[0;34m.\u001b[0m\u001b[0mget_loc\u001b[0m\u001b[0;34m(\u001b[0m\u001b[0mcasted_key\u001b[0m\u001b[0;34m)\u001b[0m\u001b[0;34m\u001b[0m\u001b[0;34m\u001b[0m\u001b[0m\n\u001b[1;32m   3081\u001b[0m             \u001b[0;32mexcept\u001b[0m \u001b[0mKeyError\u001b[0m \u001b[0;32mas\u001b[0m \u001b[0merr\u001b[0m\u001b[0;34m:\u001b[0m\u001b[0;34m\u001b[0m\u001b[0;34m\u001b[0m\u001b[0m\n\u001b[0;32m-> 3082\u001b[0;31m                 \u001b[0;32mraise\u001b[0m \u001b[0mKeyError\u001b[0m\u001b[0;34m(\u001b[0m\u001b[0mkey\u001b[0m\u001b[0;34m)\u001b[0m \u001b[0;32mfrom\u001b[0m \u001b[0merr\u001b[0m\u001b[0;34m\u001b[0m\u001b[0;34m\u001b[0m\u001b[0m\n\u001b[0m\u001b[1;32m   3083\u001b[0m \u001b[0;34m\u001b[0m\u001b[0m\n\u001b[1;32m   3084\u001b[0m         \u001b[0;32mif\u001b[0m \u001b[0mtolerance\u001b[0m \u001b[0;32mis\u001b[0m \u001b[0;32mnot\u001b[0m \u001b[0;32mNone\u001b[0m\u001b[0;34m:\u001b[0m\u001b[0;34m\u001b[0m\u001b[0;34m\u001b[0m\u001b[0m\n",
      "\u001b[0;31mKeyError\u001b[0m: 'PrimaryPropertyTypeEnc'"
     ]
    }
   ],
   "source": [
    "#traitement de years built\n",
    "filteredDF2['PrimaryPropertyTypeEnc'].value_counts().to_frame()"
   ]
  },
  {
   "cell_type": "code",
   "execution_count": 701,
   "id": "sensitive-borough",
   "metadata": {},
   "outputs": [
    {
     "name": "stdout",
     "output_type": "stream",
     "text": [
      "noEnergyList ['YearBuilt', 'PropertyGFATotal', 'NeighborhoodInt', 'PrimaryPropertyTypeInt', 'BuildingTypeInt']\n"
     ]
    }
   ],
   "source": [
    "# Energy Variables\n",
    "#for y let's keep only rows with data\n",
    "#filteredDF2['GHGEmissions(MetricTonsCO2e)'] = filteredDF2['GHGEmissions(MetricTonsCO2e)'].replace(np.nan, -1000)\n",
    "#filteredDF2 = filteredDF2[filteredDF2['GHGEmissions(MetricTonsCO2e)'] > 0]\n",
    "\n",
    "filteredDF2['GHGEmissionsIntensity(kgCO2e/ft2)'] = filteredDF2['GHGEmissionsIntensity(kgCO2e/ft2)'].replace(np.nan, -1000)\n",
    "filteredDF2 = filteredDF2[filteredDF2['GHGEmissionsIntensity(kgCO2e/ft2)'] > -1000]\n",
    "filteredDF2['LargestPropertyUseTypeGFA'] = filteredDF2['LargestPropertyUseTypeGFA'].replace(np.nan, -1000)\n",
    "filteredDF2 = filteredDF2[filteredDF2['LargestPropertyUseTypeGFA'] > -1000]\n",
    "filteredDF2['PropertyGFATotal'] = filteredDF2['PropertyGFATotal'].replace(np.nan, -1000)\n",
    "filteredDF2 = filteredDF2[filteredDF2['PropertyGFATotal'] > -1000]\n",
    "#filteredDF2['YearBuilt'] = filteredDF2['YearBuilt'].replace(np.nan, -1000)\n",
    "#print(np.unique(filteredDF2['GHGEmissionsIntensity(kgCO2e/ft2)'].values))\n",
    "#nonNullRateFrame.columns.str.contains(\"kbtu\")\n",
    "kbtusColumns = nonNullRateFrame[nonNullRateFrame[\"columns\"].str.contains(\"kBtu\")]\n",
    "CO2Columns = nonNullRateFrame[nonNullRateFrame[\"columns\"].str.contains(\"CO2\")]\n",
    "kwhColumns = nonNullRateFrame[nonNullRateFrame[\"columns\"].str.contains(\"kWh\")]\n",
    "listToChange = list(kwhColumns['columns'].values) + list(CO2Columns['columns'].values) + list(kbtusColumns['columns'].values)\n",
    "noEnergyList = []\n",
    "\n",
    "toTrash = ['Unnamed: 0', \n",
    "           #\"ListOfAllPropertyUseTypes\", \n",
    "           \"Location\", \n",
    "           \"State\", \n",
    "           \"ThirdLargestPropertyUseType\", \n",
    "           \"PropertyGFAParking\", \n",
    "           \"Neighborhood\", \n",
    "           \"PrimaryPropertyType\", \n",
    "           \"NaturalGas(therms)\", \n",
    "           \"YearsENERGYSTARCertified\", \n",
    "           \"ENERGYSTARScore\", \n",
    "           \"ENERGYSTARScoreColor\", \n",
    "           \"TotalGHGEmissions\", \n",
    "           \"City\", \n",
    "           #\"YearBuilt\", \n",
    "           \"Address\", \n",
    "           \"GHGEmissionsIntensity\"]\n",
    "toTrash = toTrash + [\n",
    "        'NumberofBuildings', \n",
    "       'PropertyGFABuilding(s)', \n",
    "        'LargestPropertyUseType', \n",
    "        \"LargestPropertyUseTypeGFA\",\n",
    "        #\"PropertyGFATotal\", \n",
    "        \"BuildingType\", \n",
    "        \"totalKbtu\", \n",
    "       \"NumberofFloors\", \n",
    "       'ThirdLargestPropertyUseTypeGFA']\n",
    "\n",
    "\n",
    "for column in filteredDF2.columns:\n",
    "    if column not in listToChange and column not in toTrash:\n",
    "        noEnergyList.append(column)\n",
    "\n",
    "print(\"noEnergyList\", noEnergyList)\n",
    "#print(\"frameShape\", filteredDF2.shape)"
   ]
  },
  {
   "cell_type": "markdown",
   "id": "modular-plant",
   "metadata": {},
   "source": [
    "# Linear Regression CO2 Metrics "
   ]
  },
  {
   "cell_type": "code",
   "execution_count": 704,
   "id": "failing-lawyer",
   "metadata": {},
   "outputs": [
    {
     "name": "stdout",
     "output_type": "stream",
     "text": [
      "score 0.23793383110784927\n"
     ]
    }
   ],
   "source": [
    "#Linear Regression CO2 Metrics \n",
    "y = filteredDF2['GHGEmissions(MetricTonsCO2e)'].values.reshape(-1, 1)\n",
    "#y = filteredDF2['GHGEmissionsIntensity(kgCO2e/ft2)'].values.reshape(-1, 1)\n",
    "#LabelEncoder make a multiclass value\n",
    "#y_labeled = LabelEncoder().fit_transform(filteredDF[\"TotalGHGEmissions\"].values)\n",
    "\n",
    "stdScaler = StandardScaler()\n",
    "X = filteredDF2.filter(items=noEnergyList)\n",
    "\n",
    "#X_std = stdScaler.fit_transform(X.values)\n",
    "#print(np.unique(X_std))\n",
    "#print(np.unique(y_std))\n",
    "X_train, X_test, y_train, y_test = model_selection.train_test_split(X.values, y, train_size=0.8)\n",
    "\n",
    "regression = linear_model.LinearRegression()\n",
    "#regression = linear_model.LogisticRegression(max_iter=100000)\n",
    "regression.fit(X_train, y_train)\n",
    "\n",
    "print(\"score\", regression.score(X_test, y_test))"
   ]
  },
  {
   "cell_type": "markdown",
   "id": "swiss-turkish",
   "metadata": {},
   "source": [
    "# avec une standardisation des données"
   ]
  },
  {
   "cell_type": "code",
   "execution_count": 706,
   "id": "native-hebrew",
   "metadata": {},
   "outputs": [
    {
     "name": "stdout",
     "output_type": "stream",
     "text": [
      "score 0.03378559794184288\n"
     ]
    }
   ],
   "source": [
    "y_std = StandardScaler().fit_transform(filteredDF2['GHGEmissions(MetricTonsCO2e)'].values.reshape(-1, 1))\n",
    "#y_std = StandardScaler().fit_transform(filteredDF2['GHGEmissionsIntensity(kgCO2e/ft2)'].values.reshape(-1, 1))\n",
    "#y = filteredDF2['GHGEmissionsIntensity(kgCO2e/ft2)'].values.reshape(-1, 1)\n",
    "#LabelEncoder make a multiclass value\n",
    "#y_labeled = LabelEncoder().fit_transform(filteredDF[\"TotalGHGEmissions\"].values)\n",
    "\n",
    "stdScaler = StandardScaler()\n",
    "X = filteredDF2.filter(items=noEnergyList)\n",
    "\n",
    "X_std = stdScaler.fit_transform(X.values)\n",
    "#print(np.unique(X_std))\n",
    "#print(np.unique(y_std))\n",
    "X_train, X_test, y_train, y_test = model_selection.train_test_split(X_std, y_std, train_size=0.7)\n",
    "y_std\n",
    "\n",
    "regression = linear_model.LinearRegression()\n",
    "#regression = linear_model.LogisticRegression(max_iter=100000)\n",
    "regression.fit(X_train, y_train)\n",
    "\n",
    "print(\"score\", regression.score(X_test, y_test))"
   ]
  },
  {
   "cell_type": "code",
   "execution_count": 649,
   "id": "experienced-breach",
   "metadata": {},
   "outputs": [
    {
     "data": {
      "text/plain": [
       "array([ 2.49430e+02,  2.63510e+02,  2.06148e+03, ..., -1.00000e+00,\n",
       "       -1.00000e+00, -1.00000e+00])"
      ]
     },
     "execution_count": 649,
     "metadata": {},
     "output_type": "execute_result"
    }
   ],
   "source": [
    "#filteredDF = filteredDF[filteredDF[\"GHGEmissionsIntensity\"] > 0]\n",
    "filteredDF[\"GHGEmissions(MetricTonsCO2e)\"].values"
   ]
  },
  {
   "cell_type": "markdown",
   "id": "uniform-gateway",
   "metadata": {},
   "source": [
    "# With label encoder for \"Neighborhood PrimaryPropertyType BuildingType\""
   ]
  },
  {
   "cell_type": "code",
   "execution_count": 724,
   "id": "hazardous-attribute",
   "metadata": {},
   "outputs": [
    {
     "data": {
      "image/png": "[encoded data removed]",
      "text/plain": [
       "<Figure size 432x288 with 1 Axes>"
      ]
     },
     "metadata": {
      "needs_background": "light"
     },
     "output_type": "display_data"
    }
   ],
   "source": [
    "from sklearn.preprocessing import LabelEncoder\n",
    "from sklearn.preprocessing import OneHotEncoder\n",
    "encoder = LabelEncoder()\n",
    "for column in [\"Neighborhood\", \"PrimaryPropertyType\", \"BuildingType\", \"LargestPropertyUseType\",\"Location\", \"PropertyGFAParking\", \"NumberofFloors\", \"NumberofBuildings\"]:\n",
    "    newCol = column+\"Enc\"\n",
    "    filteredDF2[newCol] = encoder.fit_transform(filteredDF2[column].values)\n",
    "    filteredDF2[newCol].value_counts().plot(kind=\"bar\")\n",
    "#filteredDF2[\"BuildingTypeEnc\"].value_counts().plot(kind=\"bar\")\n"
   ]
  },
  {
   "cell_type": "markdown",
   "id": "theoretical-verification",
   "metadata": {},
   "source": [
    "# Label Encoder + Std "
   ]
  },
  {
   "cell_type": "code",
   "execution_count": 737,
   "id": "cathedral-throw",
   "metadata": {},
   "outputs": [
    {
     "name": "stdout",
     "output_type": "stream",
     "text": [
      "score 0.2723271266942997\n"
     ]
    }
   ],
   "source": [
    "#Label Encoder + Std \n",
    "columnsEncodedToKeep = ['YearBuilt', 'PropertyGFATotal',  \"LocationEnc\", \"LargestPropertyUseTypeEnc\", \"PropertyGFAParkingEnc\", \"NumberofFloorsEnc\", \"NumberofBuildingsEnc\", 'NeighborhoodEnc', 'PrimaryPropertyTypeEnc', 'BuildingTypeEnc']\n",
    "#y = filteredDF2['GHGEmissions(MetricTonsCO2e)'].values.reshape(-1, 1)\n",
    "#y_std = StandardScaler().fit_transform(filteredDF2['GHGEmissionsIntensity(kgCO2e/ft2)'].values.reshape(-1, 1))\n",
    "y_std = StandardScaler().fit_transform(filteredDF2['GHGEmissions(MetricTonsCO2e)'].values.reshape(-1, 1))\n",
    "\n",
    "#GHGEmissionsIntensity(kgCO2e/ft2)\n",
    "stdScaler = StandardScaler()\n",
    "X = filteredDF2.filter(items=columnsEncodedToKeep)\n",
    "\n",
    "X_std = stdScaler.fit_transform(X.values)\n",
    "#print(np.unique(X_std))\n",
    "#print(np.unique(y_std))\n",
    "X_train, X_test, y_train, y_test = model_selection.train_test_split(X_std, y_std, train_size=0.7)\n",
    "\n",
    "regression = linear_model.LinearRegression()\n",
    "#regression = linear_model.LogisticRegression(max_iter=100000)\n",
    "regression.fit(X_train, y_train)\n",
    "\n",
    "print(\"score\", regression.score(X_test, y_test))"
   ]
  },
  {
   "cell_type": "markdown",
   "id": "another-constraint",
   "metadata": {},
   "source": [
    "# Avec Grid Search \n"
   ]
  },
  {
   "cell_type": "code",
   "execution_count": 762,
   "id": "conscious-exposure",
   "metadata": {},
   "outputs": [
    {
     "name": "stdout",
     "output_type": "stream",
     "text": [
      "2 {'fit_intercept': 'True', 'normalize': 'True'}\n",
      "2 0.23492103882397342\n",
      "2 0.23492103882397342 1.2571202445597718\n",
      "3 {'fit_intercept': 'True', 'normalize': 'True'}\n",
      "3 0.20592994824778565\n",
      "3 0.20592994824778565 1.2571202445597718\n",
      "4 {'fit_intercept': 'True', 'normalize': 'True'}\n",
      "4 0.25064296314048984\n",
      "4 0.25064296314048984 1.2571202445597718\n",
      "5 {'fit_intercept': 'True', 'normalize': 'True'}\n",
      "5 0.2189688641983142\n",
      "5 0.2189688641983142 1.2571202445597718\n",
      "6 {'fit_intercept': 'True', 'normalize': 'True'}\n",
      "6 0.23833582412994395\n",
      "6 0.23833582412994395 1.2571202445597718\n",
      "7 {'fit_intercept': 'True', 'normalize': 'True'}\n",
      "7 0.14692800262897748\n",
      "7 0.14692800262897748 1.2571202445597718\n",
      "8 {'fit_intercept': 'True', 'normalize': 'True'}\n",
      "8 0.2402974953422809\n",
      "8 0.2402974953422809 1.2571202445597718\n",
      "9 {'fit_intercept': 'True', 'normalize': 'True'}\n",
      "9 0.1807383908911853\n",
      "9 0.1807383908911853 1.2571202445597718\n",
      "10 {'fit_intercept': 'True', 'normalize': 'True'}\n",
      "10 0.11195742416796794\n",
      "10 0.11195742416796794 1.2571202445597718\n",
      "11 {'fit_intercept': 'True', 'normalize': 'True'}\n",
      "11 0.0643743786938086\n",
      "11 0.0643743786938086 1.2571202445597718\n",
      "12 {'fit_intercept': 'True', 'normalize': 'True'}\n",
      "12 0.1988185235638206\n",
      "12 0.1988185235638206 1.2571202445597718\n",
      "13 {'fit_intercept': 'True', 'normalize': 'True'}\n",
      "13 0.1370732112260677\n",
      "13 0.1370732112260677 1.2571202445597718\n",
      "14 {'fit_intercept': 'True', 'normalize': 'True'}\n",
      "14 0.16999114311952543\n",
      "14 0.16999114311952543 1.2571202445597718\n",
      "15 {'fit_intercept': 'True', 'normalize': 'True'}\n",
      "15 0.1422505884762226\n",
      "15 0.1422505884762226 1.2571202445597718\n",
      "16 {'fit_intercept': 'True', 'normalize': 'True'}\n",
      "16 0.15024080155374192\n",
      "16 0.15024080155374192 1.2571202445597718\n",
      "17 {'fit_intercept': 'True', 'normalize': 'True'}\n",
      "17 0.11946085411946944\n",
      "17 0.11946085411946944 1.2571202445597718\n",
      "18 {'fit_intercept': 'True', 'normalize': 'True'}\n",
      "18 0.12154900599020957\n",
      "18 0.12154900599020957 1.2571202445597718\n",
      "19 {'fit_intercept': 'True', 'normalize': 'True'}\n",
      "19 0.12772201117511503\n",
      "19 0.12772201117511503 1.2571202445597718\n"
     ]
    }
   ],
   "source": [
    "lrCV = linear_model.LinearRegression()\n",
    "params = {\"fit_intercept\": [\"True\", \"False\"], \"normalize\": [\"True\", \"False\"] } \n",
    "for cv in range(2, 20):\n",
    "    lr_gs = GridSearchCV(lrCV, params, cv=cv)\n",
    "    #print(lrCV.get_params().keys())\n",
    "    lr_gs.fit(X_train, y_train)\n",
    "    print(cv, lr_gs.best_params_)\n",
    "    print(cv, lr_gs.best_score_)\n",
    "    Y_pred = lr_gs.predict(X_test)\n",
    "    rmseLinearRegression = np.sqrt(metrics.mean_squared_error(y_test, Y_pred))\n",
    "    print(cv, lr_gs.best_score_, rmseLinearRegression)"
   ]
  },
  {
   "cell_type": "markdown",
   "id": "consecutive-greenhouse",
   "metadata": {},
   "source": [
    "# Regression ridge "
   ]
  },
  {
   "cell_type": "code",
   "execution_count": 761,
   "id": "driving-lighter",
   "metadata": {},
   "outputs": [
    {
     "name": "stdout",
     "output_type": "stream",
     "text": [
      "2 0.2350849208156492\n",
      "2 0.2350849208156492 1.226086073940729\n",
      "3 0.2461486004694046\n",
      "3 0.2461486004694046 1.226086073940729\n",
      "4 0.2574367260114867\n",
      "4 0.2574367260114867 1.226086073940729\n",
      "5 0.24885211120789713\n",
      "5 0.24885211120789713 1.226086073940729\n",
      "6 0.26205565395070174\n",
      "6 0.26205565395070174 1.226086073940729\n",
      "7 0.2448510974729014\n",
      "7 0.2448510974729014 1.226086073940729\n",
      "8 0.2666022213901986\n",
      "8 0.2666022213901986 1.226086073940729\n",
      "9 0.2392870429141753\n",
      "9 0.2392870429141753 1.226086073940729\n",
      "10 0.24301015993939376\n",
      "10 0.24301015993939376 1.226086073940729\n",
      "11 0.23302503097926933\n",
      "11 0.23302503097926933 1.226086073940729\n",
      "12 0.2404916457148685\n",
      "12 0.2404916457148685 1.226086073940729\n",
      "13 0.24978241223642433\n",
      "13 0.24978241223642433 1.226086073940729\n",
      "14 0.26042674464458027\n",
      "14 0.26042674464458027 1.226086073940729\n",
      "15 0.2223189321919814\n",
      "15 0.2223189321919814 1.226086073940729\n",
      "16 0.25536076665267315\n",
      "16 0.25536076665267315 1.226086073940729\n",
      "17 0.2317877181158331\n",
      "17 0.2317877181158331 1.226086073940729\n",
      "18 0.237723289824508\n",
      "18 0.237723289824508 1.226086073940729\n",
      "19 0.25524317748943004\n",
      "19 0.25524317748943004 1.226086073940729\n"
     ]
    }
   ],
   "source": [
    "# paramètre de regularisation \n",
    "n_alphas = 100\n",
    "alphas = np.logspace(-5, 5, n_alphas)\n",
    "coefs = []\n",
    "errors = []\n",
    "params = {\"alpha\": np.logspace(-5, 5, n_alphas), \"normalize\": [\"True\", \"False\"]}\n",
    "for cv in range(2, 20):\n",
    "    ridgeCV = GridSearchCV(linear_model.Ridge(), params, cv=cv)\n",
    "#print(linear_model.Ridge().get_params())\n",
    "    ridgeCV.fit(X_train, y_train)\n",
    "    print(cv, ridgeCV.best_score_)\n",
    "    Y_pred_reg_ridge = ridgeCV.predict(X_test)\n",
    "    rmse_reg_ridge = np.sqrt(metrics.mean_squared_error(y_test, Y_pred_reg_ridge))\n",
    "    print(cv, ridgeCV.best_score_, rmse)"
   ]
  },
  {
   "cell_type": "code",
   "execution_count": 676,
   "id": "afraid-passion",
   "metadata": {},
   "outputs": [
    {
     "data": {
      "text/plain": [
       "0.2463833340684914"
      ]
     },
     "execution_count": 676,
     "metadata": {},
     "output_type": "execute_result"
    }
   ],
   "source": [
    "ridgeCV.best_score_"
   ]
  },
  {
   "cell_type": "markdown",
   "id": "dominant-family",
   "metadata": {},
   "source": [
    "# Lasso"
   ]
  },
  {
   "cell_type": "code",
   "execution_count": 760,
   "id": "metropolitan-cycle",
   "metadata": {},
   "outputs": [
    {
     "name": "stdout",
     "output_type": "stream",
     "text": [
      "2 0.23489157054831633 1.226086073940729\n",
      "3 0.23788493822388687 1.226086073940729\n",
      "4 0.2579805468488322 1.226086073940729\n",
      "5 0.25333634065024635 1.226086073940729\n",
      "6 0.26584866825410797 1.226086073940729\n",
      "7 0.2514373461028388 1.226086073940729\n",
      "8 0.2631708181328254 1.226086073940729\n",
      "9 0.24340316058172892 1.226086073940729\n",
      "10 0.22957082058736233 1.226086073940729\n",
      "11 0.2161347694928934 1.226086073940729\n",
      "12 0.25317033811608913 1.226086073940729\n",
      "13 0.25760675527409155 1.226086073940729\n",
      "14 0.27216367956512816 1.226086073940729\n",
      "15 0.2239094557177887 1.226086073940729\n",
      "16 0.2451929676664376 1.226086073940729\n",
      "17 0.22475044603330588 1.226086073940729\n",
      "18 0.2404512795771777 1.226086073940729\n",
      "19 0.251625349795483 1.226086073940729\n"
     ]
    }
   ],
   "source": [
    "lasso = linear_model.Lasso(max_iter=10000)\n",
    "params = {\"alpha\": np.logspace(-5, 5, n_alphas), \"normalize\": [\"True\", \"False\"]}\n",
    "for cv in range(2, 20):\n",
    "    lassoGS = GridSearchCV(lasso, params, cv=cv)\n",
    "    lassoGS.fit(X_train, y_train)\n",
    "    Y_pred_lasso = lassoGS.predict(X_test)\n",
    "    rmselasso = np.sqrt(metrics.mean_squared_error(y_test, Y_pred_lasso))\n",
    "    print(cv, lassoGS.best_score_, rmselasso)"
   ]
  },
  {
   "cell_type": "markdown",
   "id": "wired-boost",
   "metadata": {},
   "source": [
    "# KernelRidge"
   ]
  },
  {
   "cell_type": "code",
   "execution_count": 759,
   "id": "following-making",
   "metadata": {},
   "outputs": [
    {
     "name": "stdout",
     "output_type": "stream",
     "text": [
      "2 -0.3018925303481747 {'alpha': 0.021544346900318846, 'gamma': 0.021544346900318846} 1.226086073940729\n",
      "3 -0.35920941250682564 {'alpha': 0.2782559402207126, 'gamma': 0.021544346900318846} 1.226086073940729\n",
      "4 -0.30885854876683055 {'alpha': 0.021544346900318846, 'gamma': 0.021544346900318846} 1.226086073940729\n",
      "5 -0.3326472528958003 {'alpha': 0.021544346900318846, 'gamma': 0.021544346900318846} 1.226086073940729\n",
      "6 -0.3068780280427754 {'alpha': 0.021544346900318846, 'gamma': 0.021544346900318846} 1.226086073940729\n",
      "7 -0.33333258779657876 {'alpha': 0.021544346900318846, 'gamma': 0.021544346900318846} 1.226086073940729\n",
      "8 -0.31241611309908196 {'alpha': 0.021544346900318846, 'gamma': 0.021544346900318846} 1.226086073940729\n",
      "9 -0.30872100592122914 {'alpha': 0.021544346900318846, 'gamma': 0.021544346900318846} 1.226086073940729\n"
     ]
    }
   ],
   "source": [
    "params = {\"gamma\": np.logspace(-5, 5, 10), \"alpha\": np.logspace(-5, 5, 10)}\n",
    "for cv in range(2, 10):\n",
    "    kernelRidgeCV = model_selection.GridSearchCV(KernelRidge(kernel=\"rbf\"), params, cv=cv, scoring=\"neg_mean_squared_error\")\n",
    "    kernelRidgeCV.fit(X_train, y_train)\n",
    "    Y_pred_kernel_ridge = kernelRidgeCV.predict(X_test)\n",
    "    rmse_kernel_ridge = np.sqrt(metrics.mean_squared_error(y_test, Y_pred_kernel_ridge))\n",
    "    print(cv, kernelRidgeCV.best_score_, kernelRidgeCV.best_params_ , rmse_kernel_ridge)"
   ]
  },
  {
   "cell_type": "markdown",
   "id": "bright-origin",
   "metadata": {},
   "source": [
    "# SVM"
   ]
  },
  {
   "cell_type": "code",
   "execution_count": 784,
   "id": "unavailable-adjustment",
   "metadata": {},
   "outputs": [
    {
     "name": "stderr",
     "output_type": "stream",
     "text": [
      "/Users/benjamindeplus/.local/share/virtualenvs/Seattle2050-kF-VE2eh/lib/python3.8/site-packages/sklearn/svm/_base.py:255: ConvergenceWarning: Solver terminated early (max_iter=100000).  Consider pre-processing your data with StandardScaler or MinMaxScaler.\n",
      "  warnings.warn('Solver terminated early (max_iter=%i).'\n",
      "/Users/benjamindeplus/.local/share/virtualenvs/Seattle2050-kF-VE2eh/lib/python3.8/site-packages/sklearn/svm/_base.py:255: ConvergenceWarning: Solver terminated early (max_iter=100000).  Consider pre-processing your data with StandardScaler or MinMaxScaler.\n",
      "  warnings.warn('Solver terminated early (max_iter=%i).'\n",
      "/Users/benjamindeplus/.local/share/virtualenvs/Seattle2050-kF-VE2eh/lib/python3.8/site-packages/sklearn/svm/_base.py:255: ConvergenceWarning: Solver terminated early (max_iter=100000).  Consider pre-processing your data with StandardScaler or MinMaxScaler.\n",
      "  warnings.warn('Solver terminated early (max_iter=%i).'\n",
      "/Users/benjamindeplus/.local/share/virtualenvs/Seattle2050-kF-VE2eh/lib/python3.8/site-packages/sklearn/svm/_base.py:255: ConvergenceWarning: Solver terminated early (max_iter=100000).  Consider pre-processing your data with StandardScaler or MinMaxScaler.\n",
      "  warnings.warn('Solver terminated early (max_iter=%i).'\n",
      "/Users/benjamindeplus/.local/share/virtualenvs/Seattle2050-kF-VE2eh/lib/python3.8/site-packages/sklearn/svm/_base.py:255: ConvergenceWarning: Solver terminated early (max_iter=100000).  Consider pre-processing your data with StandardScaler or MinMaxScaler.\n",
      "  warnings.warn('Solver terminated early (max_iter=%i).'\n",
      "/Users/benjamindeplus/.local/share/virtualenvs/Seattle2050-kF-VE2eh/lib/python3.8/site-packages/sklearn/svm/_base.py:255: ConvergenceWarning: Solver terminated early (max_iter=100000).  Consider pre-processing your data with StandardScaler or MinMaxScaler.\n",
      "  warnings.warn('Solver terminated early (max_iter=%i).'\n"
     ]
    },
    {
     "name": "stdout",
     "output_type": "stream",
     "text": [
      "2 0.34499815315763416 {'C': 46.41588833612782} 1.2854388814577773\n"
     ]
    },
    {
     "name": "stderr",
     "output_type": "stream",
     "text": [
      "/Users/benjamindeplus/.local/share/virtualenvs/Seattle2050-kF-VE2eh/lib/python3.8/site-packages/sklearn/svm/_base.py:255: ConvergenceWarning: Solver terminated early (max_iter=100000).  Consider pre-processing your data with StandardScaler or MinMaxScaler.\n",
      "  warnings.warn('Solver terminated early (max_iter=%i).'\n",
      "/Users/benjamindeplus/.local/share/virtualenvs/Seattle2050-kF-VE2eh/lib/python3.8/site-packages/sklearn/svm/_base.py:255: ConvergenceWarning: Solver terminated early (max_iter=100000).  Consider pre-processing your data with StandardScaler or MinMaxScaler.\n",
      "  warnings.warn('Solver terminated early (max_iter=%i).'\n",
      "/Users/benjamindeplus/.local/share/virtualenvs/Seattle2050-kF-VE2eh/lib/python3.8/site-packages/sklearn/svm/_base.py:255: ConvergenceWarning: Solver terminated early (max_iter=100000).  Consider pre-processing your data with StandardScaler or MinMaxScaler.\n",
      "  warnings.warn('Solver terminated early (max_iter=%i).'\n",
      "/Users/benjamindeplus/.local/share/virtualenvs/Seattle2050-kF-VE2eh/lib/python3.8/site-packages/sklearn/svm/_base.py:255: ConvergenceWarning: Solver terminated early (max_iter=100000).  Consider pre-processing your data with StandardScaler or MinMaxScaler.\n",
      "  warnings.warn('Solver terminated early (max_iter=%i).'\n",
      "/Users/benjamindeplus/.local/share/virtualenvs/Seattle2050-kF-VE2eh/lib/python3.8/site-packages/sklearn/svm/_base.py:255: ConvergenceWarning: Solver terminated early (max_iter=100000).  Consider pre-processing your data with StandardScaler or MinMaxScaler.\n",
      "  warnings.warn('Solver terminated early (max_iter=%i).'\n",
      "/Users/benjamindeplus/.local/share/virtualenvs/Seattle2050-kF-VE2eh/lib/python3.8/site-packages/sklearn/svm/_base.py:255: ConvergenceWarning: Solver terminated early (max_iter=100000).  Consider pre-processing your data with StandardScaler or MinMaxScaler.\n",
      "  warnings.warn('Solver terminated early (max_iter=%i).'\n",
      "/Users/benjamindeplus/.local/share/virtualenvs/Seattle2050-kF-VE2eh/lib/python3.8/site-packages/sklearn/svm/_base.py:255: ConvergenceWarning: Solver terminated early (max_iter=100000).  Consider pre-processing your data with StandardScaler or MinMaxScaler.\n",
      "  warnings.warn('Solver terminated early (max_iter=%i).'\n",
      "/Users/benjamindeplus/.local/share/virtualenvs/Seattle2050-kF-VE2eh/lib/python3.8/site-packages/sklearn/svm/_base.py:255: ConvergenceWarning: Solver terminated early (max_iter=100000).  Consider pre-processing your data with StandardScaler or MinMaxScaler.\n",
      "  warnings.warn('Solver terminated early (max_iter=%i).'\n",
      "/Users/benjamindeplus/.local/share/virtualenvs/Seattle2050-kF-VE2eh/lib/python3.8/site-packages/sklearn/svm/_base.py:255: ConvergenceWarning: Solver terminated early (max_iter=100000).  Consider pre-processing your data with StandardScaler or MinMaxScaler.\n",
      "  warnings.warn('Solver terminated early (max_iter=%i).'\n"
     ]
    },
    {
     "name": "stdout",
     "output_type": "stream",
     "text": [
      "3 0.34490100689789155 {'C': 3.593813663804626} 1.3191769561663926\n"
     ]
    },
    {
     "name": "stderr",
     "output_type": "stream",
     "text": [
      "/Users/benjamindeplus/.local/share/virtualenvs/Seattle2050-kF-VE2eh/lib/python3.8/site-packages/sklearn/svm/_base.py:255: ConvergenceWarning: Solver terminated early (max_iter=100000).  Consider pre-processing your data with StandardScaler or MinMaxScaler.\n",
      "  warnings.warn('Solver terminated early (max_iter=%i).'\n",
      "/Users/benjamindeplus/.local/share/virtualenvs/Seattle2050-kF-VE2eh/lib/python3.8/site-packages/sklearn/svm/_base.py:255: ConvergenceWarning: Solver terminated early (max_iter=100000).  Consider pre-processing your data with StandardScaler or MinMaxScaler.\n",
      "  warnings.warn('Solver terminated early (max_iter=%i).'\n",
      "/Users/benjamindeplus/.local/share/virtualenvs/Seattle2050-kF-VE2eh/lib/python3.8/site-packages/sklearn/svm/_base.py:255: ConvergenceWarning: Solver terminated early (max_iter=100000).  Consider pre-processing your data with StandardScaler or MinMaxScaler.\n",
      "  warnings.warn('Solver terminated early (max_iter=%i).'\n",
      "/Users/benjamindeplus/.local/share/virtualenvs/Seattle2050-kF-VE2eh/lib/python3.8/site-packages/sklearn/svm/_base.py:255: ConvergenceWarning: Solver terminated early (max_iter=100000).  Consider pre-processing your data with StandardScaler or MinMaxScaler.\n",
      "  warnings.warn('Solver terminated early (max_iter=%i).'\n",
      "/Users/benjamindeplus/.local/share/virtualenvs/Seattle2050-kF-VE2eh/lib/python3.8/site-packages/sklearn/svm/_base.py:255: ConvergenceWarning: Solver terminated early (max_iter=100000).  Consider pre-processing your data with StandardScaler or MinMaxScaler.\n",
      "  warnings.warn('Solver terminated early (max_iter=%i).'\n",
      "/Users/benjamindeplus/.local/share/virtualenvs/Seattle2050-kF-VE2eh/lib/python3.8/site-packages/sklearn/svm/_base.py:255: ConvergenceWarning: Solver terminated early (max_iter=100000).  Consider pre-processing your data with StandardScaler or MinMaxScaler.\n",
      "  warnings.warn('Solver terminated early (max_iter=%i).'\n",
      "/Users/benjamindeplus/.local/share/virtualenvs/Seattle2050-kF-VE2eh/lib/python3.8/site-packages/sklearn/svm/_base.py:255: ConvergenceWarning: Solver terminated early (max_iter=100000).  Consider pre-processing your data with StandardScaler or MinMaxScaler.\n",
      "  warnings.warn('Solver terminated early (max_iter=%i).'\n",
      "/Users/benjamindeplus/.local/share/virtualenvs/Seattle2050-kF-VE2eh/lib/python3.8/site-packages/sklearn/svm/_base.py:255: ConvergenceWarning: Solver terminated early (max_iter=100000).  Consider pre-processing your data with StandardScaler or MinMaxScaler.\n",
      "  warnings.warn('Solver terminated early (max_iter=%i).'\n",
      "/Users/benjamindeplus/.local/share/virtualenvs/Seattle2050-kF-VE2eh/lib/python3.8/site-packages/sklearn/svm/_base.py:255: ConvergenceWarning: Solver terminated early (max_iter=100000).  Consider pre-processing your data with StandardScaler or MinMaxScaler.\n",
      "  warnings.warn('Solver terminated early (max_iter=%i).'\n",
      "/Users/benjamindeplus/.local/share/virtualenvs/Seattle2050-kF-VE2eh/lib/python3.8/site-packages/sklearn/svm/_base.py:255: ConvergenceWarning: Solver terminated early (max_iter=100000).  Consider pre-processing your data with StandardScaler or MinMaxScaler.\n",
      "  warnings.warn('Solver terminated early (max_iter=%i).'\n",
      "/Users/benjamindeplus/.local/share/virtualenvs/Seattle2050-kF-VE2eh/lib/python3.8/site-packages/sklearn/svm/_base.py:255: ConvergenceWarning: Solver terminated early (max_iter=100000).  Consider pre-processing your data with StandardScaler or MinMaxScaler.\n",
      "  warnings.warn('Solver terminated early (max_iter=%i).'\n",
      "/Users/benjamindeplus/.local/share/virtualenvs/Seattle2050-kF-VE2eh/lib/python3.8/site-packages/sklearn/svm/_base.py:255: ConvergenceWarning: Solver terminated early (max_iter=100000).  Consider pre-processing your data with StandardScaler or MinMaxScaler.\n",
      "  warnings.warn('Solver terminated early (max_iter=%i).'\n"
     ]
    },
    {
     "name": "stdout",
     "output_type": "stream",
     "text": [
      "4 0.3674593896894863 {'C': 3.593813663804626} 1.3191769561663926\n"
     ]
    },
    {
     "name": "stderr",
     "output_type": "stream",
     "text": [
      "/Users/benjamindeplus/.local/share/virtualenvs/Seattle2050-kF-VE2eh/lib/python3.8/site-packages/sklearn/svm/_base.py:255: ConvergenceWarning: Solver terminated early (max_iter=100000).  Consider pre-processing your data with StandardScaler or MinMaxScaler.\n",
      "  warnings.warn('Solver terminated early (max_iter=%i).'\n",
      "/Users/benjamindeplus/.local/share/virtualenvs/Seattle2050-kF-VE2eh/lib/python3.8/site-packages/sklearn/svm/_base.py:255: ConvergenceWarning: Solver terminated early (max_iter=100000).  Consider pre-processing your data with StandardScaler or MinMaxScaler.\n",
      "  warnings.warn('Solver terminated early (max_iter=%i).'\n",
      "/Users/benjamindeplus/.local/share/virtualenvs/Seattle2050-kF-VE2eh/lib/python3.8/site-packages/sklearn/svm/_base.py:255: ConvergenceWarning: Solver terminated early (max_iter=100000).  Consider pre-processing your data with StandardScaler or MinMaxScaler.\n",
      "  warnings.warn('Solver terminated early (max_iter=%i).'\n",
      "/Users/benjamindeplus/.local/share/virtualenvs/Seattle2050-kF-VE2eh/lib/python3.8/site-packages/sklearn/svm/_base.py:255: ConvergenceWarning: Solver terminated early (max_iter=100000).  Consider pre-processing your data with StandardScaler or MinMaxScaler.\n",
      "  warnings.warn('Solver terminated early (max_iter=%i).'\n",
      "/Users/benjamindeplus/.local/share/virtualenvs/Seattle2050-kF-VE2eh/lib/python3.8/site-packages/sklearn/svm/_base.py:255: ConvergenceWarning: Solver terminated early (max_iter=100000).  Consider pre-processing your data with StandardScaler or MinMaxScaler.\n",
      "  warnings.warn('Solver terminated early (max_iter=%i).'\n",
      "/Users/benjamindeplus/.local/share/virtualenvs/Seattle2050-kF-VE2eh/lib/python3.8/site-packages/sklearn/svm/_base.py:255: ConvergenceWarning: Solver terminated early (max_iter=100000).  Consider pre-processing your data with StandardScaler or MinMaxScaler.\n",
      "  warnings.warn('Solver terminated early (max_iter=%i).'\n",
      "/Users/benjamindeplus/.local/share/virtualenvs/Seattle2050-kF-VE2eh/lib/python3.8/site-packages/sklearn/svm/_base.py:255: ConvergenceWarning: Solver terminated early (max_iter=100000).  Consider pre-processing your data with StandardScaler or MinMaxScaler.\n",
      "  warnings.warn('Solver terminated early (max_iter=%i).'\n",
      "/Users/benjamindeplus/.local/share/virtualenvs/Seattle2050-kF-VE2eh/lib/python3.8/site-packages/sklearn/svm/_base.py:255: ConvergenceWarning: Solver terminated early (max_iter=100000).  Consider pre-processing your data with StandardScaler or MinMaxScaler.\n",
      "  warnings.warn('Solver terminated early (max_iter=%i).'\n",
      "/Users/benjamindeplus/.local/share/virtualenvs/Seattle2050-kF-VE2eh/lib/python3.8/site-packages/sklearn/svm/_base.py:255: ConvergenceWarning: Solver terminated early (max_iter=100000).  Consider pre-processing your data with StandardScaler or MinMaxScaler.\n",
      "  warnings.warn('Solver terminated early (max_iter=%i).'\n",
      "/Users/benjamindeplus/.local/share/virtualenvs/Seattle2050-kF-VE2eh/lib/python3.8/site-packages/sklearn/svm/_base.py:255: ConvergenceWarning: Solver terminated early (max_iter=100000).  Consider pre-processing your data with StandardScaler or MinMaxScaler.\n",
      "  warnings.warn('Solver terminated early (max_iter=%i).'\n",
      "/Users/benjamindeplus/.local/share/virtualenvs/Seattle2050-kF-VE2eh/lib/python3.8/site-packages/sklearn/svm/_base.py:255: ConvergenceWarning: Solver terminated early (max_iter=100000).  Consider pre-processing your data with StandardScaler or MinMaxScaler.\n",
      "  warnings.warn('Solver terminated early (max_iter=%i).'\n",
      "/Users/benjamindeplus/.local/share/virtualenvs/Seattle2050-kF-VE2eh/lib/python3.8/site-packages/sklearn/svm/_base.py:255: ConvergenceWarning: Solver terminated early (max_iter=100000).  Consider pre-processing your data with StandardScaler or MinMaxScaler.\n",
      "  warnings.warn('Solver terminated early (max_iter=%i).'\n",
      "/Users/benjamindeplus/.local/share/virtualenvs/Seattle2050-kF-VE2eh/lib/python3.8/site-packages/sklearn/svm/_base.py:255: ConvergenceWarning: Solver terminated early (max_iter=100000).  Consider pre-processing your data with StandardScaler or MinMaxScaler.\n",
      "  warnings.warn('Solver terminated early (max_iter=%i).'\n",
      "/Users/benjamindeplus/.local/share/virtualenvs/Seattle2050-kF-VE2eh/lib/python3.8/site-packages/sklearn/svm/_base.py:255: ConvergenceWarning: Solver terminated early (max_iter=100000).  Consider pre-processing your data with StandardScaler or MinMaxScaler.\n",
      "  warnings.warn('Solver terminated early (max_iter=%i).'\n",
      "/Users/benjamindeplus/.local/share/virtualenvs/Seattle2050-kF-VE2eh/lib/python3.8/site-packages/sklearn/svm/_base.py:255: ConvergenceWarning: Solver terminated early (max_iter=100000).  Consider pre-processing your data with StandardScaler or MinMaxScaler.\n",
      "  warnings.warn('Solver terminated early (max_iter=%i).'\n"
     ]
    },
    {
     "name": "stdout",
     "output_type": "stream",
     "text": [
      "5 0.3709105313812048 {'C': 3.593813663804626} 1.3191769561663926\n"
     ]
    },
    {
     "name": "stderr",
     "output_type": "stream",
     "text": [
      "/Users/benjamindeplus/.local/share/virtualenvs/Seattle2050-kF-VE2eh/lib/python3.8/site-packages/sklearn/svm/_base.py:255: ConvergenceWarning: Solver terminated early (max_iter=100000).  Consider pre-processing your data with StandardScaler or MinMaxScaler.\n",
      "  warnings.warn('Solver terminated early (max_iter=%i).'\n",
      "/Users/benjamindeplus/.local/share/virtualenvs/Seattle2050-kF-VE2eh/lib/python3.8/site-packages/sklearn/svm/_base.py:255: ConvergenceWarning: Solver terminated early (max_iter=100000).  Consider pre-processing your data with StandardScaler or MinMaxScaler.\n",
      "  warnings.warn('Solver terminated early (max_iter=%i).'\n",
      "/Users/benjamindeplus/.local/share/virtualenvs/Seattle2050-kF-VE2eh/lib/python3.8/site-packages/sklearn/svm/_base.py:255: ConvergenceWarning: Solver terminated early (max_iter=100000).  Consider pre-processing your data with StandardScaler or MinMaxScaler.\n",
      "  warnings.warn('Solver terminated early (max_iter=%i).'\n",
      "/Users/benjamindeplus/.local/share/virtualenvs/Seattle2050-kF-VE2eh/lib/python3.8/site-packages/sklearn/svm/_base.py:255: ConvergenceWarning: Solver terminated early (max_iter=100000).  Consider pre-processing your data with StandardScaler or MinMaxScaler.\n",
      "  warnings.warn('Solver terminated early (max_iter=%i).'\n",
      "/Users/benjamindeplus/.local/share/virtualenvs/Seattle2050-kF-VE2eh/lib/python3.8/site-packages/sklearn/svm/_base.py:255: ConvergenceWarning: Solver terminated early (max_iter=100000).  Consider pre-processing your data with StandardScaler or MinMaxScaler.\n",
      "  warnings.warn('Solver terminated early (max_iter=%i).'\n",
      "/Users/benjamindeplus/.local/share/virtualenvs/Seattle2050-kF-VE2eh/lib/python3.8/site-packages/sklearn/svm/_base.py:255: ConvergenceWarning: Solver terminated early (max_iter=100000).  Consider pre-processing your data with StandardScaler or MinMaxScaler.\n",
      "  warnings.warn('Solver terminated early (max_iter=%i).'\n",
      "/Users/benjamindeplus/.local/share/virtualenvs/Seattle2050-kF-VE2eh/lib/python3.8/site-packages/sklearn/svm/_base.py:255: ConvergenceWarning: Solver terminated early (max_iter=100000).  Consider pre-processing your data with StandardScaler or MinMaxScaler.\n",
      "  warnings.warn('Solver terminated early (max_iter=%i).'\n",
      "/Users/benjamindeplus/.local/share/virtualenvs/Seattle2050-kF-VE2eh/lib/python3.8/site-packages/sklearn/svm/_base.py:255: ConvergenceWarning: Solver terminated early (max_iter=100000).  Consider pre-processing your data with StandardScaler or MinMaxScaler.\n",
      "  warnings.warn('Solver terminated early (max_iter=%i).'\n",
      "/Users/benjamindeplus/.local/share/virtualenvs/Seattle2050-kF-VE2eh/lib/python3.8/site-packages/sklearn/svm/_base.py:255: ConvergenceWarning: Solver terminated early (max_iter=100000).  Consider pre-processing your data with StandardScaler or MinMaxScaler.\n",
      "  warnings.warn('Solver terminated early (max_iter=%i).'\n",
      "/Users/benjamindeplus/.local/share/virtualenvs/Seattle2050-kF-VE2eh/lib/python3.8/site-packages/sklearn/svm/_base.py:255: ConvergenceWarning: Solver terminated early (max_iter=100000).  Consider pre-processing your data with StandardScaler or MinMaxScaler.\n",
      "  warnings.warn('Solver terminated early (max_iter=%i).'\n",
      "/Users/benjamindeplus/.local/share/virtualenvs/Seattle2050-kF-VE2eh/lib/python3.8/site-packages/sklearn/svm/_base.py:255: ConvergenceWarning: Solver terminated early (max_iter=100000).  Consider pre-processing your data with StandardScaler or MinMaxScaler.\n",
      "  warnings.warn('Solver terminated early (max_iter=%i).'\n",
      "/Users/benjamindeplus/.local/share/virtualenvs/Seattle2050-kF-VE2eh/lib/python3.8/site-packages/sklearn/svm/_base.py:255: ConvergenceWarning: Solver terminated early (max_iter=100000).  Consider pre-processing your data with StandardScaler or MinMaxScaler.\n",
      "  warnings.warn('Solver terminated early (max_iter=%i).'\n",
      "/Users/benjamindeplus/.local/share/virtualenvs/Seattle2050-kF-VE2eh/lib/python3.8/site-packages/sklearn/svm/_base.py:255: ConvergenceWarning: Solver terminated early (max_iter=100000).  Consider pre-processing your data with StandardScaler or MinMaxScaler.\n",
      "  warnings.warn('Solver terminated early (max_iter=%i).'\n",
      "/Users/benjamindeplus/.local/share/virtualenvs/Seattle2050-kF-VE2eh/lib/python3.8/site-packages/sklearn/svm/_base.py:255: ConvergenceWarning: Solver terminated early (max_iter=100000).  Consider pre-processing your data with StandardScaler or MinMaxScaler.\n",
      "  warnings.warn('Solver terminated early (max_iter=%i).'\n",
      "/Users/benjamindeplus/.local/share/virtualenvs/Seattle2050-kF-VE2eh/lib/python3.8/site-packages/sklearn/svm/_base.py:255: ConvergenceWarning: Solver terminated early (max_iter=100000).  Consider pre-processing your data with StandardScaler or MinMaxScaler.\n",
      "  warnings.warn('Solver terminated early (max_iter=%i).'\n",
      "/Users/benjamindeplus/.local/share/virtualenvs/Seattle2050-kF-VE2eh/lib/python3.8/site-packages/sklearn/svm/_base.py:255: ConvergenceWarning: Solver terminated early (max_iter=100000).  Consider pre-processing your data with StandardScaler or MinMaxScaler.\n",
      "  warnings.warn('Solver terminated early (max_iter=%i).'\n",
      "/Users/benjamindeplus/.local/share/virtualenvs/Seattle2050-kF-VE2eh/lib/python3.8/site-packages/sklearn/svm/_base.py:255: ConvergenceWarning: Solver terminated early (max_iter=100000).  Consider pre-processing your data with StandardScaler or MinMaxScaler.\n",
      "  warnings.warn('Solver terminated early (max_iter=%i).'\n",
      "/Users/benjamindeplus/.local/share/virtualenvs/Seattle2050-kF-VE2eh/lib/python3.8/site-packages/sklearn/svm/_base.py:255: ConvergenceWarning: Solver terminated early (max_iter=100000).  Consider pre-processing your data with StandardScaler or MinMaxScaler.\n",
      "  warnings.warn('Solver terminated early (max_iter=%i).'\n"
     ]
    },
    {
     "name": "stdout",
     "output_type": "stream",
     "text": [
      "6 0.38037537356568163 {'C': 3.593813663804626} 1.3191769561663926\n"
     ]
    },
    {
     "name": "stderr",
     "output_type": "stream",
     "text": [
      "/Users/benjamindeplus/.local/share/virtualenvs/Seattle2050-kF-VE2eh/lib/python3.8/site-packages/sklearn/svm/_base.py:255: ConvergenceWarning: Solver terminated early (max_iter=100000).  Consider pre-processing your data with StandardScaler or MinMaxScaler.\n",
      "  warnings.warn('Solver terminated early (max_iter=%i).'\n",
      "/Users/benjamindeplus/.local/share/virtualenvs/Seattle2050-kF-VE2eh/lib/python3.8/site-packages/sklearn/svm/_base.py:255: ConvergenceWarning: Solver terminated early (max_iter=100000).  Consider pre-processing your data with StandardScaler or MinMaxScaler.\n",
      "  warnings.warn('Solver terminated early (max_iter=%i).'\n",
      "/Users/benjamindeplus/.local/share/virtualenvs/Seattle2050-kF-VE2eh/lib/python3.8/site-packages/sklearn/svm/_base.py:255: ConvergenceWarning: Solver terminated early (max_iter=100000).  Consider pre-processing your data with StandardScaler or MinMaxScaler.\n",
      "  warnings.warn('Solver terminated early (max_iter=%i).'\n",
      "/Users/benjamindeplus/.local/share/virtualenvs/Seattle2050-kF-VE2eh/lib/python3.8/site-packages/sklearn/svm/_base.py:255: ConvergenceWarning: Solver terminated early (max_iter=100000).  Consider pre-processing your data with StandardScaler or MinMaxScaler.\n",
      "  warnings.warn('Solver terminated early (max_iter=%i).'\n",
      "/Users/benjamindeplus/.local/share/virtualenvs/Seattle2050-kF-VE2eh/lib/python3.8/site-packages/sklearn/svm/_base.py:255: ConvergenceWarning: Solver terminated early (max_iter=100000).  Consider pre-processing your data with StandardScaler or MinMaxScaler.\n",
      "  warnings.warn('Solver terminated early (max_iter=%i).'\n",
      "/Users/benjamindeplus/.local/share/virtualenvs/Seattle2050-kF-VE2eh/lib/python3.8/site-packages/sklearn/svm/_base.py:255: ConvergenceWarning: Solver terminated early (max_iter=100000).  Consider pre-processing your data with StandardScaler or MinMaxScaler.\n",
      "  warnings.warn('Solver terminated early (max_iter=%i).'\n",
      "/Users/benjamindeplus/.local/share/virtualenvs/Seattle2050-kF-VE2eh/lib/python3.8/site-packages/sklearn/svm/_base.py:255: ConvergenceWarning: Solver terminated early (max_iter=100000).  Consider pre-processing your data with StandardScaler or MinMaxScaler.\n",
      "  warnings.warn('Solver terminated early (max_iter=%i).'\n",
      "/Users/benjamindeplus/.local/share/virtualenvs/Seattle2050-kF-VE2eh/lib/python3.8/site-packages/sklearn/svm/_base.py:255: ConvergenceWarning: Solver terminated early (max_iter=100000).  Consider pre-processing your data with StandardScaler or MinMaxScaler.\n",
      "  warnings.warn('Solver terminated early (max_iter=%i).'\n",
      "/Users/benjamindeplus/.local/share/virtualenvs/Seattle2050-kF-VE2eh/lib/python3.8/site-packages/sklearn/svm/_base.py:255: ConvergenceWarning: Solver terminated early (max_iter=100000).  Consider pre-processing your data with StandardScaler or MinMaxScaler.\n",
      "  warnings.warn('Solver terminated early (max_iter=%i).'\n",
      "/Users/benjamindeplus/.local/share/virtualenvs/Seattle2050-kF-VE2eh/lib/python3.8/site-packages/sklearn/svm/_base.py:255: ConvergenceWarning: Solver terminated early (max_iter=100000).  Consider pre-processing your data with StandardScaler or MinMaxScaler.\n",
      "  warnings.warn('Solver terminated early (max_iter=%i).'\n",
      "/Users/benjamindeplus/.local/share/virtualenvs/Seattle2050-kF-VE2eh/lib/python3.8/site-packages/sklearn/svm/_base.py:255: ConvergenceWarning: Solver terminated early (max_iter=100000).  Consider pre-processing your data with StandardScaler or MinMaxScaler.\n",
      "  warnings.warn('Solver terminated early (max_iter=%i).'\n",
      "/Users/benjamindeplus/.local/share/virtualenvs/Seattle2050-kF-VE2eh/lib/python3.8/site-packages/sklearn/svm/_base.py:255: ConvergenceWarning: Solver terminated early (max_iter=100000).  Consider pre-processing your data with StandardScaler or MinMaxScaler.\n",
      "  warnings.warn('Solver terminated early (max_iter=%i).'\n",
      "/Users/benjamindeplus/.local/share/virtualenvs/Seattle2050-kF-VE2eh/lib/python3.8/site-packages/sklearn/svm/_base.py:255: ConvergenceWarning: Solver terminated early (max_iter=100000).  Consider pre-processing your data with StandardScaler or MinMaxScaler.\n",
      "  warnings.warn('Solver terminated early (max_iter=%i).'\n",
      "/Users/benjamindeplus/.local/share/virtualenvs/Seattle2050-kF-VE2eh/lib/python3.8/site-packages/sklearn/svm/_base.py:255: ConvergenceWarning: Solver terminated early (max_iter=100000).  Consider pre-processing your data with StandardScaler or MinMaxScaler.\n",
      "  warnings.warn('Solver terminated early (max_iter=%i).'\n",
      "/Users/benjamindeplus/.local/share/virtualenvs/Seattle2050-kF-VE2eh/lib/python3.8/site-packages/sklearn/svm/_base.py:255: ConvergenceWarning: Solver terminated early (max_iter=100000).  Consider pre-processing your data with StandardScaler or MinMaxScaler.\n",
      "  warnings.warn('Solver terminated early (max_iter=%i).'\n",
      "/Users/benjamindeplus/.local/share/virtualenvs/Seattle2050-kF-VE2eh/lib/python3.8/site-packages/sklearn/svm/_base.py:255: ConvergenceWarning: Solver terminated early (max_iter=100000).  Consider pre-processing your data with StandardScaler or MinMaxScaler.\n",
      "  warnings.warn('Solver terminated early (max_iter=%i).'\n",
      "/Users/benjamindeplus/.local/share/virtualenvs/Seattle2050-kF-VE2eh/lib/python3.8/site-packages/sklearn/svm/_base.py:255: ConvergenceWarning: Solver terminated early (max_iter=100000).  Consider pre-processing your data with StandardScaler or MinMaxScaler.\n",
      "  warnings.warn('Solver terminated early (max_iter=%i).'\n",
      "/Users/benjamindeplus/.local/share/virtualenvs/Seattle2050-kF-VE2eh/lib/python3.8/site-packages/sklearn/svm/_base.py:255: ConvergenceWarning: Solver terminated early (max_iter=100000).  Consider pre-processing your data with StandardScaler or MinMaxScaler.\n",
      "  warnings.warn('Solver terminated early (max_iter=%i).'\n",
      "/Users/benjamindeplus/.local/share/virtualenvs/Seattle2050-kF-VE2eh/lib/python3.8/site-packages/sklearn/svm/_base.py:255: ConvergenceWarning: Solver terminated early (max_iter=100000).  Consider pre-processing your data with StandardScaler or MinMaxScaler.\n",
      "  warnings.warn('Solver terminated early (max_iter=%i).'\n",
      "/Users/benjamindeplus/.local/share/virtualenvs/Seattle2050-kF-VE2eh/lib/python3.8/site-packages/sklearn/svm/_base.py:255: ConvergenceWarning: Solver terminated early (max_iter=100000).  Consider pre-processing your data with StandardScaler or MinMaxScaler.\n",
      "  warnings.warn('Solver terminated early (max_iter=%i).'\n",
      "/Users/benjamindeplus/.local/share/virtualenvs/Seattle2050-kF-VE2eh/lib/python3.8/site-packages/sklearn/svm/_base.py:255: ConvergenceWarning: Solver terminated early (max_iter=100000).  Consider pre-processing your data with StandardScaler or MinMaxScaler.\n",
      "  warnings.warn('Solver terminated early (max_iter=%i).'\n"
     ]
    },
    {
     "name": "stdout",
     "output_type": "stream",
     "text": [
      "7 0.3832525512789925 {'C': 3.593813663804626} 1.3191769561663926\n"
     ]
    }
   ],
   "source": [
    "SVR = svm.SVR(max_iter=100000)\n",
    "parameters = {\"C\": np.logspace(-5, 5, 10)}\n",
    "for cv in range(2, 8):\n",
    "    lr_svm = GridSearchCV(SVR, parameters, cv=cv)\n",
    "    lr_svm.fit(X_train, y_train.ravel())\n",
    "    Y_pred_svm = lr_svm.predict(X_test)\n",
    "    rmseLinearSVR = np.sqrt(metrics.mean_squared_error(y_test, Y_pred_svm))\n",
    "    print(cv, lr_svm.best_score_, lr_svm.best_params_ , rmseLinearSVR)"
   ]
  },
  {
   "cell_type": "markdown",
   "id": "listed-atlantic",
   "metadata": {},
   "source": [
    "# Graph Y_pred"
   ]
  },
  {
   "cell_type": "code",
   "execution_count": 769,
   "id": "nearby-stretch",
   "metadata": {},
   "outputs": [
    {
     "data": {
      "text/plain": [
       "Text(0, 0.5, 'CO2')"
      ]
     },
     "execution_count": 769,
     "metadata": {},
     "output_type": "execute_result"
    },
    {
     "data": {
      "image/png": "[encoded data removed]",
      "text/plain": [
       "<Figure size 1080x720 with 1 Axes>"
      ]
     },
     "metadata": {
      "needs_background": "light"
     },
     "output_type": "display_data"
    }
   ],
   "source": [
    "#A ajouter H2O pour aller à l'essentiel\n",
    "#print(X_test[:, 1])\n",
    "fig = plt.figure(figsize=(15, 10))\n",
    "plt.scatter(X_test[:, 1], y_test, color=\"black\", marker='s')\n",
    "plt.scatter(X_test[:, 1], Y_pred_lasso, color=\"green\", marker='o', label=\"Lasso Pred\")\n",
    "plt.scatter(X_test[:, 1], Y_pred_kernel_ridge, color=\"blue\", marker='o', label=\"Kernel Ridge\")\n",
    "plt.scatter(X_test[:, 1], Y_pred_reg_ridge, color=\"yellow\", marker='o', label=\"Ridge Regression\")\n",
    "plt.scatter(X_test[:, 1], Y_pred_svm, color=\"lightgreen\", marker='o', label=\"SVM\")\n",
    "plt.scatter(X_test[:, 1], Y_pred, color=\"orange\", marker='o', label=\"Linear Regression\")\n",
    "plt.legend(loc=\"lower right\", fontsize=14)\n",
    "#plt.plot(fpr, tpr, '-', lw=2, label='gamma=0.01, AUC=%.2f' % auc)\n",
    "\n",
    "# afficher la courbe ROC du modèle optimisé\n",
    "#plt.plot(fpr_cv, tpr_cv, '-', lw=2, label='gamma=%.1e, AUC=%.2f' % \\\n",
    "#         (gridSearch.best_params_['gamma'], auc_cv))\n",
    "#Ajout de la diagonale de 0.0 à 1.1\n",
    "#plt.plot([0,1], [0, 1])\n",
    "plt.xlabel(\"GFA\")\n",
    "plt.ylabel(\"CO2\")"
   ]
  },
  {
   "cell_type": "markdown",
   "id": "russian-texas",
   "metadata": {},
   "source": [
    "# Graph Errors"
   ]
  },
  {
   "cell_type": "code",
   "execution_count": 787,
   "id": "clean-address",
   "metadata": {},
   "outputs": [
    {
     "ename": "ValueError",
     "evalue": "x and y must have same first dimension, but have shapes (1,) and (10,)",
     "output_type": "error",
     "traceback": [
      "\u001b[0;31m---------------------------------------------------------------------------\u001b[0m",
      "\u001b[0;31mValueError\u001b[0m                                Traceback (most recent call last)",
      "\u001b[0;32m<ipython-input-787-175054b42fcf>\u001b[0m in \u001b[0;36m<module>\u001b[0;34m\u001b[0m\n\u001b[1;32m      1\u001b[0m \u001b[0mfig\u001b[0m \u001b[0;34m=\u001b[0m \u001b[0mplt\u001b[0m\u001b[0;34m.\u001b[0m\u001b[0mfigure\u001b[0m\u001b[0;34m(\u001b[0m\u001b[0mfigsize\u001b[0m\u001b[0;34m=\u001b[0m\u001b[0;34m(\u001b[0m\u001b[0;36m15\u001b[0m\u001b[0;34m,\u001b[0m \u001b[0;36m10\u001b[0m\u001b[0;34m)\u001b[0m\u001b[0;34m)\u001b[0m\u001b[0;34m\u001b[0m\u001b[0;34m\u001b[0m\u001b[0m\n\u001b[0;32m----> 2\u001b[0;31m \u001b[0mplt\u001b[0m\u001b[0;34m.\u001b[0m\u001b[0mplot\u001b[0m\u001b[0;34m(\u001b[0m\u001b[0mrmseLinearSVR\u001b[0m\u001b[0;34m,\u001b[0m \u001b[0mnp\u001b[0m\u001b[0;34m.\u001b[0m\u001b[0mlogspace\u001b[0m\u001b[0;34m(\u001b[0m\u001b[0;34m-\u001b[0m\u001b[0;36m5\u001b[0m\u001b[0;34m,\u001b[0m \u001b[0;36m5\u001b[0m\u001b[0;34m,\u001b[0m \u001b[0;36m10\u001b[0m\u001b[0;34m)\u001b[0m\u001b[0;34m,\u001b[0m \u001b[0mcolor\u001b[0m\u001b[0;34m=\u001b[0m\u001b[0;34m\"black\"\u001b[0m\u001b[0;34m,\u001b[0m \u001b[0mmarker\u001b[0m\u001b[0;34m=\u001b[0m\u001b[0;34m's'\u001b[0m\u001b[0;34m)\u001b[0m\u001b[0;34m\u001b[0m\u001b[0;34m\u001b[0m\u001b[0m\n\u001b[0m",
      "\u001b[0;32m~/.local/share/virtualenvs/Seattle2050-kF-VE2eh/lib/python3.8/site-packages/matplotlib/pyplot.py\u001b[0m in \u001b[0;36mplot\u001b[0;34m(scalex, scaley, data, *args, **kwargs)\u001b[0m\n\u001b[1;32m   2986\u001b[0m \u001b[0;34m@\u001b[0m\u001b[0m_copy_docstring_and_deprecators\u001b[0m\u001b[0;34m(\u001b[0m\u001b[0mAxes\u001b[0m\u001b[0;34m.\u001b[0m\u001b[0mplot\u001b[0m\u001b[0;34m)\u001b[0m\u001b[0;34m\u001b[0m\u001b[0;34m\u001b[0m\u001b[0m\n\u001b[1;32m   2987\u001b[0m \u001b[0;32mdef\u001b[0m \u001b[0mplot\u001b[0m\u001b[0;34m(\u001b[0m\u001b[0;34m*\u001b[0m\u001b[0margs\u001b[0m\u001b[0;34m,\u001b[0m \u001b[0mscalex\u001b[0m\u001b[0;34m=\u001b[0m\u001b[0;32mTrue\u001b[0m\u001b[0;34m,\u001b[0m \u001b[0mscaley\u001b[0m\u001b[0;34m=\u001b[0m\u001b[0;32mTrue\u001b[0m\u001b[0;34m,\u001b[0m \u001b[0mdata\u001b[0m\u001b[0;34m=\u001b[0m\u001b[0;32mNone\u001b[0m\u001b[0;34m,\u001b[0m \u001b[0;34m**\u001b[0m\u001b[0mkwargs\u001b[0m\u001b[0;34m)\u001b[0m\u001b[0;34m:\u001b[0m\u001b[0;34m\u001b[0m\u001b[0;34m\u001b[0m\u001b[0m\n\u001b[0;32m-> 2988\u001b[0;31m     return gca().plot(\n\u001b[0m\u001b[1;32m   2989\u001b[0m         \u001b[0;34m*\u001b[0m\u001b[0margs\u001b[0m\u001b[0;34m,\u001b[0m \u001b[0mscalex\u001b[0m\u001b[0;34m=\u001b[0m\u001b[0mscalex\u001b[0m\u001b[0;34m,\u001b[0m \u001b[0mscaley\u001b[0m\u001b[0;34m=\u001b[0m\u001b[0mscaley\u001b[0m\u001b[0;34m,\u001b[0m\u001b[0;34m\u001b[0m\u001b[0;34m\u001b[0m\u001b[0m\n\u001b[1;32m   2990\u001b[0m         **({\"data\": data} if data is not None else {}), **kwargs)\n",
      "\u001b[0;32m~/.local/share/virtualenvs/Seattle2050-kF-VE2eh/lib/python3.8/site-packages/matplotlib/axes/_axes.py\u001b[0m in \u001b[0;36mplot\u001b[0;34m(self, scalex, scaley, data, *args, **kwargs)\u001b[0m\n\u001b[1;32m   1603\u001b[0m         \"\"\"\n\u001b[1;32m   1604\u001b[0m         \u001b[0mkwargs\u001b[0m \u001b[0;34m=\u001b[0m \u001b[0mcbook\u001b[0m\u001b[0;34m.\u001b[0m\u001b[0mnormalize_kwargs\u001b[0m\u001b[0;34m(\u001b[0m\u001b[0mkwargs\u001b[0m\u001b[0;34m,\u001b[0m \u001b[0mmlines\u001b[0m\u001b[0;34m.\u001b[0m\u001b[0mLine2D\u001b[0m\u001b[0;34m)\u001b[0m\u001b[0;34m\u001b[0m\u001b[0;34m\u001b[0m\u001b[0m\n\u001b[0;32m-> 1605\u001b[0;31m         \u001b[0mlines\u001b[0m \u001b[0;34m=\u001b[0m \u001b[0;34m[\u001b[0m\u001b[0;34m*\u001b[0m\u001b[0mself\u001b[0m\u001b[0;34m.\u001b[0m\u001b[0m_get_lines\u001b[0m\u001b[0;34m(\u001b[0m\u001b[0;34m*\u001b[0m\u001b[0margs\u001b[0m\u001b[0;34m,\u001b[0m \u001b[0mdata\u001b[0m\u001b[0;34m=\u001b[0m\u001b[0mdata\u001b[0m\u001b[0;34m,\u001b[0m \u001b[0;34m**\u001b[0m\u001b[0mkwargs\u001b[0m\u001b[0;34m)\u001b[0m\u001b[0;34m]\u001b[0m\u001b[0;34m\u001b[0m\u001b[0;34m\u001b[0m\u001b[0m\n\u001b[0m\u001b[1;32m   1606\u001b[0m         \u001b[0;32mfor\u001b[0m \u001b[0mline\u001b[0m \u001b[0;32min\u001b[0m \u001b[0mlines\u001b[0m\u001b[0;34m:\u001b[0m\u001b[0;34m\u001b[0m\u001b[0;34m\u001b[0m\u001b[0m\n\u001b[1;32m   1607\u001b[0m             \u001b[0mself\u001b[0m\u001b[0;34m.\u001b[0m\u001b[0madd_line\u001b[0m\u001b[0;34m(\u001b[0m\u001b[0mline\u001b[0m\u001b[0;34m)\u001b[0m\u001b[0;34m\u001b[0m\u001b[0;34m\u001b[0m\u001b[0m\n",
      "\u001b[0;32m~/.local/share/virtualenvs/Seattle2050-kF-VE2eh/lib/python3.8/site-packages/matplotlib/axes/_base.py\u001b[0m in \u001b[0;36m__call__\u001b[0;34m(self, data, *args, **kwargs)\u001b[0m\n\u001b[1;32m    313\u001b[0m                 \u001b[0mthis\u001b[0m \u001b[0;34m+=\u001b[0m \u001b[0margs\u001b[0m\u001b[0;34m[\u001b[0m\u001b[0;36m0\u001b[0m\u001b[0;34m]\u001b[0m\u001b[0;34m,\u001b[0m\u001b[0;34m\u001b[0m\u001b[0;34m\u001b[0m\u001b[0m\n\u001b[1;32m    314\u001b[0m                 \u001b[0margs\u001b[0m \u001b[0;34m=\u001b[0m \u001b[0margs\u001b[0m\u001b[0;34m[\u001b[0m\u001b[0;36m1\u001b[0m\u001b[0;34m:\u001b[0m\u001b[0;34m]\u001b[0m\u001b[0;34m\u001b[0m\u001b[0;34m\u001b[0m\u001b[0m\n\u001b[0;32m--> 315\u001b[0;31m             \u001b[0;32myield\u001b[0m \u001b[0;32mfrom\u001b[0m \u001b[0mself\u001b[0m\u001b[0;34m.\u001b[0m\u001b[0m_plot_args\u001b[0m\u001b[0;34m(\u001b[0m\u001b[0mthis\u001b[0m\u001b[0;34m,\u001b[0m \u001b[0mkwargs\u001b[0m\u001b[0;34m)\u001b[0m\u001b[0;34m\u001b[0m\u001b[0;34m\u001b[0m\u001b[0m\n\u001b[0m\u001b[1;32m    316\u001b[0m \u001b[0;34m\u001b[0m\u001b[0m\n\u001b[1;32m    317\u001b[0m     \u001b[0;32mdef\u001b[0m \u001b[0mget_next_color\u001b[0m\u001b[0;34m(\u001b[0m\u001b[0mself\u001b[0m\u001b[0;34m)\u001b[0m\u001b[0;34m:\u001b[0m\u001b[0;34m\u001b[0m\u001b[0;34m\u001b[0m\u001b[0m\n",
      "\u001b[0;32m~/.local/share/virtualenvs/Seattle2050-kF-VE2eh/lib/python3.8/site-packages/matplotlib/axes/_base.py\u001b[0m in \u001b[0;36m_plot_args\u001b[0;34m(self, tup, kwargs, return_kwargs)\u001b[0m\n\u001b[1;32m    499\u001b[0m \u001b[0;34m\u001b[0m\u001b[0m\n\u001b[1;32m    500\u001b[0m         \u001b[0;32mif\u001b[0m \u001b[0mx\u001b[0m\u001b[0;34m.\u001b[0m\u001b[0mshape\u001b[0m\u001b[0;34m[\u001b[0m\u001b[0;36m0\u001b[0m\u001b[0;34m]\u001b[0m \u001b[0;34m!=\u001b[0m \u001b[0my\u001b[0m\u001b[0;34m.\u001b[0m\u001b[0mshape\u001b[0m\u001b[0;34m[\u001b[0m\u001b[0;36m0\u001b[0m\u001b[0;34m]\u001b[0m\u001b[0;34m:\u001b[0m\u001b[0;34m\u001b[0m\u001b[0;34m\u001b[0m\u001b[0m\n\u001b[0;32m--> 501\u001b[0;31m             raise ValueError(f\"x and y must have same first dimension, but \"\n\u001b[0m\u001b[1;32m    502\u001b[0m                              f\"have shapes {x.shape} and {y.shape}\")\n\u001b[1;32m    503\u001b[0m         \u001b[0;32mif\u001b[0m \u001b[0mx\u001b[0m\u001b[0;34m.\u001b[0m\u001b[0mndim\u001b[0m \u001b[0;34m>\u001b[0m \u001b[0;36m2\u001b[0m \u001b[0;32mor\u001b[0m \u001b[0my\u001b[0m\u001b[0;34m.\u001b[0m\u001b[0mndim\u001b[0m \u001b[0;34m>\u001b[0m \u001b[0;36m2\u001b[0m\u001b[0;34m:\u001b[0m\u001b[0;34m\u001b[0m\u001b[0;34m\u001b[0m\u001b[0m\n",
      "\u001b[0;31mValueError\u001b[0m: x and y must have same first dimension, but have shapes (1,) and (10,)"
     ]
    },
    {
     "data": {
      "image/png": "[encoded data removed]",
      "text/plain": [
       "<Figure size 1080x720 with 1 Axes>"
      ]
     },
     "metadata": {
      "needs_background": "light"
     },
     "output_type": "display_data"
    }
   ],
   "source": [
    "fig = plt.figure(figsize=(15, 10))\n",
    "plt.plot(rmseLinearSVR, np.logspace(-5, 5, 10), color=\"black\", marker='s')"
   ]
  },
  {
   "cell_type": "code",
   "execution_count": null,
   "id": "broke-coupon",
   "metadata": {},
   "outputs": [],
   "source": []
  }
 ],
 "metadata": {
  "kernelspec": {
   "display_name": "Python 3",
   "language": "python",
   "name": "python3"
  },
  "language_info": {
   "codemirror_mode": {
    "name": "ipython",
    "version": 3
   },
   "file_extension": ".py",
   "mimetype": "text/x-python",
   "name": "python",
   "nbconvert_exporter": "python",
   "pygments_lexer": "ipython3",
   "version": "3.8.2"
  }
 },
 "nbformat": 4,
 "nbformat_minor": 5
}
